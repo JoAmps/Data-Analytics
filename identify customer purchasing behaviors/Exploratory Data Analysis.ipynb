{
 "cells": [
  {
   "cell_type": "code",
   "execution_count": 247,
   "metadata": {},
   "outputs": [],
   "source": [
    "#import the neccesary libraries\n",
    "import pandas as pd\n",
    "import numpy as np\n",
    "import matplotlib.pyplot as plt\n",
    "import seaborn as sns\n",
    "import datetime as dt"
   ]
  },
  {
   "cell_type": "code",
   "execution_count": 248,
   "metadata": {},
   "outputs": [
    {
     "data": {
      "text/html": [
       "<div>\n",
       "<style scoped>\n",
       "    .dataframe tbody tr th:only-of-type {\n",
       "        vertical-align: middle;\n",
       "    }\n",
       "\n",
       "    .dataframe tbody tr th {\n",
       "        vertical-align: top;\n",
       "    }\n",
       "\n",
       "    .dataframe thead th {\n",
       "        text-align: right;\n",
       "    }\n",
       "</style>\n",
       "<table border=\"1\" class=\"dataframe\">\n",
       "  <thead>\n",
       "    <tr style=\"text-align: right;\">\n",
       "      <th></th>\n",
       "      <th>Unnamed: 0</th>\n",
       "      <th>date</th>\n",
       "      <th>store_nbr</th>\n",
       "      <th>lylty_card_nbr</th>\n",
       "      <th>txn_id</th>\n",
       "      <th>prod_nbr</th>\n",
       "      <th>prod_name</th>\n",
       "      <th>prod_qty</th>\n",
       "      <th>tot_sales</th>\n",
       "      <th>lifestage</th>\n",
       "      <th>premium_customer</th>\n",
       "    </tr>\n",
       "  </thead>\n",
       "  <tbody>\n",
       "    <tr>\n",
       "      <th>0</th>\n",
       "      <td>0</td>\n",
       "      <td>43390</td>\n",
       "      <td>1</td>\n",
       "      <td>10.00</td>\n",
       "      <td>0.01</td>\n",
       "      <td>5</td>\n",
       "      <td>Natural Chip        Compny SeaSalt175g</td>\n",
       "      <td>2</td>\n",
       "      <td>6.0</td>\n",
       "      <td>YOUNG SINGLES/COUPLES</td>\n",
       "      <td>Premium</td>\n",
       "    </tr>\n",
       "    <tr>\n",
       "      <th>1</th>\n",
       "      <td>1</td>\n",
       "      <td>43599</td>\n",
       "      <td>1</td>\n",
       "      <td>13.07</td>\n",
       "      <td>3.48</td>\n",
       "      <td>66</td>\n",
       "      <td>CCs Nacho Cheese    175g</td>\n",
       "      <td>3</td>\n",
       "      <td>6.3</td>\n",
       "      <td>MIDAGE SINGLES/COUPLES</td>\n",
       "      <td>Budget</td>\n",
       "    </tr>\n",
       "    <tr>\n",
       "      <th>2</th>\n",
       "      <td>2</td>\n",
       "      <td>43414</td>\n",
       "      <td>1</td>\n",
       "      <td>13.07</td>\n",
       "      <td>3.46</td>\n",
       "      <td>96</td>\n",
       "      <td>WW Original Stacked Chips 160g</td>\n",
       "      <td>2</td>\n",
       "      <td>3.8</td>\n",
       "      <td>MIDAGE SINGLES/COUPLES</td>\n",
       "      <td>Budget</td>\n",
       "    </tr>\n",
       "    <tr>\n",
       "      <th>3</th>\n",
       "      <td>3</td>\n",
       "      <td>43533</td>\n",
       "      <td>1</td>\n",
       "      <td>13.07</td>\n",
       "      <td>3.47</td>\n",
       "      <td>54</td>\n",
       "      <td>CCs Original 175g</td>\n",
       "      <td>1</td>\n",
       "      <td>2.1</td>\n",
       "      <td>MIDAGE SINGLES/COUPLES</td>\n",
       "      <td>Budget</td>\n",
       "    </tr>\n",
       "    <tr>\n",
       "      <th>4</th>\n",
       "      <td>4</td>\n",
       "      <td>43605</td>\n",
       "      <td>1</td>\n",
       "      <td>13.43</td>\n",
       "      <td>3.83</td>\n",
       "      <td>61</td>\n",
       "      <td>Smiths Crinkle Cut  Chips Chicken 170g</td>\n",
       "      <td>2</td>\n",
       "      <td>2.9</td>\n",
       "      <td>MIDAGE SINGLES/COUPLES</td>\n",
       "      <td>Budget</td>\n",
       "    </tr>\n",
       "  </tbody>\n",
       "</table>\n",
       "</div>"
      ],
      "text/plain": [
       "   Unnamed: 0   date  store_nbr  lylty_card_nbr  txn_id  prod_nbr  \\\n",
       "0           0  43390          1           10.00    0.01         5   \n",
       "1           1  43599          1           13.07    3.48        66   \n",
       "2           2  43414          1           13.07    3.46        96   \n",
       "3           3  43533          1           13.07    3.47        54   \n",
       "4           4  43605          1           13.43    3.83        61   \n",
       "\n",
       "                                prod_name  prod_qty  tot_sales  \\\n",
       "0  Natural Chip        Compny SeaSalt175g         2        6.0   \n",
       "1                CCs Nacho Cheese    175g         3        6.3   \n",
       "2          WW Original Stacked Chips 160g         2        3.8   \n",
       "3                       CCs Original 175g         1        2.1   \n",
       "4  Smiths Crinkle Cut  Chips Chicken 170g         2        2.9   \n",
       "\n",
       "                lifestage premium_customer  \n",
       "0   YOUNG SINGLES/COUPLES          Premium  \n",
       "1  MIDAGE SINGLES/COUPLES           Budget  \n",
       "2  MIDAGE SINGLES/COUPLES           Budget  \n",
       "3  MIDAGE SINGLES/COUPLES           Budget  \n",
       "4  MIDAGE SINGLES/COUPLES           Budget  "
      ]
     },
     "execution_count": 248,
     "metadata": {},
     "output_type": "execute_result"
    }
   ],
   "source": [
    "data=pd.read_csv('clean_data.csv')\n",
    "data.head()"
   ]
  },
  {
   "cell_type": "code",
   "execution_count": 249,
   "metadata": {},
   "outputs": [],
   "source": [
    "#drop unneccesary columns\n",
    "data=data.drop(columns='Unnamed: 0')"
   ]
  },
  {
   "cell_type": "code",
   "execution_count": 250,
   "metadata": {},
   "outputs": [
    {
     "data": {
      "text/html": [
       "<div>\n",
       "<style scoped>\n",
       "    .dataframe tbody tr th:only-of-type {\n",
       "        vertical-align: middle;\n",
       "    }\n",
       "\n",
       "    .dataframe tbody tr th {\n",
       "        vertical-align: top;\n",
       "    }\n",
       "\n",
       "    .dataframe thead th {\n",
       "        text-align: right;\n",
       "    }\n",
       "</style>\n",
       "<table border=\"1\" class=\"dataframe\">\n",
       "  <thead>\n",
       "    <tr style=\"text-align: right;\">\n",
       "      <th></th>\n",
       "      <th>date</th>\n",
       "      <th>store_nbr</th>\n",
       "      <th>lylty_card_nbr</th>\n",
       "      <th>txn_id</th>\n",
       "      <th>prod_nbr</th>\n",
       "      <th>prod_name</th>\n",
       "      <th>prod_qty</th>\n",
       "      <th>tot_sales</th>\n",
       "      <th>lifestage</th>\n",
       "      <th>premium_customer</th>\n",
       "    </tr>\n",
       "  </thead>\n",
       "  <tbody>\n",
       "    <tr>\n",
       "      <th>0</th>\n",
       "      <td>43390</td>\n",
       "      <td>1</td>\n",
       "      <td>10.00</td>\n",
       "      <td>0.01</td>\n",
       "      <td>5</td>\n",
       "      <td>Natural Chip        Compny SeaSalt175g</td>\n",
       "      <td>2</td>\n",
       "      <td>6.0</td>\n",
       "      <td>YOUNG SINGLES/COUPLES</td>\n",
       "      <td>Premium</td>\n",
       "    </tr>\n",
       "    <tr>\n",
       "      <th>1</th>\n",
       "      <td>43599</td>\n",
       "      <td>1</td>\n",
       "      <td>13.07</td>\n",
       "      <td>3.48</td>\n",
       "      <td>66</td>\n",
       "      <td>CCs Nacho Cheese    175g</td>\n",
       "      <td>3</td>\n",
       "      <td>6.3</td>\n",
       "      <td>MIDAGE SINGLES/COUPLES</td>\n",
       "      <td>Budget</td>\n",
       "    </tr>\n",
       "    <tr>\n",
       "      <th>2</th>\n",
       "      <td>43414</td>\n",
       "      <td>1</td>\n",
       "      <td>13.07</td>\n",
       "      <td>3.46</td>\n",
       "      <td>96</td>\n",
       "      <td>WW Original Stacked Chips 160g</td>\n",
       "      <td>2</td>\n",
       "      <td>3.8</td>\n",
       "      <td>MIDAGE SINGLES/COUPLES</td>\n",
       "      <td>Budget</td>\n",
       "    </tr>\n",
       "    <tr>\n",
       "      <th>3</th>\n",
       "      <td>43533</td>\n",
       "      <td>1</td>\n",
       "      <td>13.07</td>\n",
       "      <td>3.47</td>\n",
       "      <td>54</td>\n",
       "      <td>CCs Original 175g</td>\n",
       "      <td>1</td>\n",
       "      <td>2.1</td>\n",
       "      <td>MIDAGE SINGLES/COUPLES</td>\n",
       "      <td>Budget</td>\n",
       "    </tr>\n",
       "    <tr>\n",
       "      <th>4</th>\n",
       "      <td>43605</td>\n",
       "      <td>1</td>\n",
       "      <td>13.43</td>\n",
       "      <td>3.83</td>\n",
       "      <td>61</td>\n",
       "      <td>Smiths Crinkle Cut  Chips Chicken 170g</td>\n",
       "      <td>2</td>\n",
       "      <td>2.9</td>\n",
       "      <td>MIDAGE SINGLES/COUPLES</td>\n",
       "      <td>Budget</td>\n",
       "    </tr>\n",
       "  </tbody>\n",
       "</table>\n",
       "</div>"
      ],
      "text/plain": [
       "    date  store_nbr  lylty_card_nbr  txn_id  prod_nbr  \\\n",
       "0  43390          1           10.00    0.01         5   \n",
       "1  43599          1           13.07    3.48        66   \n",
       "2  43414          1           13.07    3.46        96   \n",
       "3  43533          1           13.07    3.47        54   \n",
       "4  43605          1           13.43    3.83        61   \n",
       "\n",
       "                                prod_name  prod_qty  tot_sales  \\\n",
       "0  Natural Chip        Compny SeaSalt175g         2        6.0   \n",
       "1                CCs Nacho Cheese    175g         3        6.3   \n",
       "2          WW Original Stacked Chips 160g         2        3.8   \n",
       "3                       CCs Original 175g         1        2.1   \n",
       "4  Smiths Crinkle Cut  Chips Chicken 170g         2        2.9   \n",
       "\n",
       "                lifestage premium_customer  \n",
       "0   YOUNG SINGLES/COUPLES          Premium  \n",
       "1  MIDAGE SINGLES/COUPLES           Budget  \n",
       "2  MIDAGE SINGLES/COUPLES           Budget  \n",
       "3  MIDAGE SINGLES/COUPLES           Budget  \n",
       "4  MIDAGE SINGLES/COUPLES           Budget  "
      ]
     },
     "execution_count": 250,
     "metadata": {},
     "output_type": "execute_result"
    }
   ],
   "source": [
    "data.head()"
   ]
  },
  {
   "cell_type": "code",
   "execution_count": 251,
   "metadata": {},
   "outputs": [
    {
     "data": {
      "text/plain": [
       "(264141, 10)"
      ]
     },
     "execution_count": 251,
     "metadata": {},
     "output_type": "execute_result"
    }
   ],
   "source": [
    "data.shape"
   ]
  },
  {
   "cell_type": "markdown",
   "metadata": {},
   "source": [
    "### oops, forgot to change the date format in the data cleaning stage, so would do it now"
   ]
  },
  {
   "cell_type": "code",
   "execution_count": 252,
   "metadata": {},
   "outputs": [],
   "source": [
    "#fix datetype\n",
    "date_offsets = data['date']\n",
    "base_date = pd.Timestamp('1901-01-01')  # check this!\n",
    "data['date'] = [\n",
    "    base_date + pd.DateOffset(date_offset) \n",
    "    for date_offset in date_offsets\n",
    "]"
   ]
  },
  {
   "cell_type": "code",
   "execution_count": 253,
   "metadata": {},
   "outputs": [
    {
     "data": {
      "text/html": [
       "<div>\n",
       "<style scoped>\n",
       "    .dataframe tbody tr th:only-of-type {\n",
       "        vertical-align: middle;\n",
       "    }\n",
       "\n",
       "    .dataframe tbody tr th {\n",
       "        vertical-align: top;\n",
       "    }\n",
       "\n",
       "    .dataframe thead th {\n",
       "        text-align: right;\n",
       "    }\n",
       "</style>\n",
       "<table border=\"1\" class=\"dataframe\">\n",
       "  <thead>\n",
       "    <tr style=\"text-align: right;\">\n",
       "      <th></th>\n",
       "      <th>date</th>\n",
       "      <th>store_nbr</th>\n",
       "      <th>lylty_card_nbr</th>\n",
       "      <th>txn_id</th>\n",
       "      <th>prod_nbr</th>\n",
       "      <th>prod_name</th>\n",
       "      <th>prod_qty</th>\n",
       "      <th>tot_sales</th>\n",
       "      <th>lifestage</th>\n",
       "      <th>premium_customer</th>\n",
       "    </tr>\n",
       "  </thead>\n",
       "  <tbody>\n",
       "    <tr>\n",
       "      <th>0</th>\n",
       "      <td>2019-10-19</td>\n",
       "      <td>1</td>\n",
       "      <td>10.00</td>\n",
       "      <td>0.01</td>\n",
       "      <td>5</td>\n",
       "      <td>Natural Chip        Compny SeaSalt175g</td>\n",
       "      <td>2</td>\n",
       "      <td>6.0</td>\n",
       "      <td>YOUNG SINGLES/COUPLES</td>\n",
       "      <td>Premium</td>\n",
       "    </tr>\n",
       "    <tr>\n",
       "      <th>1</th>\n",
       "      <td>2020-05-15</td>\n",
       "      <td>1</td>\n",
       "      <td>13.07</td>\n",
       "      <td>3.48</td>\n",
       "      <td>66</td>\n",
       "      <td>CCs Nacho Cheese    175g</td>\n",
       "      <td>3</td>\n",
       "      <td>6.3</td>\n",
       "      <td>MIDAGE SINGLES/COUPLES</td>\n",
       "      <td>Budget</td>\n",
       "    </tr>\n",
       "    <tr>\n",
       "      <th>2</th>\n",
       "      <td>2019-11-12</td>\n",
       "      <td>1</td>\n",
       "      <td>13.07</td>\n",
       "      <td>3.46</td>\n",
       "      <td>96</td>\n",
       "      <td>WW Original Stacked Chips 160g</td>\n",
       "      <td>2</td>\n",
       "      <td>3.8</td>\n",
       "      <td>MIDAGE SINGLES/COUPLES</td>\n",
       "      <td>Budget</td>\n",
       "    </tr>\n",
       "    <tr>\n",
       "      <th>3</th>\n",
       "      <td>2020-03-10</td>\n",
       "      <td>1</td>\n",
       "      <td>13.07</td>\n",
       "      <td>3.47</td>\n",
       "      <td>54</td>\n",
       "      <td>CCs Original 175g</td>\n",
       "      <td>1</td>\n",
       "      <td>2.1</td>\n",
       "      <td>MIDAGE SINGLES/COUPLES</td>\n",
       "      <td>Budget</td>\n",
       "    </tr>\n",
       "    <tr>\n",
       "      <th>4</th>\n",
       "      <td>2020-05-21</td>\n",
       "      <td>1</td>\n",
       "      <td>13.43</td>\n",
       "      <td>3.83</td>\n",
       "      <td>61</td>\n",
       "      <td>Smiths Crinkle Cut  Chips Chicken 170g</td>\n",
       "      <td>2</td>\n",
       "      <td>2.9</td>\n",
       "      <td>MIDAGE SINGLES/COUPLES</td>\n",
       "      <td>Budget</td>\n",
       "    </tr>\n",
       "  </tbody>\n",
       "</table>\n",
       "</div>"
      ],
      "text/plain": [
       "        date  store_nbr  lylty_card_nbr  txn_id  prod_nbr  \\\n",
       "0 2019-10-19          1           10.00    0.01         5   \n",
       "1 2020-05-15          1           13.07    3.48        66   \n",
       "2 2019-11-12          1           13.07    3.46        96   \n",
       "3 2020-03-10          1           13.07    3.47        54   \n",
       "4 2020-05-21          1           13.43    3.83        61   \n",
       "\n",
       "                                prod_name  prod_qty  tot_sales  \\\n",
       "0  Natural Chip        Compny SeaSalt175g         2        6.0   \n",
       "1                CCs Nacho Cheese    175g         3        6.3   \n",
       "2          WW Original Stacked Chips 160g         2        3.8   \n",
       "3                       CCs Original 175g         1        2.1   \n",
       "4  Smiths Crinkle Cut  Chips Chicken 170g         2        2.9   \n",
       "\n",
       "                lifestage premium_customer  \n",
       "0   YOUNG SINGLES/COUPLES          Premium  \n",
       "1  MIDAGE SINGLES/COUPLES           Budget  \n",
       "2  MIDAGE SINGLES/COUPLES           Budget  \n",
       "3  MIDAGE SINGLES/COUPLES           Budget  \n",
       "4  MIDAGE SINGLES/COUPLES           Budget  "
      ]
     },
     "execution_count": 253,
     "metadata": {},
     "output_type": "execute_result"
    }
   ],
   "source": [
    "data.head()"
   ]
  },
  {
   "cell_type": "code",
   "execution_count": 254,
   "metadata": {},
   "outputs": [
    {
     "data": {
      "text/plain": [
       "2019-12-26    939\n",
       "2019-12-25    917\n",
       "2019-12-24    915\n",
       "2019-12-21    906\n",
       "2019-12-20    862\n",
       "             ... \n",
       "2019-11-27    648\n",
       "2020-05-18    645\n",
       "2019-08-22    642\n",
       "2020-05-19    631\n",
       "2020-05-16    631\n",
       "Name: date, Length: 364, dtype: int64"
      ]
     },
     "execution_count": 254,
     "metadata": {},
     "output_type": "execute_result"
    }
   ],
   "source": [
    "data['date'].value_counts()"
   ]
  },
  {
   "cell_type": "code",
   "execution_count": 255,
   "metadata": {},
   "outputs": [
    {
     "data": {
      "text/plain": [
       "Kettle Tortilla ChpsHny&Jlpno Chili 150g    3285\n",
       "Kettle Mozzarella   Basil & Pesto 175g      3277\n",
       "Tyrrells Crisps     Ched & Chives 165g      3264\n",
       "Cobs Popd Sea Salt  Chips 110g              3259\n",
       "Cobs Popd Swt/Chlli &Sr/Cream Chips 110g    3259\n",
       "                                            ... \n",
       "Woolworths Medium   Salsa 300g              1430\n",
       "RRD Pc Sea Salt     165g                    1428\n",
       "French Fries Potato Chips 175g              1418\n",
       "NCC Sour Cream &    Garden Chives 175g      1416\n",
       "WW Crinkle Cut      Original 175g           1410\n",
       "Name: prod_name, Length: 114, dtype: int64"
      ]
     },
     "execution_count": 255,
     "metadata": {},
     "output_type": "execute_result"
    }
   ],
   "source": [
    "data['prod_name'].value_counts()"
   ]
  },
  {
   "cell_type": "code",
   "execution_count": 256,
   "metadata": {},
   "outputs": [],
   "source": [
    "#convert all the texts to lowercase\n",
    "data['prod_name']=data['prod_name'].str.lower()\n",
    "data['lifestage']=data['lifestage'].str.lower()\n",
    "data['premium_customer']=data['premium_customer'].str.lower()"
   ]
  },
  {
   "cell_type": "code",
   "execution_count": 257,
   "metadata": {},
   "outputs": [],
   "source": [
    "#data['chips_or_not'] = \\\n",
    " #   np.where(data['prod_name'].str.contains('chip'), 1, 0)"
   ]
  },
  {
   "cell_type": "code",
   "execution_count": 258,
   "metadata": {},
   "outputs": [
    {
     "data": {
      "text/html": [
       "<div>\n",
       "<style scoped>\n",
       "    .dataframe tbody tr th:only-of-type {\n",
       "        vertical-align: middle;\n",
       "    }\n",
       "\n",
       "    .dataframe tbody tr th {\n",
       "        vertical-align: top;\n",
       "    }\n",
       "\n",
       "    .dataframe thead th {\n",
       "        text-align: right;\n",
       "    }\n",
       "</style>\n",
       "<table border=\"1\" class=\"dataframe\">\n",
       "  <thead>\n",
       "    <tr style=\"text-align: right;\">\n",
       "      <th></th>\n",
       "      <th>date</th>\n",
       "      <th>store_nbr</th>\n",
       "      <th>lylty_card_nbr</th>\n",
       "      <th>txn_id</th>\n",
       "      <th>prod_nbr</th>\n",
       "      <th>prod_name</th>\n",
       "      <th>prod_qty</th>\n",
       "      <th>tot_sales</th>\n",
       "      <th>lifestage</th>\n",
       "      <th>premium_customer</th>\n",
       "    </tr>\n",
       "  </thead>\n",
       "  <tbody>\n",
       "    <tr>\n",
       "      <th>0</th>\n",
       "      <td>2019-10-19</td>\n",
       "      <td>1</td>\n",
       "      <td>10.00</td>\n",
       "      <td>0.01</td>\n",
       "      <td>5</td>\n",
       "      <td>natural chip        compny seasalt175g</td>\n",
       "      <td>2</td>\n",
       "      <td>6.0</td>\n",
       "      <td>young singles/couples</td>\n",
       "      <td>premium</td>\n",
       "    </tr>\n",
       "    <tr>\n",
       "      <th>1</th>\n",
       "      <td>2020-05-15</td>\n",
       "      <td>1</td>\n",
       "      <td>13.07</td>\n",
       "      <td>3.48</td>\n",
       "      <td>66</td>\n",
       "      <td>ccs nacho cheese    175g</td>\n",
       "      <td>3</td>\n",
       "      <td>6.3</td>\n",
       "      <td>midage singles/couples</td>\n",
       "      <td>budget</td>\n",
       "    </tr>\n",
       "    <tr>\n",
       "      <th>2</th>\n",
       "      <td>2019-11-12</td>\n",
       "      <td>1</td>\n",
       "      <td>13.07</td>\n",
       "      <td>3.46</td>\n",
       "      <td>96</td>\n",
       "      <td>ww original stacked chips 160g</td>\n",
       "      <td>2</td>\n",
       "      <td>3.8</td>\n",
       "      <td>midage singles/couples</td>\n",
       "      <td>budget</td>\n",
       "    </tr>\n",
       "    <tr>\n",
       "      <th>3</th>\n",
       "      <td>2020-03-10</td>\n",
       "      <td>1</td>\n",
       "      <td>13.07</td>\n",
       "      <td>3.47</td>\n",
       "      <td>54</td>\n",
       "      <td>ccs original 175g</td>\n",
       "      <td>1</td>\n",
       "      <td>2.1</td>\n",
       "      <td>midage singles/couples</td>\n",
       "      <td>budget</td>\n",
       "    </tr>\n",
       "    <tr>\n",
       "      <th>4</th>\n",
       "      <td>2020-05-21</td>\n",
       "      <td>1</td>\n",
       "      <td>13.43</td>\n",
       "      <td>3.83</td>\n",
       "      <td>61</td>\n",
       "      <td>smiths crinkle cut  chips chicken 170g</td>\n",
       "      <td>2</td>\n",
       "      <td>2.9</td>\n",
       "      <td>midage singles/couples</td>\n",
       "      <td>budget</td>\n",
       "    </tr>\n",
       "    <tr>\n",
       "      <th>5</th>\n",
       "      <td>2019-08-20</td>\n",
       "      <td>2</td>\n",
       "      <td>24.26</td>\n",
       "      <td>10.38</td>\n",
       "      <td>108</td>\n",
       "      <td>kettle tortilla chpshny&amp;jlpno chili 150g</td>\n",
       "      <td>3</td>\n",
       "      <td>13.8</td>\n",
       "      <td>midage singles/couples</td>\n",
       "      <td>budget</td>\n",
       "    </tr>\n",
       "    <tr>\n",
       "      <th>6</th>\n",
       "      <td>2020-05-20</td>\n",
       "      <td>4</td>\n",
       "      <td>40.74</td>\n",
       "      <td>29.82</td>\n",
       "      <td>57</td>\n",
       "      <td>old el paso salsa   dip tomato mild 300g</td>\n",
       "      <td>1</td>\n",
       "      <td>5.1</td>\n",
       "      <td>midage singles/couples</td>\n",
       "      <td>budget</td>\n",
       "    </tr>\n",
       "    <tr>\n",
       "      <th>7</th>\n",
       "      <td>2019-08-08</td>\n",
       "      <td>4</td>\n",
       "      <td>40.74</td>\n",
       "      <td>29.78</td>\n",
       "      <td>70</td>\n",
       "      <td>tyrrells crisps     lightly salted 165g</td>\n",
       "      <td>2</td>\n",
       "      <td>8.4</td>\n",
       "      <td>midage singles/couples</td>\n",
       "      <td>budget</td>\n",
       "    </tr>\n",
       "    <tr>\n",
       "      <th>8</th>\n",
       "      <td>2019-08-11</td>\n",
       "      <td>4</td>\n",
       "      <td>40.74</td>\n",
       "      <td>29.79</td>\n",
       "      <td>60</td>\n",
       "      <td>kettle tortilla chpsfeta&amp;garlic 150g</td>\n",
       "      <td>2</td>\n",
       "      <td>9.2</td>\n",
       "      <td>midage singles/couples</td>\n",
       "      <td>budget</td>\n",
       "    </tr>\n",
       "    <tr>\n",
       "      <th>9</th>\n",
       "      <td>2019-12-14</td>\n",
       "      <td>4</td>\n",
       "      <td>40.74</td>\n",
       "      <td>29.80</td>\n",
       "      <td>4</td>\n",
       "      <td>dorito corn chp     supreme 380g</td>\n",
       "      <td>2</td>\n",
       "      <td>13.0</td>\n",
       "      <td>midage singles/couples</td>\n",
       "      <td>budget</td>\n",
       "    </tr>\n",
       "  </tbody>\n",
       "</table>\n",
       "</div>"
      ],
      "text/plain": [
       "        date  store_nbr  lylty_card_nbr  txn_id  prod_nbr  \\\n",
       "0 2019-10-19          1           10.00    0.01         5   \n",
       "1 2020-05-15          1           13.07    3.48        66   \n",
       "2 2019-11-12          1           13.07    3.46        96   \n",
       "3 2020-03-10          1           13.07    3.47        54   \n",
       "4 2020-05-21          1           13.43    3.83        61   \n",
       "5 2019-08-20          2           24.26   10.38       108   \n",
       "6 2020-05-20          4           40.74   29.82        57   \n",
       "7 2019-08-08          4           40.74   29.78        70   \n",
       "8 2019-08-11          4           40.74   29.79        60   \n",
       "9 2019-12-14          4           40.74   29.80         4   \n",
       "\n",
       "                                  prod_name  prod_qty  tot_sales  \\\n",
       "0    natural chip        compny seasalt175g         2        6.0   \n",
       "1                  ccs nacho cheese    175g         3        6.3   \n",
       "2            ww original stacked chips 160g         2        3.8   \n",
       "3                         ccs original 175g         1        2.1   \n",
       "4    smiths crinkle cut  chips chicken 170g         2        2.9   \n",
       "5  kettle tortilla chpshny&jlpno chili 150g         3       13.8   \n",
       "6  old el paso salsa   dip tomato mild 300g         1        5.1   \n",
       "7   tyrrells crisps     lightly salted 165g         2        8.4   \n",
       "8      kettle tortilla chpsfeta&garlic 150g         2        9.2   \n",
       "9          dorito corn chp     supreme 380g         2       13.0   \n",
       "\n",
       "                lifestage premium_customer  \n",
       "0   young singles/couples          premium  \n",
       "1  midage singles/couples           budget  \n",
       "2  midage singles/couples           budget  \n",
       "3  midage singles/couples           budget  \n",
       "4  midage singles/couples           budget  \n",
       "5  midage singles/couples           budget  \n",
       "6  midage singles/couples           budget  \n",
       "7  midage singles/couples           budget  \n",
       "8  midage singles/couples           budget  \n",
       "9  midage singles/couples           budget  "
      ]
     },
     "execution_count": 258,
     "metadata": {},
     "output_type": "execute_result"
    }
   ],
   "source": [
    "data.head(10)"
   ]
  },
  {
   "cell_type": "code",
   "execution_count": 259,
   "metadata": {},
   "outputs": [
    {
     "data": {
      "text/plain": [
       "2019-12-26    939\n",
       "2019-12-25    917\n",
       "2019-12-24    915\n",
       "2019-12-21    906\n",
       "2019-12-20    862\n",
       "             ... \n",
       "2019-11-27    648\n",
       "2020-05-18    645\n",
       "2019-08-22    642\n",
       "2020-05-19    631\n",
       "2020-05-16    631\n",
       "Name: date, Length: 364, dtype: int64"
      ]
     },
     "execution_count": 259,
     "metadata": {},
     "output_type": "execute_result"
    }
   ],
   "source": [
    "data['date'].value_counts()"
   ]
  },
  {
   "cell_type": "code",
   "execution_count": 260,
   "metadata": {},
   "outputs": [],
   "source": [
    "#extract only product names containing chips\n",
    "chips = data[data['prod_name'].str.contains('chips', regex=False, case=False, na=False)]"
   ]
  },
  {
   "cell_type": "code",
   "execution_count": 261,
   "metadata": {},
   "outputs": [
    {
     "data": {
      "text/plain": [
       "(49663, 10)"
      ]
     },
     "execution_count": 261,
     "metadata": {},
     "output_type": "execute_result"
    }
   ],
   "source": [
    "chips.shape"
   ]
  },
  {
   "cell_type": "code",
   "execution_count": 262,
   "metadata": {},
   "outputs": [
    {
     "data": {
      "text/html": [
       "<div>\n",
       "<style scoped>\n",
       "    .dataframe tbody tr th:only-of-type {\n",
       "        vertical-align: middle;\n",
       "    }\n",
       "\n",
       "    .dataframe tbody tr th {\n",
       "        vertical-align: top;\n",
       "    }\n",
       "\n",
       "    .dataframe thead th {\n",
       "        text-align: right;\n",
       "    }\n",
       "</style>\n",
       "<table border=\"1\" class=\"dataframe\">\n",
       "  <thead>\n",
       "    <tr style=\"text-align: right;\">\n",
       "      <th></th>\n",
       "      <th>date</th>\n",
       "      <th>store_nbr</th>\n",
       "      <th>lylty_card_nbr</th>\n",
       "      <th>txn_id</th>\n",
       "      <th>prod_nbr</th>\n",
       "      <th>prod_name</th>\n",
       "      <th>prod_qty</th>\n",
       "      <th>tot_sales</th>\n",
       "      <th>lifestage</th>\n",
       "      <th>premium_customer</th>\n",
       "    </tr>\n",
       "  </thead>\n",
       "  <tbody>\n",
       "    <tr>\n",
       "      <th>2</th>\n",
       "      <td>2019-11-12</td>\n",
       "      <td>1</td>\n",
       "      <td>13.07</td>\n",
       "      <td>3.46</td>\n",
       "      <td>96</td>\n",
       "      <td>ww original stacked chips 160g</td>\n",
       "      <td>2</td>\n",
       "      <td>3.8</td>\n",
       "      <td>midage singles/couples</td>\n",
       "      <td>budget</td>\n",
       "    </tr>\n",
       "    <tr>\n",
       "      <th>4</th>\n",
       "      <td>2020-05-21</td>\n",
       "      <td>1</td>\n",
       "      <td>13.43</td>\n",
       "      <td>3.83</td>\n",
       "      <td>61</td>\n",
       "      <td>smiths crinkle cut  chips chicken 170g</td>\n",
       "      <td>2</td>\n",
       "      <td>2.9</td>\n",
       "      <td>midage singles/couples</td>\n",
       "      <td>budget</td>\n",
       "    </tr>\n",
       "    <tr>\n",
       "      <th>11</th>\n",
       "      <td>2020-05-17</td>\n",
       "      <td>4</td>\n",
       "      <td>41.49</td>\n",
       "      <td>33.33</td>\n",
       "      <td>16</td>\n",
       "      <td>smiths crinkle chips salt &amp; vinegar 330g</td>\n",
       "      <td>1</td>\n",
       "      <td>5.7</td>\n",
       "      <td>midage singles/couples</td>\n",
       "      <td>budget</td>\n",
       "    </tr>\n",
       "    <tr>\n",
       "      <th>19</th>\n",
       "      <td>2020-07-01</td>\n",
       "      <td>4</td>\n",
       "      <td>41.96</td>\n",
       "      <td>35.40</td>\n",
       "      <td>28</td>\n",
       "      <td>thins potato chips  hot &amp; spicy 175g</td>\n",
       "      <td>2</td>\n",
       "      <td>6.6</td>\n",
       "      <td>midage singles/couples</td>\n",
       "      <td>budget</td>\n",
       "    </tr>\n",
       "    <tr>\n",
       "      <th>24</th>\n",
       "      <td>2019-11-02</td>\n",
       "      <td>5</td>\n",
       "      <td>50.26</td>\n",
       "      <td>45.28</td>\n",
       "      <td>44</td>\n",
       "      <td>thins chips light&amp;  tangy 175g</td>\n",
       "      <td>2</td>\n",
       "      <td>6.6</td>\n",
       "      <td>midage singles/couples</td>\n",
       "      <td>budget</td>\n",
       "    </tr>\n",
       "  </tbody>\n",
       "</table>\n",
       "</div>"
      ],
      "text/plain": [
       "         date  store_nbr  lylty_card_nbr  txn_id  prod_nbr  \\\n",
       "2  2019-11-12          1           13.07    3.46        96   \n",
       "4  2020-05-21          1           13.43    3.83        61   \n",
       "11 2020-05-17          4           41.49   33.33        16   \n",
       "19 2020-07-01          4           41.96   35.40        28   \n",
       "24 2019-11-02          5           50.26   45.28        44   \n",
       "\n",
       "                                   prod_name  prod_qty  tot_sales  \\\n",
       "2             ww original stacked chips 160g         2        3.8   \n",
       "4     smiths crinkle cut  chips chicken 170g         2        2.9   \n",
       "11  smiths crinkle chips salt & vinegar 330g         1        5.7   \n",
       "19      thins potato chips  hot & spicy 175g         2        6.6   \n",
       "24            thins chips light&  tangy 175g         2        6.6   \n",
       "\n",
       "                 lifestage premium_customer  \n",
       "2   midage singles/couples           budget  \n",
       "4   midage singles/couples           budget  \n",
       "11  midage singles/couples           budget  \n",
       "19  midage singles/couples           budget  \n",
       "24  midage singles/couples           budget  "
      ]
     },
     "execution_count": 262,
     "metadata": {},
     "output_type": "execute_result"
    }
   ],
   "source": [
    "chips.head()"
   ]
  },
  {
   "cell_type": "code",
   "execution_count": 263,
   "metadata": {},
   "outputs": [
    {
     "name": "stderr",
     "output_type": "stream",
     "text": [
      "C:\\Users\\ampad\\anaconda3\\lib\\site-packages\\ipykernel_launcher.py:2: SettingWithCopyWarning: \n",
      "A value is trying to be set on a copy of a slice from a DataFrame.\n",
      "Try using .loc[row_indexer,col_indexer] = value instead\n",
      "\n",
      "See the caveats in the documentation: https://pandas.pydata.org/pandas-docs/stable/user_guide/indexing.html#returning-a-view-versus-a-copy\n",
      "  \n"
     ]
    }
   ],
   "source": [
    "#extract brand name\n",
    "chips['brand name']=chips['prod_name'].str.split(' ', expand=True)[0]"
   ]
  },
  {
   "cell_type": "code",
   "execution_count": 264,
   "metadata": {},
   "outputs": [
    {
     "data": {
      "text/html": [
       "<div>\n",
       "<style scoped>\n",
       "    .dataframe tbody tr th:only-of-type {\n",
       "        vertical-align: middle;\n",
       "    }\n",
       "\n",
       "    .dataframe tbody tr th {\n",
       "        vertical-align: top;\n",
       "    }\n",
       "\n",
       "    .dataframe thead th {\n",
       "        text-align: right;\n",
       "    }\n",
       "</style>\n",
       "<table border=\"1\" class=\"dataframe\">\n",
       "  <thead>\n",
       "    <tr style=\"text-align: right;\">\n",
       "      <th></th>\n",
       "      <th>date</th>\n",
       "      <th>store_nbr</th>\n",
       "      <th>lylty_card_nbr</th>\n",
       "      <th>txn_id</th>\n",
       "      <th>prod_nbr</th>\n",
       "      <th>prod_name</th>\n",
       "      <th>prod_qty</th>\n",
       "      <th>tot_sales</th>\n",
       "      <th>lifestage</th>\n",
       "      <th>premium_customer</th>\n",
       "      <th>brand name</th>\n",
       "    </tr>\n",
       "  </thead>\n",
       "  <tbody>\n",
       "    <tr>\n",
       "      <th>2</th>\n",
       "      <td>2019-11-12</td>\n",
       "      <td>1</td>\n",
       "      <td>13.07</td>\n",
       "      <td>3.46</td>\n",
       "      <td>96</td>\n",
       "      <td>ww original stacked chips 160g</td>\n",
       "      <td>2</td>\n",
       "      <td>3.8</td>\n",
       "      <td>midage singles/couples</td>\n",
       "      <td>budget</td>\n",
       "      <td>ww</td>\n",
       "    </tr>\n",
       "    <tr>\n",
       "      <th>4</th>\n",
       "      <td>2020-05-21</td>\n",
       "      <td>1</td>\n",
       "      <td>13.43</td>\n",
       "      <td>3.83</td>\n",
       "      <td>61</td>\n",
       "      <td>smiths crinkle cut  chips chicken 170g</td>\n",
       "      <td>2</td>\n",
       "      <td>2.9</td>\n",
       "      <td>midage singles/couples</td>\n",
       "      <td>budget</td>\n",
       "      <td>smiths</td>\n",
       "    </tr>\n",
       "    <tr>\n",
       "      <th>11</th>\n",
       "      <td>2020-05-17</td>\n",
       "      <td>4</td>\n",
       "      <td>41.49</td>\n",
       "      <td>33.33</td>\n",
       "      <td>16</td>\n",
       "      <td>smiths crinkle chips salt &amp; vinegar 330g</td>\n",
       "      <td>1</td>\n",
       "      <td>5.7</td>\n",
       "      <td>midage singles/couples</td>\n",
       "      <td>budget</td>\n",
       "      <td>smiths</td>\n",
       "    </tr>\n",
       "    <tr>\n",
       "      <th>19</th>\n",
       "      <td>2020-07-01</td>\n",
       "      <td>4</td>\n",
       "      <td>41.96</td>\n",
       "      <td>35.40</td>\n",
       "      <td>28</td>\n",
       "      <td>thins potato chips  hot &amp; spicy 175g</td>\n",
       "      <td>2</td>\n",
       "      <td>6.6</td>\n",
       "      <td>midage singles/couples</td>\n",
       "      <td>budget</td>\n",
       "      <td>thins</td>\n",
       "    </tr>\n",
       "    <tr>\n",
       "      <th>24</th>\n",
       "      <td>2019-11-02</td>\n",
       "      <td>5</td>\n",
       "      <td>50.26</td>\n",
       "      <td>45.28</td>\n",
       "      <td>44</td>\n",
       "      <td>thins chips light&amp;  tangy 175g</td>\n",
       "      <td>2</td>\n",
       "      <td>6.6</td>\n",
       "      <td>midage singles/couples</td>\n",
       "      <td>budget</td>\n",
       "      <td>thins</td>\n",
       "    </tr>\n",
       "  </tbody>\n",
       "</table>\n",
       "</div>"
      ],
      "text/plain": [
       "         date  store_nbr  lylty_card_nbr  txn_id  prod_nbr  \\\n",
       "2  2019-11-12          1           13.07    3.46        96   \n",
       "4  2020-05-21          1           13.43    3.83        61   \n",
       "11 2020-05-17          4           41.49   33.33        16   \n",
       "19 2020-07-01          4           41.96   35.40        28   \n",
       "24 2019-11-02          5           50.26   45.28        44   \n",
       "\n",
       "                                   prod_name  prod_qty  tot_sales  \\\n",
       "2             ww original stacked chips 160g         2        3.8   \n",
       "4     smiths crinkle cut  chips chicken 170g         2        2.9   \n",
       "11  smiths crinkle chips salt & vinegar 330g         1        5.7   \n",
       "19      thins potato chips  hot & spicy 175g         2        6.6   \n",
       "24            thins chips light&  tangy 175g         2        6.6   \n",
       "\n",
       "                 lifestage premium_customer brand name  \n",
       "2   midage singles/couples           budget         ww  \n",
       "4   midage singles/couples           budget     smiths  \n",
       "11  midage singles/couples           budget     smiths  \n",
       "19  midage singles/couples           budget      thins  \n",
       "24  midage singles/couples           budget      thins  "
      ]
     },
     "execution_count": 264,
     "metadata": {},
     "output_type": "execute_result"
    }
   ],
   "source": [
    "chips.head()"
   ]
  },
  {
   "cell_type": "code",
   "execution_count": 265,
   "metadata": {},
   "outputs": [
    {
     "data": {
      "text/plain": [
       "thins      14046\n",
       "cobs        9668\n",
       "doritos     9475\n",
       "smiths      9082\n",
       "ww          5974\n",
       "french      1418\n",
       "Name: brand name, dtype: int64"
      ]
     },
     "execution_count": 265,
     "metadata": {},
     "output_type": "execute_result"
    }
   ],
   "source": [
    "chips['brand name'].value_counts()"
   ]
  },
  {
   "cell_type": "code",
   "execution_count": 266,
   "metadata": {},
   "outputs": [
    {
     "name": "stdout",
     "output_type": "stream",
     "text": [
      "brand name\n",
      "cobs       7.254903\n",
      "doritos    8.393668\n",
      "french     5.591678\n",
      "smiths     7.345155\n",
      "thins      6.293870\n",
      "ww         3.583093\n",
      "Name: tot_sales, dtype: float64\n"
     ]
    },
    {
     "data": {
      "image/png": "[encoded data removed]",
      "text/plain": [
       "<Figure size 864x864 with 1 Axes>"
      ]
     },
     "metadata": {
      "needs_background": "light"
     },
     "output_type": "display_data"
    }
   ],
   "source": [
    "print(chips.groupby('brand name')['tot_sales'].mean())\n",
    "ax=(chips.groupby('brand name')['tot_sales'].mean().sort_values(ascending=False)).plot(kind='bar', figsize=(12,12))\n",
    "ax.set_title('Which brand of chips generates the most sales',fontdict={'size':20});"
   ]
  },
  {
   "cell_type": "markdown",
   "metadata": {},
   "source": [
    "#### The dorito brand is the brand with the highest sales, so there should be a big emphasis toward bringing in more dorito chips. smiths and cobs should also be targeted more. ww chips doesnt seem to generate a lot of sales, with doritos generating more than double the sales of ww, therefore more emphasis should not go to ww  but to the brand of chips with the higher sales like doritos"
   ]
  },
  {
   "cell_type": "code",
   "execution_count": 267,
   "metadata": {},
   "outputs": [
    {
     "data": {
      "text/plain": [
       "mainstream    0.384773\n",
       "budget        0.353301\n",
       "premium       0.261925\n",
       "Name: premium_customer, dtype: float64"
      ]
     },
     "execution_count": 267,
     "metadata": {},
     "output_type": "execute_result"
    }
   ],
   "source": [
    "chips['premium_customer'].value_counts()/len(chips['premium_customer'])"
   ]
  },
  {
   "cell_type": "code",
   "execution_count": 268,
   "metadata": {},
   "outputs": [
    {
     "name": "stdout",
     "output_type": "stream",
     "text": [
      "lifestage\n",
      "midage singles/couples    6.720119\n",
      "new families              6.668012\n",
      "older families            6.740379\n",
      "older singles/couples     6.779023\n",
      "retirees                  6.770238\n",
      "young families            6.712575\n",
      "young singles/couples     6.611025\n",
      "Name: tot_sales, dtype: float64\n"
     ]
    },
    {
     "data": {
      "image/png": "[encoded data removed]",
      "text/plain": [
       "<Figure size 864x864 with 1 Axes>"
      ]
     },
     "metadata": {
      "needs_background": "light"
     },
     "output_type": "display_data"
    }
   ],
   "source": [
    "print(chips.groupby('lifestage')['tot_sales'].mean())\n",
    "ax=(chips.groupby('lifestage')['tot_sales'].mean().sort_values(ascending=False)).plot(kind='bar', figsize=(12,12), color='green')\n",
    "ax.set_title('Which customer lifestage group buys the most chips',fontdict={'size':20});"
   ]
  },
  {
   "cell_type": "markdown",
   "metadata": {},
   "source": [
    "#### The older generation tends to buy more chips than the younger generation. the older singles/couples spend on average 6.779 dollars on chips with the young singles/couples spending 6.611 dollars on chips. The difference is not that much, so it would not be a good idea to focus on a particular customer lifestage group, emphasis should be shown to other areas"
   ]
  },
  {
   "cell_type": "code",
   "execution_count": 269,
   "metadata": {},
   "outputs": [
    {
     "data": {
      "text/html": [
       "<div>\n",
       "<style scoped>\n",
       "    .dataframe tbody tr th:only-of-type {\n",
       "        vertical-align: middle;\n",
       "    }\n",
       "\n",
       "    .dataframe tbody tr th {\n",
       "        vertical-align: top;\n",
       "    }\n",
       "\n",
       "    .dataframe thead th {\n",
       "        text-align: right;\n",
       "    }\n",
       "</style>\n",
       "<table border=\"1\" class=\"dataframe\">\n",
       "  <thead>\n",
       "    <tr style=\"text-align: right;\">\n",
       "      <th></th>\n",
       "      <th>date</th>\n",
       "      <th>store_nbr</th>\n",
       "      <th>lylty_card_nbr</th>\n",
       "      <th>txn_id</th>\n",
       "      <th>prod_nbr</th>\n",
       "      <th>prod_name</th>\n",
       "      <th>prod_qty</th>\n",
       "      <th>tot_sales</th>\n",
       "      <th>lifestage</th>\n",
       "      <th>premium_customer</th>\n",
       "      <th>brand name</th>\n",
       "    </tr>\n",
       "  </thead>\n",
       "  <tbody>\n",
       "    <tr>\n",
       "      <th>2</th>\n",
       "      <td>2019-11-12</td>\n",
       "      <td>1</td>\n",
       "      <td>13.07</td>\n",
       "      <td>3.46</td>\n",
       "      <td>96</td>\n",
       "      <td>ww original stacked chips 160g</td>\n",
       "      <td>2</td>\n",
       "      <td>3.8</td>\n",
       "      <td>midage singles/couples</td>\n",
       "      <td>budget</td>\n",
       "      <td>ww</td>\n",
       "    </tr>\n",
       "    <tr>\n",
       "      <th>4</th>\n",
       "      <td>2020-05-21</td>\n",
       "      <td>1</td>\n",
       "      <td>13.43</td>\n",
       "      <td>3.83</td>\n",
       "      <td>61</td>\n",
       "      <td>smiths crinkle cut  chips chicken 170g</td>\n",
       "      <td>2</td>\n",
       "      <td>2.9</td>\n",
       "      <td>midage singles/couples</td>\n",
       "      <td>budget</td>\n",
       "      <td>smiths</td>\n",
       "    </tr>\n",
       "    <tr>\n",
       "      <th>11</th>\n",
       "      <td>2020-05-17</td>\n",
       "      <td>4</td>\n",
       "      <td>41.49</td>\n",
       "      <td>33.33</td>\n",
       "      <td>16</td>\n",
       "      <td>smiths crinkle chips salt &amp; vinegar 330g</td>\n",
       "      <td>1</td>\n",
       "      <td>5.7</td>\n",
       "      <td>midage singles/couples</td>\n",
       "      <td>budget</td>\n",
       "      <td>smiths</td>\n",
       "    </tr>\n",
       "    <tr>\n",
       "      <th>19</th>\n",
       "      <td>2020-07-01</td>\n",
       "      <td>4</td>\n",
       "      <td>41.96</td>\n",
       "      <td>35.40</td>\n",
       "      <td>28</td>\n",
       "      <td>thins potato chips  hot &amp; spicy 175g</td>\n",
       "      <td>2</td>\n",
       "      <td>6.6</td>\n",
       "      <td>midage singles/couples</td>\n",
       "      <td>budget</td>\n",
       "      <td>thins</td>\n",
       "    </tr>\n",
       "    <tr>\n",
       "      <th>24</th>\n",
       "      <td>2019-11-02</td>\n",
       "      <td>5</td>\n",
       "      <td>50.26</td>\n",
       "      <td>45.28</td>\n",
       "      <td>44</td>\n",
       "      <td>thins chips light&amp;  tangy 175g</td>\n",
       "      <td>2</td>\n",
       "      <td>6.6</td>\n",
       "      <td>midage singles/couples</td>\n",
       "      <td>budget</td>\n",
       "      <td>thins</td>\n",
       "    </tr>\n",
       "  </tbody>\n",
       "</table>\n",
       "</div>"
      ],
      "text/plain": [
       "         date  store_nbr  lylty_card_nbr  txn_id  prod_nbr  \\\n",
       "2  2019-11-12          1           13.07    3.46        96   \n",
       "4  2020-05-21          1           13.43    3.83        61   \n",
       "11 2020-05-17          4           41.49   33.33        16   \n",
       "19 2020-07-01          4           41.96   35.40        28   \n",
       "24 2019-11-02          5           50.26   45.28        44   \n",
       "\n",
       "                                   prod_name  prod_qty  tot_sales  \\\n",
       "2             ww original stacked chips 160g         2        3.8   \n",
       "4     smiths crinkle cut  chips chicken 170g         2        2.9   \n",
       "11  smiths crinkle chips salt & vinegar 330g         1        5.7   \n",
       "19      thins potato chips  hot & spicy 175g         2        6.6   \n",
       "24            thins chips light&  tangy 175g         2        6.6   \n",
       "\n",
       "                 lifestage premium_customer brand name  \n",
       "2   midage singles/couples           budget         ww  \n",
       "4   midage singles/couples           budget     smiths  \n",
       "11  midage singles/couples           budget     smiths  \n",
       "19  midage singles/couples           budget      thins  \n",
       "24  midage singles/couples           budget      thins  "
      ]
     },
     "execution_count": 269,
     "metadata": {},
     "output_type": "execute_result"
    }
   ],
   "source": [
    "chips.head()"
   ]
  },
  {
   "cell_type": "code",
   "execution_count": 270,
   "metadata": {},
   "outputs": [
    {
     "name": "stdout",
     "output_type": "stream",
     "text": [
      "premium_customer\n",
      "budget        17546\n",
      "mainstream    19109\n",
      "premium       13008\n",
      "Name: tot_sales, dtype: int64\n"
     ]
    },
    {
     "data": {
      "image/png": "[encoded data removed]",
      "text/plain": [
       "<Figure size 864x864 with 1 Axes>"
      ]
     },
     "metadata": {
      "needs_background": "light"
     },
     "output_type": "display_data"
    }
   ],
   "source": [
    "print(chips.groupby('premium_customer')['tot_sales'].count())\n",
    "ax=(chips.groupby('premium_customer')['tot_sales'].count().sort_values(ascending=False)).plot(kind='bar', figsize=(12,12), color='gray')\n",
    "ax.set_title('Which Premium customers buys the most chips',fontdict={'size':20});"
   ]
  },
  {
   "cell_type": "markdown",
   "metadata": {},
   "source": [
    "#### customers who spend more for brand, spends the most on chips with the ones that spend more on quality, spending the least. With the values being so close, this alos isnt an area to focus on"
   ]
  },
  {
   "cell_type": "code",
   "execution_count": 271,
   "metadata": {},
   "outputs": [
    {
     "data": {
      "text/html": [
       "<div>\n",
       "<style scoped>\n",
       "    .dataframe tbody tr th:only-of-type {\n",
       "        vertical-align: middle;\n",
       "    }\n",
       "\n",
       "    .dataframe tbody tr th {\n",
       "        vertical-align: top;\n",
       "    }\n",
       "\n",
       "    .dataframe thead th {\n",
       "        text-align: right;\n",
       "    }\n",
       "</style>\n",
       "<table border=\"1\" class=\"dataframe\">\n",
       "  <thead>\n",
       "    <tr style=\"text-align: right;\">\n",
       "      <th></th>\n",
       "      <th>date</th>\n",
       "      <th>store_nbr</th>\n",
       "      <th>lylty_card_nbr</th>\n",
       "      <th>txn_id</th>\n",
       "      <th>prod_nbr</th>\n",
       "      <th>prod_name</th>\n",
       "      <th>prod_qty</th>\n",
       "      <th>tot_sales</th>\n",
       "      <th>lifestage</th>\n",
       "      <th>premium_customer</th>\n",
       "      <th>brand name</th>\n",
       "    </tr>\n",
       "  </thead>\n",
       "  <tbody>\n",
       "    <tr>\n",
       "      <th>2</th>\n",
       "      <td>2019-11-12</td>\n",
       "      <td>1</td>\n",
       "      <td>13.07</td>\n",
       "      <td>3.46</td>\n",
       "      <td>96</td>\n",
       "      <td>ww original stacked chips 160g</td>\n",
       "      <td>2</td>\n",
       "      <td>3.8</td>\n",
       "      <td>midage singles/couples</td>\n",
       "      <td>budget</td>\n",
       "      <td>ww</td>\n",
       "    </tr>\n",
       "  </tbody>\n",
       "</table>\n",
       "</div>"
      ],
      "text/plain": [
       "        date  store_nbr  lylty_card_nbr  txn_id  prod_nbr  \\\n",
       "2 2019-11-12          1           13.07    3.46        96   \n",
       "\n",
       "                        prod_name  prod_qty  tot_sales  \\\n",
       "2  ww original stacked chips 160g         2        3.8   \n",
       "\n",
       "                lifestage premium_customer brand name  \n",
       "2  midage singles/couples           budget         ww  "
      ]
     },
     "execution_count": 271,
     "metadata": {},
     "output_type": "execute_result"
    }
   ],
   "source": [
    "chips.head(1)"
   ]
  },
  {
   "cell_type": "code",
   "execution_count": 272,
   "metadata": {},
   "outputs": [
    {
     "name": "stdout",
     "output_type": "stream",
     "text": [
      "lifestage\n",
      "midage singles/couples     8921\n",
      "new families               2394\n",
      "older families            17609\n",
      "older singles/couples     19540\n",
      "retirees                  17610\n",
      "young families            15683\n",
      "young singles/couples     12632\n",
      "Name: prod_qty, dtype: int64\n"
     ]
    },
    {
     "data": {
      "image/png": "[encoded data removed]",
      "text/plain": [
       "<Figure size 720x720 with 1 Axes>"
      ]
     },
     "metadata": {
      "needs_background": "light"
     },
     "output_type": "display_data"
    }
   ],
   "source": [
    "print(chips.groupby('lifestage')['prod_qty'].sum())\n",
    "ax=(chips.groupby('lifestage')['prod_qty'].sum().sort_values(ascending=False)).plot(kind='bar', figsize=(10,10), color='red')\n",
    "ax.set_title('Number of chips bought per customer segment',fontdict={'size':20});"
   ]
  },
  {
   "cell_type": "code",
   "execution_count": 273,
   "metadata": {},
   "outputs": [
    {
     "data": {
      "text/plain": [
       "226    409\n",
       "88     377\n",
       "4      362\n",
       "165    355\n",
       "237    350\n",
       "      ... \n",
       "117      9\n",
       "139      9\n",
       "244      9\n",
       "161      7\n",
       "11       2\n",
       "Name: store_nbr, Length: 264, dtype: int64"
      ]
     },
     "execution_count": 273,
     "metadata": {},
     "output_type": "execute_result"
    }
   ],
   "source": [
    "chips['store_nbr'].value_counts()"
   ]
  },
  {
   "cell_type": "code",
   "execution_count": 274,
   "metadata": {},
   "outputs": [
    {
     "data": {
      "text/html": [
       "<div>\n",
       "<style scoped>\n",
       "    .dataframe tbody tr th:only-of-type {\n",
       "        vertical-align: middle;\n",
       "    }\n",
       "\n",
       "    .dataframe tbody tr th {\n",
       "        vertical-align: top;\n",
       "    }\n",
       "\n",
       "    .dataframe thead th {\n",
       "        text-align: right;\n",
       "    }\n",
       "</style>\n",
       "<table border=\"1\" class=\"dataframe\">\n",
       "  <thead>\n",
       "    <tr style=\"text-align: right;\">\n",
       "      <th></th>\n",
       "      <th>date</th>\n",
       "      <th>store_nbr</th>\n",
       "      <th>lylty_card_nbr</th>\n",
       "      <th>txn_id</th>\n",
       "      <th>prod_nbr</th>\n",
       "      <th>prod_name</th>\n",
       "      <th>prod_qty</th>\n",
       "      <th>tot_sales</th>\n",
       "      <th>lifestage</th>\n",
       "      <th>premium_customer</th>\n",
       "      <th>brand name</th>\n",
       "    </tr>\n",
       "  </thead>\n",
       "  <tbody>\n",
       "    <tr>\n",
       "      <th>2</th>\n",
       "      <td>2019-11-12</td>\n",
       "      <td>1</td>\n",
       "      <td>13.07</td>\n",
       "      <td>3.46</td>\n",
       "      <td>96</td>\n",
       "      <td>ww original stacked chips 160g</td>\n",
       "      <td>2</td>\n",
       "      <td>3.8</td>\n",
       "      <td>midage singles/couples</td>\n",
       "      <td>budget</td>\n",
       "      <td>ww</td>\n",
       "    </tr>\n",
       "    <tr>\n",
       "      <th>4</th>\n",
       "      <td>2020-05-21</td>\n",
       "      <td>1</td>\n",
       "      <td>13.43</td>\n",
       "      <td>3.83</td>\n",
       "      <td>61</td>\n",
       "      <td>smiths crinkle cut  chips chicken 170g</td>\n",
       "      <td>2</td>\n",
       "      <td>2.9</td>\n",
       "      <td>midage singles/couples</td>\n",
       "      <td>budget</td>\n",
       "      <td>smiths</td>\n",
       "    </tr>\n",
       "    <tr>\n",
       "      <th>11</th>\n",
       "      <td>2020-05-17</td>\n",
       "      <td>4</td>\n",
       "      <td>41.49</td>\n",
       "      <td>33.33</td>\n",
       "      <td>16</td>\n",
       "      <td>smiths crinkle chips salt &amp; vinegar 330g</td>\n",
       "      <td>1</td>\n",
       "      <td>5.7</td>\n",
       "      <td>midage singles/couples</td>\n",
       "      <td>budget</td>\n",
       "      <td>smiths</td>\n",
       "    </tr>\n",
       "    <tr>\n",
       "      <th>19</th>\n",
       "      <td>2020-07-01</td>\n",
       "      <td>4</td>\n",
       "      <td>41.96</td>\n",
       "      <td>35.40</td>\n",
       "      <td>28</td>\n",
       "      <td>thins potato chips  hot &amp; spicy 175g</td>\n",
       "      <td>2</td>\n",
       "      <td>6.6</td>\n",
       "      <td>midage singles/couples</td>\n",
       "      <td>budget</td>\n",
       "      <td>thins</td>\n",
       "    </tr>\n",
       "    <tr>\n",
       "      <th>24</th>\n",
       "      <td>2019-11-02</td>\n",
       "      <td>5</td>\n",
       "      <td>50.26</td>\n",
       "      <td>45.28</td>\n",
       "      <td>44</td>\n",
       "      <td>thins chips light&amp;  tangy 175g</td>\n",
       "      <td>2</td>\n",
       "      <td>6.6</td>\n",
       "      <td>midage singles/couples</td>\n",
       "      <td>budget</td>\n",
       "      <td>thins</td>\n",
       "    </tr>\n",
       "  </tbody>\n",
       "</table>\n",
       "</div>"
      ],
      "text/plain": [
       "         date  store_nbr  lylty_card_nbr  txn_id  prod_nbr  \\\n",
       "2  2019-11-12          1           13.07    3.46        96   \n",
       "4  2020-05-21          1           13.43    3.83        61   \n",
       "11 2020-05-17          4           41.49   33.33        16   \n",
       "19 2020-07-01          4           41.96   35.40        28   \n",
       "24 2019-11-02          5           50.26   45.28        44   \n",
       "\n",
       "                                   prod_name  prod_qty  tot_sales  \\\n",
       "2             ww original stacked chips 160g         2        3.8   \n",
       "4     smiths crinkle cut  chips chicken 170g         2        2.9   \n",
       "11  smiths crinkle chips salt & vinegar 330g         1        5.7   \n",
       "19      thins potato chips  hot & spicy 175g         2        6.6   \n",
       "24            thins chips light&  tangy 175g         2        6.6   \n",
       "\n",
       "                 lifestage premium_customer brand name  \n",
       "2   midage singles/couples           budget         ww  \n",
       "4   midage singles/couples           budget     smiths  \n",
       "11  midage singles/couples           budget     smiths  \n",
       "19  midage singles/couples           budget      thins  \n",
       "24  midage singles/couples           budget      thins  "
      ]
     },
     "execution_count": 274,
     "metadata": {},
     "output_type": "execute_result"
    }
   ],
   "source": [
    "chips.head()"
   ]
  },
  {
   "cell_type": "code",
   "execution_count": 275,
   "metadata": {},
   "outputs": [
    {
     "name": "stderr",
     "output_type": "stream",
     "text": [
      "C:\\Users\\ampad\\anaconda3\\lib\\site-packages\\ipykernel_launcher.py:2: SettingWithCopyWarning: \n",
      "A value is trying to be set on a copy of a slice from a DataFrame.\n",
      "Try using .loc[row_indexer,col_indexer] = value instead\n",
      "\n",
      "See the caveats in the documentation: https://pandas.pydata.org/pandas-docs/stable/user_guide/indexing.html#returning-a-view-versus-a-copy\n",
      "  \n"
     ]
    }
   ],
   "source": [
    "#extract the month column from the date\n",
    "chips['month']=chips['date'].dt.month"
   ]
  },
  {
   "cell_type": "code",
   "execution_count": 276,
   "metadata": {},
   "outputs": [
    {
     "data": {
      "text/html": [
       "<div>\n",
       "<style scoped>\n",
       "    .dataframe tbody tr th:only-of-type {\n",
       "        vertical-align: middle;\n",
       "    }\n",
       "\n",
       "    .dataframe tbody tr th {\n",
       "        vertical-align: top;\n",
       "    }\n",
       "\n",
       "    .dataframe thead th {\n",
       "        text-align: right;\n",
       "    }\n",
       "</style>\n",
       "<table border=\"1\" class=\"dataframe\">\n",
       "  <thead>\n",
       "    <tr style=\"text-align: right;\">\n",
       "      <th></th>\n",
       "      <th>date</th>\n",
       "      <th>store_nbr</th>\n",
       "      <th>lylty_card_nbr</th>\n",
       "      <th>txn_id</th>\n",
       "      <th>prod_nbr</th>\n",
       "      <th>prod_name</th>\n",
       "      <th>prod_qty</th>\n",
       "      <th>tot_sales</th>\n",
       "      <th>lifestage</th>\n",
       "      <th>premium_customer</th>\n",
       "      <th>brand name</th>\n",
       "      <th>month</th>\n",
       "    </tr>\n",
       "  </thead>\n",
       "  <tbody>\n",
       "    <tr>\n",
       "      <th>2</th>\n",
       "      <td>2019-11-12</td>\n",
       "      <td>1</td>\n",
       "      <td>13.07</td>\n",
       "      <td>3.46</td>\n",
       "      <td>96</td>\n",
       "      <td>ww original stacked chips 160g</td>\n",
       "      <td>2</td>\n",
       "      <td>3.8</td>\n",
       "      <td>midage singles/couples</td>\n",
       "      <td>budget</td>\n",
       "      <td>ww</td>\n",
       "      <td>11</td>\n",
       "    </tr>\n",
       "    <tr>\n",
       "      <th>4</th>\n",
       "      <td>2020-05-21</td>\n",
       "      <td>1</td>\n",
       "      <td>13.43</td>\n",
       "      <td>3.83</td>\n",
       "      <td>61</td>\n",
       "      <td>smiths crinkle cut  chips chicken 170g</td>\n",
       "      <td>2</td>\n",
       "      <td>2.9</td>\n",
       "      <td>midage singles/couples</td>\n",
       "      <td>budget</td>\n",
       "      <td>smiths</td>\n",
       "      <td>5</td>\n",
       "    </tr>\n",
       "    <tr>\n",
       "      <th>11</th>\n",
       "      <td>2020-05-17</td>\n",
       "      <td>4</td>\n",
       "      <td>41.49</td>\n",
       "      <td>33.33</td>\n",
       "      <td>16</td>\n",
       "      <td>smiths crinkle chips salt &amp; vinegar 330g</td>\n",
       "      <td>1</td>\n",
       "      <td>5.7</td>\n",
       "      <td>midage singles/couples</td>\n",
       "      <td>budget</td>\n",
       "      <td>smiths</td>\n",
       "      <td>5</td>\n",
       "    </tr>\n",
       "    <tr>\n",
       "      <th>19</th>\n",
       "      <td>2020-07-01</td>\n",
       "      <td>4</td>\n",
       "      <td>41.96</td>\n",
       "      <td>35.40</td>\n",
       "      <td>28</td>\n",
       "      <td>thins potato chips  hot &amp; spicy 175g</td>\n",
       "      <td>2</td>\n",
       "      <td>6.6</td>\n",
       "      <td>midage singles/couples</td>\n",
       "      <td>budget</td>\n",
       "      <td>thins</td>\n",
       "      <td>7</td>\n",
       "    </tr>\n",
       "    <tr>\n",
       "      <th>24</th>\n",
       "      <td>2019-11-02</td>\n",
       "      <td>5</td>\n",
       "      <td>50.26</td>\n",
       "      <td>45.28</td>\n",
       "      <td>44</td>\n",
       "      <td>thins chips light&amp;  tangy 175g</td>\n",
       "      <td>2</td>\n",
       "      <td>6.6</td>\n",
       "      <td>midage singles/couples</td>\n",
       "      <td>budget</td>\n",
       "      <td>thins</td>\n",
       "      <td>11</td>\n",
       "    </tr>\n",
       "  </tbody>\n",
       "</table>\n",
       "</div>"
      ],
      "text/plain": [
       "         date  store_nbr  lylty_card_nbr  txn_id  prod_nbr  \\\n",
       "2  2019-11-12          1           13.07    3.46        96   \n",
       "4  2020-05-21          1           13.43    3.83        61   \n",
       "11 2020-05-17          4           41.49   33.33        16   \n",
       "19 2020-07-01          4           41.96   35.40        28   \n",
       "24 2019-11-02          5           50.26   45.28        44   \n",
       "\n",
       "                                   prod_name  prod_qty  tot_sales  \\\n",
       "2             ww original stacked chips 160g         2        3.8   \n",
       "4     smiths crinkle cut  chips chicken 170g         2        2.9   \n",
       "11  smiths crinkle chips salt & vinegar 330g         1        5.7   \n",
       "19      thins potato chips  hot & spicy 175g         2        6.6   \n",
       "24            thins chips light&  tangy 175g         2        6.6   \n",
       "\n",
       "                 lifestage premium_customer brand name  month  \n",
       "2   midage singles/couples           budget         ww     11  \n",
       "4   midage singles/couples           budget     smiths      5  \n",
       "11  midage singles/couples           budget     smiths      5  \n",
       "19  midage singles/couples           budget      thins      7  \n",
       "24  midage singles/couples           budget      thins     11  "
      ]
     },
     "execution_count": 276,
     "metadata": {},
     "output_type": "execute_result"
    }
   ],
   "source": [
    "chips.head()"
   ]
  },
  {
   "cell_type": "code",
   "execution_count": 277,
   "metadata": {},
   "outputs": [
    {
     "data": {
      "text/plain": [
       "12    0.087349\n",
       "3     0.085758\n",
       "10    0.085557\n",
       "5     0.083785\n",
       "7     0.083684\n",
       "6     0.083583\n",
       "1     0.083241\n",
       "8     0.082536\n",
       "11    0.082415\n",
       "4     0.081449\n",
       "9     0.081268\n",
       "2     0.079375\n",
       "Name: month, dtype: float64"
      ]
     },
     "execution_count": 277,
     "metadata": {},
     "output_type": "execute_result"
    }
   ],
   "source": [
    "chips['month'].value_counts()/len(chips['month'])"
   ]
  },
  {
   "cell_type": "code",
   "execution_count": 278,
   "metadata": {},
   "outputs": [
    {
     "data": {
      "text/plain": [
       "Text(0.5, 1.0, 'Total Sales of Chips per month')"
      ]
     },
     "execution_count": 278,
     "metadata": {},
     "output_type": "execute_result"
    },
    {
     "data": {
      "image/png": "[encoded data removed]",
      "text/plain": [
       "<Figure size 720x720 with 1 Axes>"
      ]
     },
     "metadata": {
      "needs_background": "light"
     },
     "output_type": "display_data"
    }
   ],
   "source": [
    "#print(chips.groupby('month')['tot_sales'].sum())\n",
    "ax=chips.groupby('month')['tot_sales'].sum().sort_values(ascending=False).plot(kind='barh',figsize=(10,10), color='yellow')\n",
    "ax.set_title('Total Sales of Chips per month',fontdict={'size':20})"
   ]
  },
  {
   "cell_type": "markdown",
   "metadata": {},
   "source": [
    "#### December is the month with the highest sales of chips and august is the month with the least. There does not seem to be a big difference in money generated by chips per month across the various months."
   ]
  },
  {
   "cell_type": "code",
   "execution_count": 279,
   "metadata": {},
   "outputs": [
    {
     "data": {
      "text/plain": [
       "Text(0.5, 1.0, 'Top 10 days with Highest Sales of Chips')"
      ]
     },
     "execution_count": 279,
     "metadata": {},
     "output_type": "execute_result"
    },
    {
     "data": {
      "image/png": "[encoded data removed]",
      "text/plain": [
       "<Figure size 720x720 with 1 Axes>"
      ]
     },
     "metadata": {
      "needs_background": "light"
     },
     "output_type": "display_data"
    }
   ],
   "source": [
    "#print(chips.groupby('date')['tot_sales'].sum().sort_values(ascending=False)[:10])\n",
    "ax=chips.groupby('date')['tot_sales'].sum().sort_values(ascending=False)[:10].plot(kind='bar',figsize=(10,10), color='magenta')\n",
    "ax.set_title('Top 10 days with Highest Sales of Chips',fontdict={'size':20})"
   ]
  },
  {
   "cell_type": "markdown",
   "metadata": {},
   "source": [
    "#### Its clear to see around christmas is the time of the year with the highest number of sales of chips. 25th, 26th, 21st and 24th decemeber are the top 4 days where the most money is generated. More chips should be produced around that time of the year, and even a slight increase in cost would still result in a lot of sales."
   ]
  },
  {
   "cell_type": "code",
   "execution_count": 280,
   "metadata": {},
   "outputs": [
    {
     "data": {
      "text/html": [
       "<div>\n",
       "<style scoped>\n",
       "    .dataframe tbody tr th:only-of-type {\n",
       "        vertical-align: middle;\n",
       "    }\n",
       "\n",
       "    .dataframe tbody tr th {\n",
       "        vertical-align: top;\n",
       "    }\n",
       "\n",
       "    .dataframe thead th {\n",
       "        text-align: right;\n",
       "    }\n",
       "</style>\n",
       "<table border=\"1\" class=\"dataframe\">\n",
       "  <thead>\n",
       "    <tr style=\"text-align: right;\">\n",
       "      <th></th>\n",
       "      <th>date</th>\n",
       "      <th>store_nbr</th>\n",
       "      <th>lylty_card_nbr</th>\n",
       "      <th>txn_id</th>\n",
       "      <th>prod_nbr</th>\n",
       "      <th>prod_name</th>\n",
       "      <th>prod_qty</th>\n",
       "      <th>tot_sales</th>\n",
       "      <th>lifestage</th>\n",
       "      <th>premium_customer</th>\n",
       "      <th>brand name</th>\n",
       "      <th>month</th>\n",
       "    </tr>\n",
       "  </thead>\n",
       "  <tbody>\n",
       "    <tr>\n",
       "      <th>2</th>\n",
       "      <td>2019-11-12</td>\n",
       "      <td>1</td>\n",
       "      <td>13.07</td>\n",
       "      <td>3.46</td>\n",
       "      <td>96</td>\n",
       "      <td>ww original stacked chips 160g</td>\n",
       "      <td>2</td>\n",
       "      <td>3.8</td>\n",
       "      <td>midage singles/couples</td>\n",
       "      <td>budget</td>\n",
       "      <td>ww</td>\n",
       "      <td>11</td>\n",
       "    </tr>\n",
       "  </tbody>\n",
       "</table>\n",
       "</div>"
      ],
      "text/plain": [
       "        date  store_nbr  lylty_card_nbr  txn_id  prod_nbr  \\\n",
       "2 2019-11-12          1           13.07    3.46        96   \n",
       "\n",
       "                        prod_name  prod_qty  tot_sales  \\\n",
       "2  ww original stacked chips 160g         2        3.8   \n",
       "\n",
       "                lifestage premium_customer brand name  month  \n",
       "2  midage singles/couples           budget         ww     11  "
      ]
     },
     "execution_count": 280,
     "metadata": {},
     "output_type": "execute_result"
    }
   ],
   "source": [
    "chips.head(1)"
   ]
  },
  {
   "cell_type": "code",
   "execution_count": 281,
   "metadata": {},
   "outputs": [
    {
     "name": "stderr",
     "output_type": "stream",
     "text": [
      "C:\\Users\\ampad\\anaconda3\\lib\\site-packages\\ipykernel_launcher.py:1: SettingWithCopyWarning: \n",
      "A value is trying to be set on a copy of a slice from a DataFrame.\n",
      "Try using .loc[row_indexer,col_indexer] = value instead\n",
      "\n",
      "See the caveats in the documentation: https://pandas.pydata.org/pandas-docs/stable/user_guide/indexing.html#returning-a-view-versus-a-copy\n",
      "  \"\"\"Entry point for launching an IPython kernel.\n"
     ]
    }
   ],
   "source": [
    "chips['month']=chips['month'].replace({1:13,2:14})"
   ]
  },
  {
   "cell_type": "code",
   "execution_count": 282,
   "metadata": {},
   "outputs": [
    {
     "name": "stderr",
     "output_type": "stream",
     "text": [
      "C:\\Users\\ampad\\anaconda3\\lib\\site-packages\\ipykernel_launcher.py:1: SettingWithCopyWarning: \n",
      "A value is trying to be set on a copy of a slice from a DataFrame.\n",
      "Try using .loc[row_indexer,col_indexer] = value instead\n",
      "\n",
      "See the caveats in the documentation: https://pandas.pydata.org/pandas-docs/stable/user_guide/indexing.html#returning-a-view-versus-a-copy\n",
      "  \"\"\"Entry point for launching an IPython kernel.\n"
     ]
    }
   ],
   "source": [
    "chips['seasons']=pd.cut(chips['month'], [3,5,8,11,14], labels=['spring','summer','autumn','Winter'], right=False,include_lowest=True)"
   ]
  },
  {
   "cell_type": "code",
   "execution_count": 283,
   "metadata": {},
   "outputs": [
    {
     "data": {
      "text/html": [
       "<div>\n",
       "<style scoped>\n",
       "    .dataframe tbody tr th:only-of-type {\n",
       "        vertical-align: middle;\n",
       "    }\n",
       "\n",
       "    .dataframe tbody tr th {\n",
       "        vertical-align: top;\n",
       "    }\n",
       "\n",
       "    .dataframe thead th {\n",
       "        text-align: right;\n",
       "    }\n",
       "</style>\n",
       "<table border=\"1\" class=\"dataframe\">\n",
       "  <thead>\n",
       "    <tr style=\"text-align: right;\">\n",
       "      <th></th>\n",
       "      <th>date</th>\n",
       "      <th>store_nbr</th>\n",
       "      <th>lylty_card_nbr</th>\n",
       "      <th>txn_id</th>\n",
       "      <th>prod_nbr</th>\n",
       "      <th>prod_name</th>\n",
       "      <th>prod_qty</th>\n",
       "      <th>tot_sales</th>\n",
       "      <th>lifestage</th>\n",
       "      <th>premium_customer</th>\n",
       "      <th>brand name</th>\n",
       "      <th>month</th>\n",
       "      <th>seasons</th>\n",
       "    </tr>\n",
       "  </thead>\n",
       "  <tbody>\n",
       "    <tr>\n",
       "      <th>2</th>\n",
       "      <td>2019-11-12</td>\n",
       "      <td>1</td>\n",
       "      <td>13.07</td>\n",
       "      <td>3.46</td>\n",
       "      <td>96</td>\n",
       "      <td>ww original stacked chips 160g</td>\n",
       "      <td>2</td>\n",
       "      <td>3.8</td>\n",
       "      <td>midage singles/couples</td>\n",
       "      <td>budget</td>\n",
       "      <td>ww</td>\n",
       "      <td>11</td>\n",
       "      <td>Winter</td>\n",
       "    </tr>\n",
       "    <tr>\n",
       "      <th>4</th>\n",
       "      <td>2020-05-21</td>\n",
       "      <td>1</td>\n",
       "      <td>13.43</td>\n",
       "      <td>3.83</td>\n",
       "      <td>61</td>\n",
       "      <td>smiths crinkle cut  chips chicken 170g</td>\n",
       "      <td>2</td>\n",
       "      <td>2.9</td>\n",
       "      <td>midage singles/couples</td>\n",
       "      <td>budget</td>\n",
       "      <td>smiths</td>\n",
       "      <td>5</td>\n",
       "      <td>summer</td>\n",
       "    </tr>\n",
       "    <tr>\n",
       "      <th>11</th>\n",
       "      <td>2020-05-17</td>\n",
       "      <td>4</td>\n",
       "      <td>41.49</td>\n",
       "      <td>33.33</td>\n",
       "      <td>16</td>\n",
       "      <td>smiths crinkle chips salt &amp; vinegar 330g</td>\n",
       "      <td>1</td>\n",
       "      <td>5.7</td>\n",
       "      <td>midage singles/couples</td>\n",
       "      <td>budget</td>\n",
       "      <td>smiths</td>\n",
       "      <td>5</td>\n",
       "      <td>summer</td>\n",
       "    </tr>\n",
       "    <tr>\n",
       "      <th>19</th>\n",
       "      <td>2020-07-01</td>\n",
       "      <td>4</td>\n",
       "      <td>41.96</td>\n",
       "      <td>35.40</td>\n",
       "      <td>28</td>\n",
       "      <td>thins potato chips  hot &amp; spicy 175g</td>\n",
       "      <td>2</td>\n",
       "      <td>6.6</td>\n",
       "      <td>midage singles/couples</td>\n",
       "      <td>budget</td>\n",
       "      <td>thins</td>\n",
       "      <td>7</td>\n",
       "      <td>summer</td>\n",
       "    </tr>\n",
       "    <tr>\n",
       "      <th>24</th>\n",
       "      <td>2019-11-02</td>\n",
       "      <td>5</td>\n",
       "      <td>50.26</td>\n",
       "      <td>45.28</td>\n",
       "      <td>44</td>\n",
       "      <td>thins chips light&amp;  tangy 175g</td>\n",
       "      <td>2</td>\n",
       "      <td>6.6</td>\n",
       "      <td>midage singles/couples</td>\n",
       "      <td>budget</td>\n",
       "      <td>thins</td>\n",
       "      <td>11</td>\n",
       "      <td>Winter</td>\n",
       "    </tr>\n",
       "  </tbody>\n",
       "</table>\n",
       "</div>"
      ],
      "text/plain": [
       "         date  store_nbr  lylty_card_nbr  txn_id  prod_nbr  \\\n",
       "2  2019-11-12          1           13.07    3.46        96   \n",
       "4  2020-05-21          1           13.43    3.83        61   \n",
       "11 2020-05-17          4           41.49   33.33        16   \n",
       "19 2020-07-01          4           41.96   35.40        28   \n",
       "24 2019-11-02          5           50.26   45.28        44   \n",
       "\n",
       "                                   prod_name  prod_qty  tot_sales  \\\n",
       "2             ww original stacked chips 160g         2        3.8   \n",
       "4     smiths crinkle cut  chips chicken 170g         2        2.9   \n",
       "11  smiths crinkle chips salt & vinegar 330g         1        5.7   \n",
       "19      thins potato chips  hot & spicy 175g         2        6.6   \n",
       "24            thins chips light&  tangy 175g         2        6.6   \n",
       "\n",
       "                 lifestage premium_customer brand name  month seasons  \n",
       "2   midage singles/couples           budget         ww     11  Winter  \n",
       "4   midage singles/couples           budget     smiths      5  summer  \n",
       "11  midage singles/couples           budget     smiths      5  summer  \n",
       "19  midage singles/couples           budget      thins      7  summer  \n",
       "24  midage singles/couples           budget      thins     11  Winter  "
      ]
     },
     "execution_count": 283,
     "metadata": {},
     "output_type": "execute_result"
    }
   ],
   "source": [
    "chips.head()"
   ]
  },
  {
   "cell_type": "code",
   "execution_count": 284,
   "metadata": {},
   "outputs": [
    {
     "data": {
      "text/plain": [
       "Winter    0.253005\n",
       "summer    0.251052\n",
       "autumn    0.249361\n",
       "spring    0.167207\n",
       "Name: seasons, dtype: float64"
      ]
     },
     "execution_count": 284,
     "metadata": {},
     "output_type": "execute_result"
    }
   ],
   "source": [
    "chips['seasons'].value_counts()/len(chips['seasons'])"
   ]
  },
  {
   "cell_type": "code",
   "execution_count": 285,
   "metadata": {},
   "outputs": [
    {
     "name": "stdout",
     "output_type": "stream",
     "text": [
      "seasons\n",
      "Winter    85380.4\n",
      "autumn    82755.7\n",
      "summer    82726.4\n",
      "spring    56315.9\n",
      "Name: tot_sales, dtype: float64\n"
     ]
    },
    {
     "data": {
      "text/plain": [
       "Text(0.5, 1.0, 'Highest Sales of Chips per Season')"
      ]
     },
     "execution_count": 285,
     "metadata": {},
     "output_type": "execute_result"
    },
    {
     "data": {
      "image/png": "[encoded data removed]",
      "text/plain": [
       "<Figure size 720x720 with 1 Axes>"
      ]
     },
     "metadata": {
      "needs_background": "light"
     },
     "output_type": "display_data"
    }
   ],
   "source": [
    "print(chips.groupby('seasons')['tot_sales'].sum().sort_values(ascending=False))\n",
    "ax=chips.groupby('seasons')['tot_sales'].sum().sort_values(ascending=False).plot(kind='bar',figsize=(10,10), color='khaki')\n",
    "ax.set_title('Highest Sales of Chips per Season',fontdict={'size':20})"
   ]
  },
  {
   "cell_type": "markdown",
   "metadata": {},
   "source": [
    "#### Winter is the season with the highest total sales of chips, with spring the lowest. Some emphasis should be made towards increased advertissement in the spring period to bring sales up and more chips should be produced duirng the winter since its the time that chips are sold the most"
   ]
  },
  {
   "cell_type": "code",
   "execution_count": 286,
   "metadata": {},
   "outputs": [
    {
     "data": {
      "text/html": [
       "<div>\n",
       "<style scoped>\n",
       "    .dataframe tbody tr th:only-of-type {\n",
       "        vertical-align: middle;\n",
       "    }\n",
       "\n",
       "    .dataframe tbody tr th {\n",
       "        vertical-align: top;\n",
       "    }\n",
       "\n",
       "    .dataframe thead th {\n",
       "        text-align: right;\n",
       "    }\n",
       "</style>\n",
       "<table border=\"1\" class=\"dataframe\">\n",
       "  <thead>\n",
       "    <tr style=\"text-align: right;\">\n",
       "      <th></th>\n",
       "      <th>date</th>\n",
       "      <th>store_nbr</th>\n",
       "      <th>lylty_card_nbr</th>\n",
       "      <th>txn_id</th>\n",
       "      <th>prod_nbr</th>\n",
       "      <th>prod_name</th>\n",
       "      <th>prod_qty</th>\n",
       "      <th>tot_sales</th>\n",
       "      <th>lifestage</th>\n",
       "      <th>premium_customer</th>\n",
       "      <th>brand name</th>\n",
       "      <th>month</th>\n",
       "      <th>seasons</th>\n",
       "    </tr>\n",
       "  </thead>\n",
       "  <tbody>\n",
       "    <tr>\n",
       "      <th>2</th>\n",
       "      <td>2019-11-12</td>\n",
       "      <td>1</td>\n",
       "      <td>13.07</td>\n",
       "      <td>3.46</td>\n",
       "      <td>96</td>\n",
       "      <td>ww original stacked chips 160g</td>\n",
       "      <td>2</td>\n",
       "      <td>3.8</td>\n",
       "      <td>midage singles/couples</td>\n",
       "      <td>budget</td>\n",
       "      <td>ww</td>\n",
       "      <td>11</td>\n",
       "      <td>Winter</td>\n",
       "    </tr>\n",
       "    <tr>\n",
       "      <th>4</th>\n",
       "      <td>2020-05-21</td>\n",
       "      <td>1</td>\n",
       "      <td>13.43</td>\n",
       "      <td>3.83</td>\n",
       "      <td>61</td>\n",
       "      <td>smiths crinkle cut  chips chicken 170g</td>\n",
       "      <td>2</td>\n",
       "      <td>2.9</td>\n",
       "      <td>midage singles/couples</td>\n",
       "      <td>budget</td>\n",
       "      <td>smiths</td>\n",
       "      <td>5</td>\n",
       "      <td>summer</td>\n",
       "    </tr>\n",
       "  </tbody>\n",
       "</table>\n",
       "</div>"
      ],
      "text/plain": [
       "        date  store_nbr  lylty_card_nbr  txn_id  prod_nbr  \\\n",
       "2 2019-11-12          1           13.07    3.46        96   \n",
       "4 2020-05-21          1           13.43    3.83        61   \n",
       "\n",
       "                                prod_name  prod_qty  tot_sales  \\\n",
       "2          ww original stacked chips 160g         2        3.8   \n",
       "4  smiths crinkle cut  chips chicken 170g         2        2.9   \n",
       "\n",
       "                lifestage premium_customer brand name  month seasons  \n",
       "2  midage singles/couples           budget         ww     11  Winter  \n",
       "4  midage singles/couples           budget     smiths      5  summer  "
      ]
     },
     "execution_count": 286,
     "metadata": {},
     "output_type": "execute_result"
    }
   ],
   "source": [
    "chips.head(2)"
   ]
  },
  {
   "cell_type": "code",
   "execution_count": 287,
   "metadata": {},
   "outputs": [
    {
     "name": "stderr",
     "output_type": "stream",
     "text": [
      "C:\\Users\\ampad\\anaconda3\\lib\\site-packages\\ipykernel_launcher.py:2: SettingWithCopyWarning: \n",
      "A value is trying to be set on a copy of a slice from a DataFrame.\n",
      "Try using .loc[row_indexer,col_indexer] = value instead\n",
      "\n",
      "See the caveats in the documentation: https://pandas.pydata.org/pandas-docs/stable/user_guide/indexing.html#returning-a-view-versus-a-copy\n",
      "  \n"
     ]
    }
   ],
   "source": [
    "#extract packet size from product name\n",
    "chips['packet_size']=chips['prod_name'].str.split(' ').str[-1]"
   ]
  },
  {
   "cell_type": "code",
   "execution_count": 288,
   "metadata": {},
   "outputs": [
    {
     "data": {
      "text/html": [
       "<div>\n",
       "<style scoped>\n",
       "    .dataframe tbody tr th:only-of-type {\n",
       "        vertical-align: middle;\n",
       "    }\n",
       "\n",
       "    .dataframe tbody tr th {\n",
       "        vertical-align: top;\n",
       "    }\n",
       "\n",
       "    .dataframe thead th {\n",
       "        text-align: right;\n",
       "    }\n",
       "</style>\n",
       "<table border=\"1\" class=\"dataframe\">\n",
       "  <thead>\n",
       "    <tr style=\"text-align: right;\">\n",
       "      <th></th>\n",
       "      <th>date</th>\n",
       "      <th>store_nbr</th>\n",
       "      <th>lylty_card_nbr</th>\n",
       "      <th>txn_id</th>\n",
       "      <th>prod_nbr</th>\n",
       "      <th>prod_name</th>\n",
       "      <th>prod_qty</th>\n",
       "      <th>tot_sales</th>\n",
       "      <th>lifestage</th>\n",
       "      <th>premium_customer</th>\n",
       "      <th>brand name</th>\n",
       "      <th>month</th>\n",
       "      <th>seasons</th>\n",
       "      <th>packet_size</th>\n",
       "    </tr>\n",
       "  </thead>\n",
       "  <tbody>\n",
       "    <tr>\n",
       "      <th>2</th>\n",
       "      <td>2019-11-12</td>\n",
       "      <td>1</td>\n",
       "      <td>13.07</td>\n",
       "      <td>3.46</td>\n",
       "      <td>96</td>\n",
       "      <td>ww original stacked chips 160g</td>\n",
       "      <td>2</td>\n",
       "      <td>3.8</td>\n",
       "      <td>midage singles/couples</td>\n",
       "      <td>budget</td>\n",
       "      <td>ww</td>\n",
       "      <td>11</td>\n",
       "      <td>Winter</td>\n",
       "      <td>160g</td>\n",
       "    </tr>\n",
       "    <tr>\n",
       "      <th>4</th>\n",
       "      <td>2020-05-21</td>\n",
       "      <td>1</td>\n",
       "      <td>13.43</td>\n",
       "      <td>3.83</td>\n",
       "      <td>61</td>\n",
       "      <td>smiths crinkle cut  chips chicken 170g</td>\n",
       "      <td>2</td>\n",
       "      <td>2.9</td>\n",
       "      <td>midage singles/couples</td>\n",
       "      <td>budget</td>\n",
       "      <td>smiths</td>\n",
       "      <td>5</td>\n",
       "      <td>summer</td>\n",
       "      <td>170g</td>\n",
       "    </tr>\n",
       "    <tr>\n",
       "      <th>11</th>\n",
       "      <td>2020-05-17</td>\n",
       "      <td>4</td>\n",
       "      <td>41.49</td>\n",
       "      <td>33.33</td>\n",
       "      <td>16</td>\n",
       "      <td>smiths crinkle chips salt &amp; vinegar 330g</td>\n",
       "      <td>1</td>\n",
       "      <td>5.7</td>\n",
       "      <td>midage singles/couples</td>\n",
       "      <td>budget</td>\n",
       "      <td>smiths</td>\n",
       "      <td>5</td>\n",
       "      <td>summer</td>\n",
       "      <td>330g</td>\n",
       "    </tr>\n",
       "    <tr>\n",
       "      <th>19</th>\n",
       "      <td>2020-07-01</td>\n",
       "      <td>4</td>\n",
       "      <td>41.96</td>\n",
       "      <td>35.40</td>\n",
       "      <td>28</td>\n",
       "      <td>thins potato chips  hot &amp; spicy 175g</td>\n",
       "      <td>2</td>\n",
       "      <td>6.6</td>\n",
       "      <td>midage singles/couples</td>\n",
       "      <td>budget</td>\n",
       "      <td>thins</td>\n",
       "      <td>7</td>\n",
       "      <td>summer</td>\n",
       "      <td>175g</td>\n",
       "    </tr>\n",
       "    <tr>\n",
       "      <th>24</th>\n",
       "      <td>2019-11-02</td>\n",
       "      <td>5</td>\n",
       "      <td>50.26</td>\n",
       "      <td>45.28</td>\n",
       "      <td>44</td>\n",
       "      <td>thins chips light&amp;  tangy 175g</td>\n",
       "      <td>2</td>\n",
       "      <td>6.6</td>\n",
       "      <td>midage singles/couples</td>\n",
       "      <td>budget</td>\n",
       "      <td>thins</td>\n",
       "      <td>11</td>\n",
       "      <td>Winter</td>\n",
       "      <td>175g</td>\n",
       "    </tr>\n",
       "  </tbody>\n",
       "</table>\n",
       "</div>"
      ],
      "text/plain": [
       "         date  store_nbr  lylty_card_nbr  txn_id  prod_nbr  \\\n",
       "2  2019-11-12          1           13.07    3.46        96   \n",
       "4  2020-05-21          1           13.43    3.83        61   \n",
       "11 2020-05-17          4           41.49   33.33        16   \n",
       "19 2020-07-01          4           41.96   35.40        28   \n",
       "24 2019-11-02          5           50.26   45.28        44   \n",
       "\n",
       "                                   prod_name  prod_qty  tot_sales  \\\n",
       "2             ww original stacked chips 160g         2        3.8   \n",
       "4     smiths crinkle cut  chips chicken 170g         2        2.9   \n",
       "11  smiths crinkle chips salt & vinegar 330g         1        5.7   \n",
       "19      thins potato chips  hot & spicy 175g         2        6.6   \n",
       "24            thins chips light&  tangy 175g         2        6.6   \n",
       "\n",
       "                 lifestage premium_customer brand name  month seasons  \\\n",
       "2   midage singles/couples           budget         ww     11  Winter   \n",
       "4   midage singles/couples           budget     smiths      5  summer   \n",
       "11  midage singles/couples           budget     smiths      5  summer   \n",
       "19  midage singles/couples           budget      thins      7  summer   \n",
       "24  midage singles/couples           budget      thins     11  Winter   \n",
       "\n",
       "   packet_size  \n",
       "2         160g  \n",
       "4         170g  \n",
       "11        330g  \n",
       "19        175g  \n",
       "24        175g  "
      ]
     },
     "execution_count": 288,
     "metadata": {},
     "output_type": "execute_result"
    }
   ],
   "source": [
    "chips.head()"
   ]
  },
  {
   "cell_type": "code",
   "execution_count": 289,
   "metadata": {},
   "outputs": [
    {
     "name": "stderr",
     "output_type": "stream",
     "text": [
      "C:\\Users\\ampad\\anaconda3\\lib\\site-packages\\ipykernel_launcher.py:2: SettingWithCopyWarning: \n",
      "A value is trying to be set on a copy of a slice from a DataFrame.\n",
      "Try using .loc[row_indexer,col_indexer] = value instead\n",
      "\n",
      "See the caveats in the documentation: https://pandas.pydata.org/pandas-docs/stable/user_guide/indexing.html#returning-a-view-versus-a-copy\n",
      "  \n"
     ]
    }
   ],
   "source": [
    "#removing the g\n",
    "chips['packet_size']=chips['packet_size'].str.rstrip('g')"
   ]
  },
  {
   "cell_type": "code",
   "execution_count": 290,
   "metadata": {},
   "outputs": [
    {
     "data": {
      "text/html": [
       "<div>\n",
       "<style scoped>\n",
       "    .dataframe tbody tr th:only-of-type {\n",
       "        vertical-align: middle;\n",
       "    }\n",
       "\n",
       "    .dataframe tbody tr th {\n",
       "        vertical-align: top;\n",
       "    }\n",
       "\n",
       "    .dataframe thead th {\n",
       "        text-align: right;\n",
       "    }\n",
       "</style>\n",
       "<table border=\"1\" class=\"dataframe\">\n",
       "  <thead>\n",
       "    <tr style=\"text-align: right;\">\n",
       "      <th></th>\n",
       "      <th>date</th>\n",
       "      <th>store_nbr</th>\n",
       "      <th>lylty_card_nbr</th>\n",
       "      <th>txn_id</th>\n",
       "      <th>prod_nbr</th>\n",
       "      <th>prod_name</th>\n",
       "      <th>prod_qty</th>\n",
       "      <th>tot_sales</th>\n",
       "      <th>lifestage</th>\n",
       "      <th>premium_customer</th>\n",
       "      <th>brand name</th>\n",
       "      <th>month</th>\n",
       "      <th>seasons</th>\n",
       "      <th>packet_size</th>\n",
       "    </tr>\n",
       "  </thead>\n",
       "  <tbody>\n",
       "    <tr>\n",
       "      <th>2</th>\n",
       "      <td>2019-11-12</td>\n",
       "      <td>1</td>\n",
       "      <td>13.07</td>\n",
       "      <td>3.46</td>\n",
       "      <td>96</td>\n",
       "      <td>ww original stacked chips 160g</td>\n",
       "      <td>2</td>\n",
       "      <td>3.8</td>\n",
       "      <td>midage singles/couples</td>\n",
       "      <td>budget</td>\n",
       "      <td>ww</td>\n",
       "      <td>11</td>\n",
       "      <td>Winter</td>\n",
       "      <td>160</td>\n",
       "    </tr>\n",
       "    <tr>\n",
       "      <th>4</th>\n",
       "      <td>2020-05-21</td>\n",
       "      <td>1</td>\n",
       "      <td>13.43</td>\n",
       "      <td>3.83</td>\n",
       "      <td>61</td>\n",
       "      <td>smiths crinkle cut  chips chicken 170g</td>\n",
       "      <td>2</td>\n",
       "      <td>2.9</td>\n",
       "      <td>midage singles/couples</td>\n",
       "      <td>budget</td>\n",
       "      <td>smiths</td>\n",
       "      <td>5</td>\n",
       "      <td>summer</td>\n",
       "      <td>170</td>\n",
       "    </tr>\n",
       "    <tr>\n",
       "      <th>11</th>\n",
       "      <td>2020-05-17</td>\n",
       "      <td>4</td>\n",
       "      <td>41.49</td>\n",
       "      <td>33.33</td>\n",
       "      <td>16</td>\n",
       "      <td>smiths crinkle chips salt &amp; vinegar 330g</td>\n",
       "      <td>1</td>\n",
       "      <td>5.7</td>\n",
       "      <td>midage singles/couples</td>\n",
       "      <td>budget</td>\n",
       "      <td>smiths</td>\n",
       "      <td>5</td>\n",
       "      <td>summer</td>\n",
       "      <td>330</td>\n",
       "    </tr>\n",
       "    <tr>\n",
       "      <th>19</th>\n",
       "      <td>2020-07-01</td>\n",
       "      <td>4</td>\n",
       "      <td>41.96</td>\n",
       "      <td>35.40</td>\n",
       "      <td>28</td>\n",
       "      <td>thins potato chips  hot &amp; spicy 175g</td>\n",
       "      <td>2</td>\n",
       "      <td>6.6</td>\n",
       "      <td>midage singles/couples</td>\n",
       "      <td>budget</td>\n",
       "      <td>thins</td>\n",
       "      <td>7</td>\n",
       "      <td>summer</td>\n",
       "      <td>175</td>\n",
       "    </tr>\n",
       "    <tr>\n",
       "      <th>24</th>\n",
       "      <td>2019-11-02</td>\n",
       "      <td>5</td>\n",
       "      <td>50.26</td>\n",
       "      <td>45.28</td>\n",
       "      <td>44</td>\n",
       "      <td>thins chips light&amp;  tangy 175g</td>\n",
       "      <td>2</td>\n",
       "      <td>6.6</td>\n",
       "      <td>midage singles/couples</td>\n",
       "      <td>budget</td>\n",
       "      <td>thins</td>\n",
       "      <td>11</td>\n",
       "      <td>Winter</td>\n",
       "      <td>175</td>\n",
       "    </tr>\n",
       "  </tbody>\n",
       "</table>\n",
       "</div>"
      ],
      "text/plain": [
       "         date  store_nbr  lylty_card_nbr  txn_id  prod_nbr  \\\n",
       "2  2019-11-12          1           13.07    3.46        96   \n",
       "4  2020-05-21          1           13.43    3.83        61   \n",
       "11 2020-05-17          4           41.49   33.33        16   \n",
       "19 2020-07-01          4           41.96   35.40        28   \n",
       "24 2019-11-02          5           50.26   45.28        44   \n",
       "\n",
       "                                   prod_name  prod_qty  tot_sales  \\\n",
       "2             ww original stacked chips 160g         2        3.8   \n",
       "4     smiths crinkle cut  chips chicken 170g         2        2.9   \n",
       "11  smiths crinkle chips salt & vinegar 330g         1        5.7   \n",
       "19      thins potato chips  hot & spicy 175g         2        6.6   \n",
       "24            thins chips light&  tangy 175g         2        6.6   \n",
       "\n",
       "                 lifestage premium_customer brand name  month seasons  \\\n",
       "2   midage singles/couples           budget         ww     11  Winter   \n",
       "4   midage singles/couples           budget     smiths      5  summer   \n",
       "11  midage singles/couples           budget     smiths      5  summer   \n",
       "19  midage singles/couples           budget      thins      7  summer   \n",
       "24  midage singles/couples           budget      thins     11  Winter   \n",
       "\n",
       "   packet_size  \n",
       "2          160  \n",
       "4          170  \n",
       "11         330  \n",
       "19         175  \n",
       "24         175  "
      ]
     },
     "execution_count": 290,
     "metadata": {},
     "output_type": "execute_result"
    }
   ],
   "source": [
    "chips.head()"
   ]
  },
  {
   "cell_type": "code",
   "execution_count": 291,
   "metadata": {
    "scrolled": true
   },
   "outputs": [
    {
     "data": {
      "text/plain": [
       "175             15464\n",
       "170             13896\n",
       "110              9668\n",
       "330              3185\n",
       "200              3004\n",
       "160              2970\n",
       "chs&onion170     1476\n",
       "Name: packet_size, dtype: int64"
      ]
     },
     "execution_count": 291,
     "metadata": {},
     "output_type": "execute_result"
    }
   ],
   "source": [
    "chips['packet_size'].value_counts()"
   ]
  },
  {
   "cell_type": "code",
   "execution_count": 292,
   "metadata": {},
   "outputs": [
    {
     "name": "stderr",
     "output_type": "stream",
     "text": [
      "C:\\Users\\ampad\\anaconda3\\lib\\site-packages\\ipykernel_launcher.py:2: SettingWithCopyWarning: \n",
      "A value is trying to be set on a copy of a slice from a DataFrame.\n",
      "Try using .loc[row_indexer,col_indexer] = value instead\n",
      "\n",
      "See the caveats in the documentation: https://pandas.pydata.org/pandas-docs/stable/user_guide/indexing.html#returning-a-view-versus-a-copy\n",
      "  \n"
     ]
    }
   ],
   "source": [
    "#remove the words\n",
    "chips['packet_size']=chips['packet_size'].str.replace('chs&onion', '')"
   ]
  },
  {
   "cell_type": "code",
   "execution_count": 293,
   "metadata": {},
   "outputs": [
    {
     "data": {
      "text/plain": [
       "175    0.311379\n",
       "170    0.309526\n",
       "110    0.194672\n",
       "330    0.064132\n",
       "200    0.060488\n",
       "160    0.059803\n",
       "Name: packet_size, dtype: float64"
      ]
     },
     "execution_count": 293,
     "metadata": {},
     "output_type": "execute_result"
    }
   ],
   "source": [
    "chips['packet_size'].value_counts()/len(chips['packet_size'])"
   ]
  },
  {
   "cell_type": "code",
   "execution_count": 313,
   "metadata": {},
   "outputs": [
    {
     "data": {
      "text/plain": [
       "brand name  packet_size\n",
       "cobs        110            11.4\n",
       "doritos     170            13.2\n",
       "french      175             9.0\n",
       "smiths      170            11.6\n",
       "            330            11.4\n",
       "thins       175            13.2\n",
       "ww          160             9.5\n",
       "            200             9.5\n",
       "Name: tot_sales, dtype: float64"
      ]
     },
     "execution_count": 313,
     "metadata": {},
     "output_type": "execute_result"
    }
   ],
   "source": [
    "chips.groupby(['brand name','packet_size'])['tot_sales'].max()"
   ]
  }
 ],
 "metadata": {
  "kernelspec": {
   "display_name": "Python 3",
   "language": "python",
   "name": "python3"
  },
  "language_info": {
   "codemirror_mode": {
    "name": "ipython",
    "version": 3
   },
   "file_extension": ".py",
   "mimetype": "text/x-python",
   "name": "python",
   "nbconvert_exporter": "python",
   "pygments_lexer": "ipython3",
   "version": "3.7.6"
  }
 },
 "nbformat": 4,
 "nbformat_minor": 4
}
