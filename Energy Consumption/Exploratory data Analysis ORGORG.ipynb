{
 "cells": [
  {
   "cell_type": "code",
   "execution_count": 97,
   "metadata": {},
   "outputs": [],
   "source": [
    "#import the neccesary libraries\n",
    "import pandas as pd\n",
    "import numpy as np\n",
    "import seaborn as sns\n",
    "import matplotlib.pyplot as plt\n",
    "pd.set_option('display.max_rows', None)"
   ]
  },
  {
   "cell_type": "code",
   "execution_count": 98,
   "metadata": {},
   "outputs": [
    {
     "data": {
      "text/html": [
       "<div>\n",
       "<style scoped>\n",
       "    .dataframe tbody tr th:only-of-type {\n",
       "        vertical-align: middle;\n",
       "    }\n",
       "\n",
       "    .dataframe tbody tr th {\n",
       "        vertical-align: top;\n",
       "    }\n",
       "\n",
       "    .dataframe thead th {\n",
       "        text-align: right;\n",
       "    }\n",
       "</style>\n",
       "<table border=\"1\" class=\"dataframe\">\n",
       "  <thead>\n",
       "    <tr style=\"text-align: right;\">\n",
       "      <th></th>\n",
       "      <th>Unnamed: 0</th>\n",
       "      <th>meter</th>\n",
       "      <th>timestamp</th>\n",
       "      <th>meter_reading</th>\n",
       "      <th>air_temperature</th>\n",
       "      <th>cloud_coverage</th>\n",
       "      <th>dew_temperature</th>\n",
       "      <th>precip_depth_1_hr</th>\n",
       "      <th>sea_level_pressure</th>\n",
       "      <th>wind_direction</th>\n",
       "      <th>wind_speed</th>\n",
       "      <th>primary_use</th>\n",
       "      <th>square_feet</th>\n",
       "    </tr>\n",
       "  </thead>\n",
       "  <tbody>\n",
       "    <tr>\n",
       "      <th>0</th>\n",
       "      <td>0</td>\n",
       "      <td>0.0</td>\n",
       "      <td>2016-01-01 00:00:00</td>\n",
       "      <td>2.325</td>\n",
       "      <td>25.0</td>\n",
       "      <td>6.000000</td>\n",
       "      <td>20.0</td>\n",
       "      <td>0.000000</td>\n",
       "      <td>1019.7</td>\n",
       "      <td>0.0</td>\n",
       "      <td>0.0</td>\n",
       "      <td>Office</td>\n",
       "      <td>92271</td>\n",
       "    </tr>\n",
       "    <tr>\n",
       "      <th>1</th>\n",
       "      <td>1</td>\n",
       "      <td>0.0</td>\n",
       "      <td>2016-01-01 00:00:00</td>\n",
       "      <td>2.325</td>\n",
       "      <td>3.8</td>\n",
       "      <td>0.571429</td>\n",
       "      <td>2.4</td>\n",
       "      <td>0.000000</td>\n",
       "      <td>1020.9</td>\n",
       "      <td>240.0</td>\n",
       "      <td>3.1</td>\n",
       "      <td>Office</td>\n",
       "      <td>92271</td>\n",
       "    </tr>\n",
       "    <tr>\n",
       "      <th>2</th>\n",
       "      <td>2</td>\n",
       "      <td>0.0</td>\n",
       "      <td>2016-01-01 00:00:00</td>\n",
       "      <td>2.325</td>\n",
       "      <td>15.6</td>\n",
       "      <td>6.000000</td>\n",
       "      <td>-5.6</td>\n",
       "      <td>0.000000</td>\n",
       "      <td>1015.3</td>\n",
       "      <td>270.0</td>\n",
       "      <td>3.6</td>\n",
       "      <td>Office</td>\n",
       "      <td>92271</td>\n",
       "    </tr>\n",
       "    <tr>\n",
       "      <th>3</th>\n",
       "      <td>3</td>\n",
       "      <td>0.0</td>\n",
       "      <td>2016-01-01 00:00:00</td>\n",
       "      <td>2.325</td>\n",
       "      <td>10.0</td>\n",
       "      <td>8.000000</td>\n",
       "      <td>2.2</td>\n",
       "      <td>0.000000</td>\n",
       "      <td>1021.1</td>\n",
       "      <td>350.0</td>\n",
       "      <td>4.1</td>\n",
       "      <td>Office</td>\n",
       "      <td>92271</td>\n",
       "    </tr>\n",
       "    <tr>\n",
       "      <th>4</th>\n",
       "      <td>4</td>\n",
       "      <td>0.0</td>\n",
       "      <td>2016-01-01 00:00:00</td>\n",
       "      <td>2.325</td>\n",
       "      <td>-1.8</td>\n",
       "      <td>0.002792</td>\n",
       "      <td>-3.2</td>\n",
       "      <td>0.555556</td>\n",
       "      <td>1016.0</td>\n",
       "      <td>280.0</td>\n",
       "      <td>1.5</td>\n",
       "      <td>Office</td>\n",
       "      <td>92271</td>\n",
       "    </tr>\n",
       "  </tbody>\n",
       "</table>\n",
       "</div>"
      ],
      "text/plain": [
       "   Unnamed: 0  meter            timestamp  meter_reading  air_temperature  \\\n",
       "0           0    0.0  2016-01-01 00:00:00          2.325             25.0   \n",
       "1           1    0.0  2016-01-01 00:00:00          2.325              3.8   \n",
       "2           2    0.0  2016-01-01 00:00:00          2.325             15.6   \n",
       "3           3    0.0  2016-01-01 00:00:00          2.325             10.0   \n",
       "4           4    0.0  2016-01-01 00:00:00          2.325             -1.8   \n",
       "\n",
       "   cloud_coverage  dew_temperature  precip_depth_1_hr  sea_level_pressure  \\\n",
       "0        6.000000             20.0           0.000000              1019.7   \n",
       "1        0.571429              2.4           0.000000              1020.9   \n",
       "2        6.000000             -5.6           0.000000              1015.3   \n",
       "3        8.000000              2.2           0.000000              1021.1   \n",
       "4        0.002792             -3.2           0.555556              1016.0   \n",
       "\n",
       "   wind_direction  wind_speed primary_use  square_feet  \n",
       "0             0.0         0.0      Office        92271  \n",
       "1           240.0         3.1      Office        92271  \n",
       "2           270.0         3.6      Office        92271  \n",
       "3           350.0         4.1      Office        92271  \n",
       "4           280.0         1.5      Office        92271  "
      ]
     },
     "execution_count": 98,
     "metadata": {},
     "output_type": "execute_result"
    }
   ],
   "source": [
    "data=pd.read_csv('clean_data.csv')\n",
    "data.head()"
   ]
  },
  {
   "cell_type": "code",
   "execution_count": 99,
   "metadata": {},
   "outputs": [],
   "source": [
    "data=data.drop(columns=['Unnamed: 0'])"
   ]
  },
  {
   "cell_type": "code",
   "execution_count": 100,
   "metadata": {},
   "outputs": [
    {
     "data": {
      "text/html": [
       "<div>\n",
       "<style scoped>\n",
       "    .dataframe tbody tr th:only-of-type {\n",
       "        vertical-align: middle;\n",
       "    }\n",
       "\n",
       "    .dataframe tbody tr th {\n",
       "        vertical-align: top;\n",
       "    }\n",
       "\n",
       "    .dataframe thead th {\n",
       "        text-align: right;\n",
       "    }\n",
       "</style>\n",
       "<table border=\"1\" class=\"dataframe\">\n",
       "  <thead>\n",
       "    <tr style=\"text-align: right;\">\n",
       "      <th></th>\n",
       "      <th>meter</th>\n",
       "      <th>timestamp</th>\n",
       "      <th>meter_reading</th>\n",
       "      <th>air_temperature</th>\n",
       "      <th>cloud_coverage</th>\n",
       "      <th>dew_temperature</th>\n",
       "      <th>precip_depth_1_hr</th>\n",
       "      <th>sea_level_pressure</th>\n",
       "      <th>wind_direction</th>\n",
       "      <th>wind_speed</th>\n",
       "      <th>primary_use</th>\n",
       "      <th>square_feet</th>\n",
       "    </tr>\n",
       "  </thead>\n",
       "  <tbody>\n",
       "    <tr>\n",
       "      <th>0</th>\n",
       "      <td>0.0</td>\n",
       "      <td>2016-01-01 00:00:00</td>\n",
       "      <td>2.325</td>\n",
       "      <td>25.0</td>\n",
       "      <td>6.000000</td>\n",
       "      <td>20.0</td>\n",
       "      <td>0.000000</td>\n",
       "      <td>1019.7</td>\n",
       "      <td>0.0</td>\n",
       "      <td>0.0</td>\n",
       "      <td>Office</td>\n",
       "      <td>92271</td>\n",
       "    </tr>\n",
       "    <tr>\n",
       "      <th>1</th>\n",
       "      <td>0.0</td>\n",
       "      <td>2016-01-01 00:00:00</td>\n",
       "      <td>2.325</td>\n",
       "      <td>3.8</td>\n",
       "      <td>0.571429</td>\n",
       "      <td>2.4</td>\n",
       "      <td>0.000000</td>\n",
       "      <td>1020.9</td>\n",
       "      <td>240.0</td>\n",
       "      <td>3.1</td>\n",
       "      <td>Office</td>\n",
       "      <td>92271</td>\n",
       "    </tr>\n",
       "    <tr>\n",
       "      <th>2</th>\n",
       "      <td>0.0</td>\n",
       "      <td>2016-01-01 00:00:00</td>\n",
       "      <td>2.325</td>\n",
       "      <td>15.6</td>\n",
       "      <td>6.000000</td>\n",
       "      <td>-5.6</td>\n",
       "      <td>0.000000</td>\n",
       "      <td>1015.3</td>\n",
       "      <td>270.0</td>\n",
       "      <td>3.6</td>\n",
       "      <td>Office</td>\n",
       "      <td>92271</td>\n",
       "    </tr>\n",
       "    <tr>\n",
       "      <th>3</th>\n",
       "      <td>0.0</td>\n",
       "      <td>2016-01-01 00:00:00</td>\n",
       "      <td>2.325</td>\n",
       "      <td>10.0</td>\n",
       "      <td>8.000000</td>\n",
       "      <td>2.2</td>\n",
       "      <td>0.000000</td>\n",
       "      <td>1021.1</td>\n",
       "      <td>350.0</td>\n",
       "      <td>4.1</td>\n",
       "      <td>Office</td>\n",
       "      <td>92271</td>\n",
       "    </tr>\n",
       "    <tr>\n",
       "      <th>4</th>\n",
       "      <td>0.0</td>\n",
       "      <td>2016-01-01 00:00:00</td>\n",
       "      <td>2.325</td>\n",
       "      <td>-1.8</td>\n",
       "      <td>0.002792</td>\n",
       "      <td>-3.2</td>\n",
       "      <td>0.555556</td>\n",
       "      <td>1016.0</td>\n",
       "      <td>280.0</td>\n",
       "      <td>1.5</td>\n",
       "      <td>Office</td>\n",
       "      <td>92271</td>\n",
       "    </tr>\n",
       "  </tbody>\n",
       "</table>\n",
       "</div>"
      ],
      "text/plain": [
       "   meter            timestamp  meter_reading  air_temperature  cloud_coverage  \\\n",
       "0    0.0  2016-01-01 00:00:00          2.325             25.0        6.000000   \n",
       "1    0.0  2016-01-01 00:00:00          2.325              3.8        0.571429   \n",
       "2    0.0  2016-01-01 00:00:00          2.325             15.6        6.000000   \n",
       "3    0.0  2016-01-01 00:00:00          2.325             10.0        8.000000   \n",
       "4    0.0  2016-01-01 00:00:00          2.325             -1.8        0.002792   \n",
       "\n",
       "   dew_temperature  precip_depth_1_hr  sea_level_pressure  wind_direction  \\\n",
       "0             20.0           0.000000              1019.7             0.0   \n",
       "1              2.4           0.000000              1020.9           240.0   \n",
       "2             -5.6           0.000000              1015.3           270.0   \n",
       "3              2.2           0.000000              1021.1           350.0   \n",
       "4             -3.2           0.555556              1016.0           280.0   \n",
       "\n",
       "   wind_speed primary_use  square_feet  \n",
       "0         0.0      Office        92271  \n",
       "1         3.1      Office        92271  \n",
       "2         3.6      Office        92271  \n",
       "3         4.1      Office        92271  \n",
       "4         1.5      Office        92271  "
      ]
     },
     "execution_count": 100,
     "metadata": {},
     "output_type": "execute_result"
    }
   ],
   "source": [
    "data.head()"
   ]
  },
  {
   "cell_type": "code",
   "execution_count": 101,
   "metadata": {},
   "outputs": [
    {
     "data": {
      "text/plain": [
       "(139393, 12)"
      ]
     },
     "execution_count": 101,
     "metadata": {},
     "output_type": "execute_result"
    }
   ],
   "source": [
    "data.shape"
   ]
  },
  {
   "cell_type": "code",
   "execution_count": 102,
   "metadata": {},
   "outputs": [],
   "source": [
    "#duplicates to be dropped\n",
    "data['timestamp']=data['timestamp'].drop_duplicates()"
   ]
  },
  {
   "cell_type": "code",
   "execution_count": 103,
   "metadata": {},
   "outputs": [],
   "source": [
    "data=data.dropna(subset=['timestamp'])"
   ]
  },
  {
   "cell_type": "code",
   "execution_count": 104,
   "metadata": {},
   "outputs": [
    {
     "data": {
      "text/plain": [
       "(8784, 12)"
      ]
     },
     "execution_count": 104,
     "metadata": {},
     "output_type": "execute_result"
    }
   ],
   "source": [
    "data.shape"
   ]
  },
  {
   "cell_type": "markdown",
   "metadata": {},
   "source": [
    "## EXPLORATORY DATA ANALYSIS"
   ]
  },
  {
   "cell_type": "code",
   "execution_count": 105,
   "metadata": {},
   "outputs": [
    {
     "data": {
      "text/html": [
       "<div>\n",
       "<style scoped>\n",
       "    .dataframe tbody tr th:only-of-type {\n",
       "        vertical-align: middle;\n",
       "    }\n",
       "\n",
       "    .dataframe tbody tr th {\n",
       "        vertical-align: top;\n",
       "    }\n",
       "\n",
       "    .dataframe thead th {\n",
       "        text-align: right;\n",
       "    }\n",
       "</style>\n",
       "<table border=\"1\" class=\"dataframe\">\n",
       "  <thead>\n",
       "    <tr style=\"text-align: right;\">\n",
       "      <th></th>\n",
       "      <th>meter</th>\n",
       "      <th>meter_reading</th>\n",
       "      <th>air_temperature</th>\n",
       "      <th>cloud_coverage</th>\n",
       "      <th>dew_temperature</th>\n",
       "      <th>precip_depth_1_hr</th>\n",
       "      <th>sea_level_pressure</th>\n",
       "      <th>wind_direction</th>\n",
       "      <th>wind_speed</th>\n",
       "      <th>square_feet</th>\n",
       "    </tr>\n",
       "  </thead>\n",
       "  <tbody>\n",
       "    <tr>\n",
       "      <th>count</th>\n",
       "      <td>8784.000000</td>\n",
       "      <td>8784.000000</td>\n",
       "      <td>8784.000000</td>\n",
       "      <td>8784.000000</td>\n",
       "      <td>8784.000000</td>\n",
       "      <td>8784.000000</td>\n",
       "      <td>8784.000000</td>\n",
       "      <td>8784.000000</td>\n",
       "      <td>8784.000000</td>\n",
       "      <td>8784.000000</td>\n",
       "    </tr>\n",
       "    <tr>\n",
       "      <th>mean</th>\n",
       "      <td>0.177596</td>\n",
       "      <td>4.441929</td>\n",
       "      <td>22.828119</td>\n",
       "      <td>4.276745</td>\n",
       "      <td>16.811487</td>\n",
       "      <td>1.382400</td>\n",
       "      <td>1017.979964</td>\n",
       "      <td>156.798725</td>\n",
       "      <td>3.375433</td>\n",
       "      <td>83083.466416</td>\n",
       "    </tr>\n",
       "    <tr>\n",
       "      <th>std</th>\n",
       "      <td>0.480397</td>\n",
       "      <td>14.281944</td>\n",
       "      <td>6.051542</td>\n",
       "      <td>2.329354</td>\n",
       "      <td>6.527434</td>\n",
       "      <td>12.956203</td>\n",
       "      <td>4.041790</td>\n",
       "      <td>117.621912</td>\n",
       "      <td>2.154075</td>\n",
       "      <td>23269.408806</td>\n",
       "    </tr>\n",
       "    <tr>\n",
       "      <th>min</th>\n",
       "      <td>0.000000</td>\n",
       "      <td>0.000000</td>\n",
       "      <td>-1.100000</td>\n",
       "      <td>0.000000</td>\n",
       "      <td>-9.400000</td>\n",
       "      <td>-1.000000</td>\n",
       "      <td>992.000000</td>\n",
       "      <td>0.000000</td>\n",
       "      <td>0.000000</td>\n",
       "      <td>21168.000000</td>\n",
       "    </tr>\n",
       "    <tr>\n",
       "      <th>25%</th>\n",
       "      <td>0.000000</td>\n",
       "      <td>2.675000</td>\n",
       "      <td>18.900000</td>\n",
       "      <td>2.000000</td>\n",
       "      <td>13.300000</td>\n",
       "      <td>0.000000</td>\n",
       "      <td>1015.500000</td>\n",
       "      <td>60.000000</td>\n",
       "      <td>2.100000</td>\n",
       "      <td>92271.000000</td>\n",
       "    </tr>\n",
       "    <tr>\n",
       "      <th>50%</th>\n",
       "      <td>0.000000</td>\n",
       "      <td>3.275000</td>\n",
       "      <td>23.900000</td>\n",
       "      <td>4.000000</td>\n",
       "      <td>18.300000</td>\n",
       "      <td>0.000000</td>\n",
       "      <td>1018.000000</td>\n",
       "      <td>140.000000</td>\n",
       "      <td>3.100000</td>\n",
       "      <td>92271.000000</td>\n",
       "    </tr>\n",
       "    <tr>\n",
       "      <th>75%</th>\n",
       "      <td>0.000000</td>\n",
       "      <td>4.050000</td>\n",
       "      <td>26.700000</td>\n",
       "      <td>6.000000</td>\n",
       "      <td>22.200000</td>\n",
       "      <td>0.000000</td>\n",
       "      <td>1020.500000</td>\n",
       "      <td>260.000000</td>\n",
       "      <td>4.600000</td>\n",
       "      <td>92271.000000</td>\n",
       "    </tr>\n",
       "    <tr>\n",
       "      <th>max</th>\n",
       "      <td>3.000000</td>\n",
       "      <td>517.652000</td>\n",
       "      <td>36.100000</td>\n",
       "      <td>9.000000</td>\n",
       "      <td>25.600000</td>\n",
       "      <td>343.000000</td>\n",
       "      <td>1030.200000</td>\n",
       "      <td>360.000000</td>\n",
       "      <td>15.400000</td>\n",
       "      <td>92271.000000</td>\n",
       "    </tr>\n",
       "  </tbody>\n",
       "</table>\n",
       "</div>"
      ],
      "text/plain": [
       "             meter  meter_reading  air_temperature  cloud_coverage  \\\n",
       "count  8784.000000    8784.000000      8784.000000     8784.000000   \n",
       "mean      0.177596       4.441929        22.828119        4.276745   \n",
       "std       0.480397      14.281944         6.051542        2.329354   \n",
       "min       0.000000       0.000000        -1.100000        0.000000   \n",
       "25%       0.000000       2.675000        18.900000        2.000000   \n",
       "50%       0.000000       3.275000        23.900000        4.000000   \n",
       "75%       0.000000       4.050000        26.700000        6.000000   \n",
       "max       3.000000     517.652000        36.100000        9.000000   \n",
       "\n",
       "       dew_temperature  precip_depth_1_hr  sea_level_pressure  wind_direction  \\\n",
       "count      8784.000000        8784.000000         8784.000000     8784.000000   \n",
       "mean         16.811487           1.382400         1017.979964      156.798725   \n",
       "std           6.527434          12.956203            4.041790      117.621912   \n",
       "min          -9.400000          -1.000000          992.000000        0.000000   \n",
       "25%          13.300000           0.000000         1015.500000       60.000000   \n",
       "50%          18.300000           0.000000         1018.000000      140.000000   \n",
       "75%          22.200000           0.000000         1020.500000      260.000000   \n",
       "max          25.600000         343.000000         1030.200000      360.000000   \n",
       "\n",
       "        wind_speed   square_feet  \n",
       "count  8784.000000   8784.000000  \n",
       "mean      3.375433  83083.466416  \n",
       "std       2.154075  23269.408806  \n",
       "min       0.000000  21168.000000  \n",
       "25%       2.100000  92271.000000  \n",
       "50%       3.100000  92271.000000  \n",
       "75%       4.600000  92271.000000  \n",
       "max      15.400000  92271.000000  "
      ]
     },
     "execution_count": 105,
     "metadata": {},
     "output_type": "execute_result"
    }
   ],
   "source": [
    "#checking the statistics of the numerical variables\n",
    "data.describe()"
   ]
  },
  {
   "cell_type": "code",
   "execution_count": 106,
   "metadata": {},
   "outputs": [
    {
     "name": "stdout",
     "output_type": "stream",
     "text": [
      "0.0    0.850638\n",
      "1.0    0.135246\n",
      "3.0    0.014117\n",
      "Name: meter, dtype: float64\n"
     ]
    },
    {
     "data": {
      "text/plain": [
       "Text(0.5, 1.0, 'Percentage of energy meter types')"
      ]
     },
     "execution_count": 106,
     "metadata": {},
     "output_type": "execute_result"
    },
    {
     "data": {
      "image/png": "[encoded data removed]",
      "text/plain": [
       "<Figure size 576x576 with 1 Axes>"
      ]
     },
     "metadata": {},
     "output_type": "display_data"
    }
   ],
   "source": [
    "print(data['meter'].value_counts()/len(data['meter']))\n",
    "ax=(data['meter'].value_counts()/len(data['meter'])).plot(kind='pie', figsize=(8,8))\n",
    "ax.set_title('Percentage of energy meter types')"
   ]
  },
  {
   "cell_type": "markdown",
   "metadata": {},
   "source": [
    "###### The electricity energy type accounted for about 85% of the total energy of the meter types, the hot water meter type is rarely used and accounted for less than 1% of the meter types"
   ]
  },
  {
   "cell_type": "code",
   "execution_count": 107,
   "metadata": {},
   "outputs": [
    {
     "data": {
      "text/plain": [
       "Office                           0.848361\n",
       "Lodging/residential              0.137523\n",
       "Entertainment/public assembly    0.014117\n",
       "Name: primary_use, dtype: float64"
      ]
     },
     "execution_count": 107,
     "metadata": {},
     "output_type": "execute_result"
    }
   ],
   "source": [
    "data['primary_use'].value_counts()/len(data['primary_use'])"
   ]
  },
  {
   "cell_type": "code",
   "execution_count": 108,
   "metadata": {
    "scrolled": false
   },
   "outputs": [
    {
     "name": "stdout",
     "output_type": "stream",
     "text": [
      "Office                           0.848361\n",
      "Lodging/residential              0.137523\n",
      "Entertainment/public assembly    0.014117\n",
      "Name: primary_use, dtype: float64\n"
     ]
    },
    {
     "data": {
      "image/png": "[encoded data removed]",
      "text/plain": [
       "<Figure size 576x576 with 1 Axes>"
      ]
     },
     "metadata": {
      "needs_background": "light"
     },
     "output_type": "display_data"
    }
   ],
   "source": [
    "print(data['primary_use'].value_counts()/len(data['primary_use']))\n",
    "ax=(data['primary_use'].value_counts()/len(data['primary_use'])).plot(kind='bar', figsize=(8,8))\n",
    "ax.set_title('Percentage of Property types');"
   ]
  },
  {
   "cell_type": "markdown",
   "metadata": {},
   "source": [
    "##### the office property types accounted for more than four times the number of the other types combined "
   ]
  },
  {
   "cell_type": "code",
   "execution_count": 109,
   "metadata": {},
   "outputs": [
    {
     "data": {
      "text/html": [
       "<div>\n",
       "<style scoped>\n",
       "    .dataframe tbody tr th:only-of-type {\n",
       "        vertical-align: middle;\n",
       "    }\n",
       "\n",
       "    .dataframe tbody tr th {\n",
       "        vertical-align: top;\n",
       "    }\n",
       "\n",
       "    .dataframe thead th {\n",
       "        text-align: right;\n",
       "    }\n",
       "</style>\n",
       "<table border=\"1\" class=\"dataframe\">\n",
       "  <thead>\n",
       "    <tr style=\"text-align: right;\">\n",
       "      <th></th>\n",
       "      <th>meter</th>\n",
       "      <th>timestamp</th>\n",
       "      <th>meter_reading</th>\n",
       "      <th>air_temperature</th>\n",
       "      <th>cloud_coverage</th>\n",
       "      <th>dew_temperature</th>\n",
       "      <th>precip_depth_1_hr</th>\n",
       "      <th>sea_level_pressure</th>\n",
       "      <th>wind_direction</th>\n",
       "      <th>wind_speed</th>\n",
       "      <th>primary_use</th>\n",
       "      <th>square_feet</th>\n",
       "    </tr>\n",
       "  </thead>\n",
       "  <tbody>\n",
       "    <tr>\n",
       "      <th>0</th>\n",
       "      <td>0.0</td>\n",
       "      <td>2016-01-01 00:00:00</td>\n",
       "      <td>2.325</td>\n",
       "      <td>25.0</td>\n",
       "      <td>6.0</td>\n",
       "      <td>20.0</td>\n",
       "      <td>0.0</td>\n",
       "      <td>1019.7</td>\n",
       "      <td>0.0</td>\n",
       "      <td>0.0</td>\n",
       "      <td>Office</td>\n",
       "      <td>92271</td>\n",
       "    </tr>\n",
       "  </tbody>\n",
       "</table>\n",
       "</div>"
      ],
      "text/plain": [
       "   meter            timestamp  meter_reading  air_temperature  cloud_coverage  \\\n",
       "0    0.0  2016-01-01 00:00:00          2.325             25.0             6.0   \n",
       "\n",
       "   dew_temperature  precip_depth_1_hr  sea_level_pressure  wind_direction  \\\n",
       "0             20.0                0.0              1019.7             0.0   \n",
       "\n",
       "   wind_speed primary_use  square_feet  \n",
       "0         0.0      Office        92271  "
      ]
     },
     "execution_count": 109,
     "metadata": {},
     "output_type": "execute_result"
    }
   ],
   "source": [
    "data.head(1)"
   ]
  },
  {
   "cell_type": "code",
   "execution_count": 110,
   "metadata": {},
   "outputs": [
    {
     "name": "stdout",
     "output_type": "stream",
     "text": [
      "meter\n",
      "0.0     3.874853\n",
      "1.0     4.550782\n",
      "3.0    37.569965\n",
      "Name: meter_reading, dtype: float64\n"
     ]
    },
    {
     "data": {
      "image/png": "[encoded data removed]",
      "text/plain": [
       "<Figure size 504x504 with 1 Axes>"
      ]
     },
     "metadata": {
      "needs_background": "light"
     },
     "output_type": "display_data"
    }
   ],
   "source": [
    "print(data.groupby('meter')['meter_reading'].mean())\n",
    "ax=data.groupby('meter')['meter_reading'].mean().plot(kind='barh', figsize=(7,7))\n",
    "ax.set_title('Average meter readings per energy types');"
   ]
  },
  {
   "cell_type": "markdown",
   "metadata": {},
   "source": [
    "###### Energy type 0 has average meter readings of 3.8 KWh which is the lowest, which shows the electricity meter type has the least energy consumption and it is the preferred type for the buildings, the energy type 3 which is the hotwater meter type has average meter reading of 37.7 KWh, which is why it is the least energy type used"
   ]
  },
  {
   "cell_type": "code",
   "execution_count": 111,
   "metadata": {
    "scrolled": true
   },
   "outputs": [
    {
     "data": {
      "image/png": "[encoded data removed]",
      "text/plain": [
       "<Figure size 1296x432 with 1 Axes>"
      ]
     },
     "metadata": {
      "needs_background": "light"
     },
     "output_type": "display_data"
    }
   ],
   "source": [
    "sns.catplot(y='meter_reading', x='meter', data=data.sort_values('meter_reading', ascending=False), kind='boxen', height=6, aspect=3)\n",
    "plt.show()"
   ]
  },
  {
   "cell_type": "markdown",
   "metadata": {},
   "source": [
    "##### Meter readings 0 and 1 have similar medians, but it can be clearly seen that meter energy type 0 has the smallest meter reading, whiles the meter reading 3 has the most,"
   ]
  },
  {
   "cell_type": "code",
   "execution_count": 112,
   "metadata": {},
   "outputs": [
    {
     "data": {
      "text/html": [
       "<div>\n",
       "<style scoped>\n",
       "    .dataframe tbody tr th:only-of-type {\n",
       "        vertical-align: middle;\n",
       "    }\n",
       "\n",
       "    .dataframe tbody tr th {\n",
       "        vertical-align: top;\n",
       "    }\n",
       "\n",
       "    .dataframe thead th {\n",
       "        text-align: right;\n",
       "    }\n",
       "</style>\n",
       "<table border=\"1\" class=\"dataframe\">\n",
       "  <thead>\n",
       "    <tr style=\"text-align: right;\">\n",
       "      <th></th>\n",
       "      <th>meter</th>\n",
       "      <th>timestamp</th>\n",
       "      <th>meter_reading</th>\n",
       "      <th>air_temperature</th>\n",
       "      <th>cloud_coverage</th>\n",
       "      <th>dew_temperature</th>\n",
       "      <th>precip_depth_1_hr</th>\n",
       "      <th>sea_level_pressure</th>\n",
       "      <th>wind_direction</th>\n",
       "      <th>wind_speed</th>\n",
       "      <th>primary_use</th>\n",
       "      <th>square_feet</th>\n",
       "    </tr>\n",
       "  </thead>\n",
       "  <tbody>\n",
       "    <tr>\n",
       "      <th>0</th>\n",
       "      <td>0.0</td>\n",
       "      <td>2016-01-01 00:00:00</td>\n",
       "      <td>2.325</td>\n",
       "      <td>25.0</td>\n",
       "      <td>6.0</td>\n",
       "      <td>20.0</td>\n",
       "      <td>0.0</td>\n",
       "      <td>1019.7</td>\n",
       "      <td>0.0</td>\n",
       "      <td>0.0</td>\n",
       "      <td>Office</td>\n",
       "      <td>92271</td>\n",
       "    </tr>\n",
       "  </tbody>\n",
       "</table>\n",
       "</div>"
      ],
      "text/plain": [
       "   meter            timestamp  meter_reading  air_temperature  cloud_coverage  \\\n",
       "0    0.0  2016-01-01 00:00:00          2.325             25.0             6.0   \n",
       "\n",
       "   dew_temperature  precip_depth_1_hr  sea_level_pressure  wind_direction  \\\n",
       "0             20.0                0.0              1019.7             0.0   \n",
       "\n",
       "   wind_speed primary_use  square_feet  \n",
       "0         0.0      Office        92271  "
      ]
     },
     "execution_count": 112,
     "metadata": {},
     "output_type": "execute_result"
    }
   ],
   "source": [
    "data.head(1)"
   ]
  },
  {
   "cell_type": "code",
   "execution_count": 113,
   "metadata": {},
   "outputs": [
    {
     "data": {
      "image/png": "[encoded data removed]",
      "text/plain": [
       "<Figure size 1080x1080 with 12 Axes>"
      ]
     },
     "metadata": {
      "needs_background": "light"
     },
     "output_type": "display_data"
    }
   ],
   "source": [
    "data.hist(figsize=(15,15));"
   ]
  },
  {
   "cell_type": "markdown",
   "metadata": {},
   "source": [
    "##### the air temperature is left skewed with the most temperature recorded around 14 degree celsius\n",
    "##### the dew temperature is left skewed which shows the temperature of dew averagely is low\n",
    "##### the sea level pressure is a bit of a normal distribution\n",
    "##### the wind speed is a bit right skewed with the most times speed recorded over 24 hours period was around 3.56 m/s\n",
    "##### the rest of the numerical columns shape take on weird shapes..lol.."
   ]
  },
  {
   "cell_type": "code",
   "execution_count": 114,
   "metadata": {},
   "outputs": [],
   "source": [
    "#convert to the right format\n",
    "data['timestamp']=pd.to_datetime(data['timestamp'])"
   ]
  },
  {
   "cell_type": "code",
   "execution_count": 115,
   "metadata": {},
   "outputs": [
    {
     "data": {
      "text/plain": [
       "Timestamp('2016-12-31 23:00:00')"
      ]
     },
     "execution_count": 115,
     "metadata": {},
     "output_type": "execute_result"
    }
   ],
   "source": [
    "data['timestamp'].max()"
   ]
  },
  {
   "cell_type": "code",
   "execution_count": 116,
   "metadata": {},
   "outputs": [],
   "source": [
    "data['hour']=data.timestamp.dt.hour"
   ]
  },
  {
   "cell_type": "code",
   "execution_count": 117,
   "metadata": {},
   "outputs": [
    {
     "data": {
      "text/html": [
       "<div>\n",
       "<style scoped>\n",
       "    .dataframe tbody tr th:only-of-type {\n",
       "        vertical-align: middle;\n",
       "    }\n",
       "\n",
       "    .dataframe tbody tr th {\n",
       "        vertical-align: top;\n",
       "    }\n",
       "\n",
       "    .dataframe thead th {\n",
       "        text-align: right;\n",
       "    }\n",
       "</style>\n",
       "<table border=\"1\" class=\"dataframe\">\n",
       "  <thead>\n",
       "    <tr style=\"text-align: right;\">\n",
       "      <th></th>\n",
       "      <th>meter</th>\n",
       "      <th>timestamp</th>\n",
       "      <th>meter_reading</th>\n",
       "      <th>air_temperature</th>\n",
       "      <th>cloud_coverage</th>\n",
       "      <th>dew_temperature</th>\n",
       "      <th>precip_depth_1_hr</th>\n",
       "      <th>sea_level_pressure</th>\n",
       "      <th>wind_direction</th>\n",
       "      <th>wind_speed</th>\n",
       "      <th>primary_use</th>\n",
       "      <th>square_feet</th>\n",
       "      <th>hour</th>\n",
       "    </tr>\n",
       "  </thead>\n",
       "  <tbody>\n",
       "    <tr>\n",
       "      <th>0</th>\n",
       "      <td>0.0</td>\n",
       "      <td>2016-01-01 00:00:00</td>\n",
       "      <td>2.325</td>\n",
       "      <td>25.0</td>\n",
       "      <td>6.0</td>\n",
       "      <td>20.0</td>\n",
       "      <td>0.0</td>\n",
       "      <td>1019.7</td>\n",
       "      <td>0.0</td>\n",
       "      <td>0.0</td>\n",
       "      <td>Office</td>\n",
       "      <td>92271</td>\n",
       "      <td>0</td>\n",
       "    </tr>\n",
       "    <tr>\n",
       "      <th>9</th>\n",
       "      <td>0.0</td>\n",
       "      <td>2016-01-01 01:00:00</td>\n",
       "      <td>2.225</td>\n",
       "      <td>24.4</td>\n",
       "      <td>4.0</td>\n",
       "      <td>21.1</td>\n",
       "      <td>-1.0</td>\n",
       "      <td>1020.2</td>\n",
       "      <td>70.0</td>\n",
       "      <td>1.5</td>\n",
       "      <td>Office</td>\n",
       "      <td>92271</td>\n",
       "      <td>1</td>\n",
       "    </tr>\n",
       "    <tr>\n",
       "      <th>25</th>\n",
       "      <td>0.0</td>\n",
       "      <td>2016-01-01 02:00:00</td>\n",
       "      <td>2.275</td>\n",
       "      <td>22.8</td>\n",
       "      <td>2.0</td>\n",
       "      <td>21.1</td>\n",
       "      <td>0.0</td>\n",
       "      <td>1020.2</td>\n",
       "      <td>0.0</td>\n",
       "      <td>0.0</td>\n",
       "      <td>Office</td>\n",
       "      <td>92271</td>\n",
       "      <td>2</td>\n",
       "    </tr>\n",
       "    <tr>\n",
       "      <th>41</th>\n",
       "      <td>0.0</td>\n",
       "      <td>2016-01-01 03:00:00</td>\n",
       "      <td>2.575</td>\n",
       "      <td>21.1</td>\n",
       "      <td>2.0</td>\n",
       "      <td>20.6</td>\n",
       "      <td>0.0</td>\n",
       "      <td>1020.1</td>\n",
       "      <td>0.0</td>\n",
       "      <td>0.0</td>\n",
       "      <td>Office</td>\n",
       "      <td>92271</td>\n",
       "      <td>3</td>\n",
       "    </tr>\n",
       "    <tr>\n",
       "      <th>57</th>\n",
       "      <td>0.0</td>\n",
       "      <td>2016-01-01 04:00:00</td>\n",
       "      <td>3.075</td>\n",
       "      <td>20.0</td>\n",
       "      <td>2.0</td>\n",
       "      <td>20.0</td>\n",
       "      <td>-1.0</td>\n",
       "      <td>1020.0</td>\n",
       "      <td>250.0</td>\n",
       "      <td>2.6</td>\n",
       "      <td>Office</td>\n",
       "      <td>92271</td>\n",
       "      <td>4</td>\n",
       "    </tr>\n",
       "  </tbody>\n",
       "</table>\n",
       "</div>"
      ],
      "text/plain": [
       "    meter           timestamp  meter_reading  air_temperature  cloud_coverage  \\\n",
       "0     0.0 2016-01-01 00:00:00          2.325             25.0             6.0   \n",
       "9     0.0 2016-01-01 01:00:00          2.225             24.4             4.0   \n",
       "25    0.0 2016-01-01 02:00:00          2.275             22.8             2.0   \n",
       "41    0.0 2016-01-01 03:00:00          2.575             21.1             2.0   \n",
       "57    0.0 2016-01-01 04:00:00          3.075             20.0             2.0   \n",
       "\n",
       "    dew_temperature  precip_depth_1_hr  sea_level_pressure  wind_direction  \\\n",
       "0              20.0                0.0              1019.7             0.0   \n",
       "9              21.1               -1.0              1020.2            70.0   \n",
       "25             21.1                0.0              1020.2             0.0   \n",
       "41             20.6                0.0              1020.1             0.0   \n",
       "57             20.0               -1.0              1020.0           250.0   \n",
       "\n",
       "    wind_speed primary_use  square_feet  hour  \n",
       "0          0.0      Office        92271     0  \n",
       "9          1.5      Office        92271     1  \n",
       "25         0.0      Office        92271     2  \n",
       "41         0.0      Office        92271     3  \n",
       "57         2.6      Office        92271     4  "
      ]
     },
     "execution_count": 117,
     "metadata": {},
     "output_type": "execute_result"
    }
   ],
   "source": [
    "data.head()"
   ]
  },
  {
   "cell_type": "code",
   "execution_count": 118,
   "metadata": {},
   "outputs": [
    {
     "data": {
      "text/plain": [
       "23    366\n",
       "15    366\n",
       "8     366\n",
       "16    366\n",
       "1     366\n",
       "9     366\n",
       "17    366\n",
       "2     366\n",
       "10    366\n",
       "18    366\n",
       "3     366\n",
       "11    366\n",
       "19    366\n",
       "4     366\n",
       "12    366\n",
       "20    366\n",
       "5     366\n",
       "13    366\n",
       "21    366\n",
       "6     366\n",
       "14    366\n",
       "22    366\n",
       "7     366\n",
       "0     366\n",
       "Name: hour, dtype: int64"
      ]
     },
     "execution_count": 118,
     "metadata": {},
     "output_type": "execute_result"
    }
   ],
   "source": [
    "data['hour'].value_counts()"
   ]
  },
  {
   "cell_type": "code",
   "execution_count": 119,
   "metadata": {},
   "outputs": [
    {
     "data": {
      "text/plain": [
       "Text(0.5, 1.0, 'Average meter reading per Hour of day')"
      ]
     },
     "execution_count": 119,
     "metadata": {},
     "output_type": "execute_result"
    },
    {
     "data": {
      "image/png": "[encoded data removed]",
      "text/plain": [
       "<Figure size 720x720 with 1 Axes>"
      ]
     },
     "metadata": {
      "needs_background": "light"
     },
     "output_type": "display_data"
    }
   ],
   "source": [
    "ax=(data.groupby('hour')['meter_reading'].mean()).sort_values(ascending=False).plot(kind='bar', figsize=(10,10))\n",
    "ax.set_title('Average meter reading per Hour of day')"
   ]
  },
  {
   "cell_type": "markdown",
   "metadata": {},
   "source": [
    "#### 15:00(3pm) is the time of the day that recorded the highest average meter reading of over 6KWh, whiles 23:00(11pm) recorded the lowest average meter reading of around 3.7KWh, which makes sense since most equipment and devices that draw power are shut down by that time"
   ]
  },
  {
   "cell_type": "code",
   "execution_count": 120,
   "metadata": {},
   "outputs": [
    {
     "data": {
      "text/html": [
       "<div>\n",
       "<style scoped>\n",
       "    .dataframe tbody tr th:only-of-type {\n",
       "        vertical-align: middle;\n",
       "    }\n",
       "\n",
       "    .dataframe tbody tr th {\n",
       "        vertical-align: top;\n",
       "    }\n",
       "\n",
       "    .dataframe thead th {\n",
       "        text-align: right;\n",
       "    }\n",
       "</style>\n",
       "<table border=\"1\" class=\"dataframe\">\n",
       "  <thead>\n",
       "    <tr style=\"text-align: right;\">\n",
       "      <th></th>\n",
       "      <th>meter</th>\n",
       "      <th>meter_reading</th>\n",
       "      <th>air_temperature</th>\n",
       "      <th>cloud_coverage</th>\n",
       "      <th>dew_temperature</th>\n",
       "      <th>precip_depth_1_hr</th>\n",
       "      <th>sea_level_pressure</th>\n",
       "      <th>wind_direction</th>\n",
       "      <th>wind_speed</th>\n",
       "      <th>square_feet</th>\n",
       "      <th>hour</th>\n",
       "    </tr>\n",
       "  </thead>\n",
       "  <tbody>\n",
       "    <tr>\n",
       "      <th>count</th>\n",
       "      <td>8784.000000</td>\n",
       "      <td>8784.000000</td>\n",
       "      <td>8784.000000</td>\n",
       "      <td>8784.000000</td>\n",
       "      <td>8784.000000</td>\n",
       "      <td>8784.000000</td>\n",
       "      <td>8784.000000</td>\n",
       "      <td>8784.000000</td>\n",
       "      <td>8784.000000</td>\n",
       "      <td>8784.000000</td>\n",
       "      <td>8784.000000</td>\n",
       "    </tr>\n",
       "    <tr>\n",
       "      <th>mean</th>\n",
       "      <td>0.177596</td>\n",
       "      <td>4.441929</td>\n",
       "      <td>22.828119</td>\n",
       "      <td>4.276745</td>\n",
       "      <td>16.811487</td>\n",
       "      <td>1.382400</td>\n",
       "      <td>1017.979964</td>\n",
       "      <td>156.798725</td>\n",
       "      <td>3.375433</td>\n",
       "      <td>83083.466416</td>\n",
       "      <td>11.500000</td>\n",
       "    </tr>\n",
       "    <tr>\n",
       "      <th>std</th>\n",
       "      <td>0.480397</td>\n",
       "      <td>14.281944</td>\n",
       "      <td>6.051542</td>\n",
       "      <td>2.329354</td>\n",
       "      <td>6.527434</td>\n",
       "      <td>12.956203</td>\n",
       "      <td>4.041790</td>\n",
       "      <td>117.621912</td>\n",
       "      <td>2.154075</td>\n",
       "      <td>23269.408806</td>\n",
       "      <td>6.922581</td>\n",
       "    </tr>\n",
       "    <tr>\n",
       "      <th>min</th>\n",
       "      <td>0.000000</td>\n",
       "      <td>0.000000</td>\n",
       "      <td>-1.100000</td>\n",
       "      <td>0.000000</td>\n",
       "      <td>-9.400000</td>\n",
       "      <td>-1.000000</td>\n",
       "      <td>992.000000</td>\n",
       "      <td>0.000000</td>\n",
       "      <td>0.000000</td>\n",
       "      <td>21168.000000</td>\n",
       "      <td>0.000000</td>\n",
       "    </tr>\n",
       "    <tr>\n",
       "      <th>25%</th>\n",
       "      <td>0.000000</td>\n",
       "      <td>2.675000</td>\n",
       "      <td>18.900000</td>\n",
       "      <td>2.000000</td>\n",
       "      <td>13.300000</td>\n",
       "      <td>0.000000</td>\n",
       "      <td>1015.500000</td>\n",
       "      <td>60.000000</td>\n",
       "      <td>2.100000</td>\n",
       "      <td>92271.000000</td>\n",
       "      <td>5.750000</td>\n",
       "    </tr>\n",
       "    <tr>\n",
       "      <th>50%</th>\n",
       "      <td>0.000000</td>\n",
       "      <td>3.275000</td>\n",
       "      <td>23.900000</td>\n",
       "      <td>4.000000</td>\n",
       "      <td>18.300000</td>\n",
       "      <td>0.000000</td>\n",
       "      <td>1018.000000</td>\n",
       "      <td>140.000000</td>\n",
       "      <td>3.100000</td>\n",
       "      <td>92271.000000</td>\n",
       "      <td>11.500000</td>\n",
       "    </tr>\n",
       "    <tr>\n",
       "      <th>75%</th>\n",
       "      <td>0.000000</td>\n",
       "      <td>4.050000</td>\n",
       "      <td>26.700000</td>\n",
       "      <td>6.000000</td>\n",
       "      <td>22.200000</td>\n",
       "      <td>0.000000</td>\n",
       "      <td>1020.500000</td>\n",
       "      <td>260.000000</td>\n",
       "      <td>4.600000</td>\n",
       "      <td>92271.000000</td>\n",
       "      <td>17.250000</td>\n",
       "    </tr>\n",
       "    <tr>\n",
       "      <th>max</th>\n",
       "      <td>3.000000</td>\n",
       "      <td>517.652000</td>\n",
       "      <td>36.100000</td>\n",
       "      <td>9.000000</td>\n",
       "      <td>25.600000</td>\n",
       "      <td>343.000000</td>\n",
       "      <td>1030.200000</td>\n",
       "      <td>360.000000</td>\n",
       "      <td>15.400000</td>\n",
       "      <td>92271.000000</td>\n",
       "      <td>23.000000</td>\n",
       "    </tr>\n",
       "  </tbody>\n",
       "</table>\n",
       "</div>"
      ],
      "text/plain": [
       "             meter  meter_reading  air_temperature  cloud_coverage  \\\n",
       "count  8784.000000    8784.000000      8784.000000     8784.000000   \n",
       "mean      0.177596       4.441929        22.828119        4.276745   \n",
       "std       0.480397      14.281944         6.051542        2.329354   \n",
       "min       0.000000       0.000000        -1.100000        0.000000   \n",
       "25%       0.000000       2.675000        18.900000        2.000000   \n",
       "50%       0.000000       3.275000        23.900000        4.000000   \n",
       "75%       0.000000       4.050000        26.700000        6.000000   \n",
       "max       3.000000     517.652000        36.100000        9.000000   \n",
       "\n",
       "       dew_temperature  precip_depth_1_hr  sea_level_pressure  wind_direction  \\\n",
       "count      8784.000000        8784.000000         8784.000000     8784.000000   \n",
       "mean         16.811487           1.382400         1017.979964      156.798725   \n",
       "std           6.527434          12.956203            4.041790      117.621912   \n",
       "min          -9.400000          -1.000000          992.000000        0.000000   \n",
       "25%          13.300000           0.000000         1015.500000       60.000000   \n",
       "50%          18.300000           0.000000         1018.000000      140.000000   \n",
       "75%          22.200000           0.000000         1020.500000      260.000000   \n",
       "max          25.600000         343.000000         1030.200000      360.000000   \n",
       "\n",
       "        wind_speed   square_feet         hour  \n",
       "count  8784.000000   8784.000000  8784.000000  \n",
       "mean      3.375433  83083.466416    11.500000  \n",
       "std       2.154075  23269.408806     6.922581  \n",
       "min       0.000000  21168.000000     0.000000  \n",
       "25%       2.100000  92271.000000     5.750000  \n",
       "50%       3.100000  92271.000000    11.500000  \n",
       "75%       4.600000  92271.000000    17.250000  \n",
       "max      15.400000  92271.000000    23.000000  "
      ]
     },
     "execution_count": 120,
     "metadata": {},
     "output_type": "execute_result"
    }
   ],
   "source": [
    "data.describe()"
   ]
  },
  {
   "cell_type": "code",
   "execution_count": 121,
   "metadata": {},
   "outputs": [],
   "source": [
    "#binning the hours of the day into categories\n",
    "data['time_of_day']=pd.cut(data['hour'], [0,6,12,18,23], labels=['Night','Morning','Afternoon','Evening'])"
   ]
  },
  {
   "cell_type": "code",
   "execution_count": 122,
   "metadata": {},
   "outputs": [],
   "source": [
    "data['time_of_day']=data['time_of_day'].fillna('Night')"
   ]
  },
  {
   "cell_type": "code",
   "execution_count": 123,
   "metadata": {},
   "outputs": [
    {
     "data": {
      "text/html": [
       "<div>\n",
       "<style scoped>\n",
       "    .dataframe tbody tr th:only-of-type {\n",
       "        vertical-align: middle;\n",
       "    }\n",
       "\n",
       "    .dataframe tbody tr th {\n",
       "        vertical-align: top;\n",
       "    }\n",
       "\n",
       "    .dataframe thead th {\n",
       "        text-align: right;\n",
       "    }\n",
       "</style>\n",
       "<table border=\"1\" class=\"dataframe\">\n",
       "  <thead>\n",
       "    <tr style=\"text-align: right;\">\n",
       "      <th></th>\n",
       "      <th>meter</th>\n",
       "      <th>timestamp</th>\n",
       "      <th>meter_reading</th>\n",
       "      <th>air_temperature</th>\n",
       "      <th>cloud_coverage</th>\n",
       "      <th>dew_temperature</th>\n",
       "      <th>precip_depth_1_hr</th>\n",
       "      <th>sea_level_pressure</th>\n",
       "      <th>wind_direction</th>\n",
       "      <th>wind_speed</th>\n",
       "      <th>primary_use</th>\n",
       "      <th>square_feet</th>\n",
       "      <th>hour</th>\n",
       "      <th>time_of_day</th>\n",
       "    </tr>\n",
       "  </thead>\n",
       "  <tbody>\n",
       "    <tr>\n",
       "      <th>0</th>\n",
       "      <td>0.0</td>\n",
       "      <td>2016-01-01 00:00:00</td>\n",
       "      <td>2.325</td>\n",
       "      <td>25.0</td>\n",
       "      <td>6.0</td>\n",
       "      <td>20.0</td>\n",
       "      <td>0.0</td>\n",
       "      <td>1019.7</td>\n",
       "      <td>0.0</td>\n",
       "      <td>0.0</td>\n",
       "      <td>Office</td>\n",
       "      <td>92271</td>\n",
       "      <td>0</td>\n",
       "      <td>Night</td>\n",
       "    </tr>\n",
       "    <tr>\n",
       "      <th>9</th>\n",
       "      <td>0.0</td>\n",
       "      <td>2016-01-01 01:00:00</td>\n",
       "      <td>2.225</td>\n",
       "      <td>24.4</td>\n",
       "      <td>4.0</td>\n",
       "      <td>21.1</td>\n",
       "      <td>-1.0</td>\n",
       "      <td>1020.2</td>\n",
       "      <td>70.0</td>\n",
       "      <td>1.5</td>\n",
       "      <td>Office</td>\n",
       "      <td>92271</td>\n",
       "      <td>1</td>\n",
       "      <td>Night</td>\n",
       "    </tr>\n",
       "    <tr>\n",
       "      <th>25</th>\n",
       "      <td>0.0</td>\n",
       "      <td>2016-01-01 02:00:00</td>\n",
       "      <td>2.275</td>\n",
       "      <td>22.8</td>\n",
       "      <td>2.0</td>\n",
       "      <td>21.1</td>\n",
       "      <td>0.0</td>\n",
       "      <td>1020.2</td>\n",
       "      <td>0.0</td>\n",
       "      <td>0.0</td>\n",
       "      <td>Office</td>\n",
       "      <td>92271</td>\n",
       "      <td>2</td>\n",
       "      <td>Night</td>\n",
       "    </tr>\n",
       "    <tr>\n",
       "      <th>41</th>\n",
       "      <td>0.0</td>\n",
       "      <td>2016-01-01 03:00:00</td>\n",
       "      <td>2.575</td>\n",
       "      <td>21.1</td>\n",
       "      <td>2.0</td>\n",
       "      <td>20.6</td>\n",
       "      <td>0.0</td>\n",
       "      <td>1020.1</td>\n",
       "      <td>0.0</td>\n",
       "      <td>0.0</td>\n",
       "      <td>Office</td>\n",
       "      <td>92271</td>\n",
       "      <td>3</td>\n",
       "      <td>Night</td>\n",
       "    </tr>\n",
       "    <tr>\n",
       "      <th>57</th>\n",
       "      <td>0.0</td>\n",
       "      <td>2016-01-01 04:00:00</td>\n",
       "      <td>3.075</td>\n",
       "      <td>20.0</td>\n",
       "      <td>2.0</td>\n",
       "      <td>20.0</td>\n",
       "      <td>-1.0</td>\n",
       "      <td>1020.0</td>\n",
       "      <td>250.0</td>\n",
       "      <td>2.6</td>\n",
       "      <td>Office</td>\n",
       "      <td>92271</td>\n",
       "      <td>4</td>\n",
       "      <td>Night</td>\n",
       "    </tr>\n",
       "  </tbody>\n",
       "</table>\n",
       "</div>"
      ],
      "text/plain": [
       "    meter           timestamp  meter_reading  air_temperature  cloud_coverage  \\\n",
       "0     0.0 2016-01-01 00:00:00          2.325             25.0             6.0   \n",
       "9     0.0 2016-01-01 01:00:00          2.225             24.4             4.0   \n",
       "25    0.0 2016-01-01 02:00:00          2.275             22.8             2.0   \n",
       "41    0.0 2016-01-01 03:00:00          2.575             21.1             2.0   \n",
       "57    0.0 2016-01-01 04:00:00          3.075             20.0             2.0   \n",
       "\n",
       "    dew_temperature  precip_depth_1_hr  sea_level_pressure  wind_direction  \\\n",
       "0              20.0                0.0              1019.7             0.0   \n",
       "9              21.1               -1.0              1020.2            70.0   \n",
       "25             21.1                0.0              1020.2             0.0   \n",
       "41             20.6                0.0              1020.1             0.0   \n",
       "57             20.0               -1.0              1020.0           250.0   \n",
       "\n",
       "    wind_speed primary_use  square_feet  hour time_of_day  \n",
       "0          0.0      Office        92271     0       Night  \n",
       "9          1.5      Office        92271     1       Night  \n",
       "25         0.0      Office        92271     2       Night  \n",
       "41         0.0      Office        92271     3       Night  \n",
       "57         2.6      Office        92271     4       Night  "
      ]
     },
     "execution_count": 123,
     "metadata": {},
     "output_type": "execute_result"
    }
   ],
   "source": [
    "data.head()"
   ]
  },
  {
   "cell_type": "code",
   "execution_count": 124,
   "metadata": {
    "scrolled": false
   },
   "outputs": [
    {
     "data": {
      "image/png": "[encoded data removed]",
      "text/plain": [
       "<Figure size 576x576 with 1 Axes>"
      ]
     },
     "metadata": {
      "needs_background": "light"
     },
     "output_type": "display_data"
    }
   ],
   "source": [
    "ax=data.groupby('time_of_day')['meter_reading'].mean().sort_values(ascending=False).plot(kind='barh',  color='green',figsize=(8,8))\n",
    "ax.set_title('Average meter reading per time of day');"
   ]
  },
  {
   "cell_type": "code",
   "execution_count": null,
   "metadata": {},
   "outputs": [],
   "source": []
  },
  {
   "cell_type": "markdown",
   "metadata": {},
   "source": [
    "#### the highest average meter readings are recorded in the mornings and afternoons of around 5KWh, mostly that is the time equipment and devices are being used. The night and evenings recorded the lowest meter readings of around 4KWh. This can give a sense that the type of buildings captured in this analysis are of the industrial type"
   ]
  },
  {
   "cell_type": "code",
   "execution_count": 125,
   "metadata": {},
   "outputs": [
    {
     "name": "stderr",
     "output_type": "stream",
     "text": [
      "C:\\Users\\ampad\\anaconda3\\lib\\site-packages\\ipykernel_launcher.py:1: FutureWarning: Indexing with multiple keys (implicitly converted to a tuple of keys) will be deprecated, use a list instead.\n",
      "  \"\"\"Entry point for launching an IPython kernel.\n"
     ]
    },
    {
     "data": {
      "text/html": [
       "<div>\n",
       "<style scoped>\n",
       "    .dataframe tbody tr th:only-of-type {\n",
       "        vertical-align: middle;\n",
       "    }\n",
       "\n",
       "    .dataframe tbody tr th {\n",
       "        vertical-align: top;\n",
       "    }\n",
       "\n",
       "    .dataframe thead th {\n",
       "        text-align: right;\n",
       "    }\n",
       "</style>\n",
       "<table border=\"1\" class=\"dataframe\">\n",
       "  <thead>\n",
       "    <tr style=\"text-align: right;\">\n",
       "      <th></th>\n",
       "      <th>air_temperature</th>\n",
       "      <th>wind_speed</th>\n",
       "      <th>dew_temperature</th>\n",
       "    </tr>\n",
       "    <tr>\n",
       "      <th>time_of_day</th>\n",
       "      <th></th>\n",
       "      <th></th>\n",
       "      <th></th>\n",
       "    </tr>\n",
       "  </thead>\n",
       "  <tbody>\n",
       "    <tr>\n",
       "      <th>Evening</th>\n",
       "      <td>26.490765</td>\n",
       "      <td>4.592623</td>\n",
       "      <td>16.055027</td>\n",
       "    </tr>\n",
       "    <tr>\n",
       "      <th>Afternoon</th>\n",
       "      <td>24.800956</td>\n",
       "      <td>3.856740</td>\n",
       "      <td>16.922495</td>\n",
       "    </tr>\n",
       "    <tr>\n",
       "      <th>Night</th>\n",
       "      <td>21.489539</td>\n",
       "      <td>3.013505</td>\n",
       "      <td>17.104801</td>\n",
       "    </tr>\n",
       "    <tr>\n",
       "      <th>Morning</th>\n",
       "      <td>19.364754</td>\n",
       "      <td>2.302049</td>\n",
       "      <td>16.988661</td>\n",
       "    </tr>\n",
       "  </tbody>\n",
       "</table>\n",
       "</div>"
      ],
      "text/plain": [
       "             air_temperature  wind_speed  dew_temperature\n",
       "time_of_day                                              \n",
       "Evening            26.490765    4.592623        16.055027\n",
       "Afternoon          24.800956    3.856740        16.922495\n",
       "Night              21.489539    3.013505        17.104801\n",
       "Morning            19.364754    2.302049        16.988661"
      ]
     },
     "execution_count": 125,
     "metadata": {},
     "output_type": "execute_result"
    }
   ],
   "source": [
    "data.groupby('time_of_day')['air_temperature','wind_speed','dew_temperature'].mean().sort_values(by='air_temperature',ascending=False)"
   ]
  },
  {
   "cell_type": "markdown",
   "metadata": {},
   "source": [
    "#### the air temperature is highest during the evening and lowest in the morning\n",
    "#### the speed of the wind is fastest in the evenings and lower in the morning\n",
    "#### the temperature of the dew is highest at night and lowest in the evening"
   ]
  },
  {
   "cell_type": "code",
   "execution_count": 126,
   "metadata": {},
   "outputs": [
    {
     "data": {
      "text/html": [
       "<div>\n",
       "<style scoped>\n",
       "    .dataframe tbody tr th:only-of-type {\n",
       "        vertical-align: middle;\n",
       "    }\n",
       "\n",
       "    .dataframe tbody tr th {\n",
       "        vertical-align: top;\n",
       "    }\n",
       "\n",
       "    .dataframe thead th {\n",
       "        text-align: right;\n",
       "    }\n",
       "</style>\n",
       "<table border=\"1\" class=\"dataframe\">\n",
       "  <thead>\n",
       "    <tr style=\"text-align: right;\">\n",
       "      <th></th>\n",
       "      <th>meter</th>\n",
       "      <th>timestamp</th>\n",
       "      <th>meter_reading</th>\n",
       "      <th>air_temperature</th>\n",
       "      <th>cloud_coverage</th>\n",
       "      <th>dew_temperature</th>\n",
       "      <th>precip_depth_1_hr</th>\n",
       "      <th>sea_level_pressure</th>\n",
       "      <th>wind_direction</th>\n",
       "      <th>wind_speed</th>\n",
       "      <th>primary_use</th>\n",
       "      <th>square_feet</th>\n",
       "      <th>hour</th>\n",
       "      <th>time_of_day</th>\n",
       "    </tr>\n",
       "  </thead>\n",
       "  <tbody>\n",
       "    <tr>\n",
       "      <th>0</th>\n",
       "      <td>0.0</td>\n",
       "      <td>2016-01-01 00:00:00</td>\n",
       "      <td>2.325</td>\n",
       "      <td>25.0</td>\n",
       "      <td>6.0</td>\n",
       "      <td>20.0</td>\n",
       "      <td>0.0</td>\n",
       "      <td>1019.7</td>\n",
       "      <td>0.0</td>\n",
       "      <td>0.0</td>\n",
       "      <td>Office</td>\n",
       "      <td>92271</td>\n",
       "      <td>0</td>\n",
       "      <td>Night</td>\n",
       "    </tr>\n",
       "    <tr>\n",
       "      <th>9</th>\n",
       "      <td>0.0</td>\n",
       "      <td>2016-01-01 01:00:00</td>\n",
       "      <td>2.225</td>\n",
       "      <td>24.4</td>\n",
       "      <td>4.0</td>\n",
       "      <td>21.1</td>\n",
       "      <td>-1.0</td>\n",
       "      <td>1020.2</td>\n",
       "      <td>70.0</td>\n",
       "      <td>1.5</td>\n",
       "      <td>Office</td>\n",
       "      <td>92271</td>\n",
       "      <td>1</td>\n",
       "      <td>Night</td>\n",
       "    </tr>\n",
       "    <tr>\n",
       "      <th>25</th>\n",
       "      <td>0.0</td>\n",
       "      <td>2016-01-01 02:00:00</td>\n",
       "      <td>2.275</td>\n",
       "      <td>22.8</td>\n",
       "      <td>2.0</td>\n",
       "      <td>21.1</td>\n",
       "      <td>0.0</td>\n",
       "      <td>1020.2</td>\n",
       "      <td>0.0</td>\n",
       "      <td>0.0</td>\n",
       "      <td>Office</td>\n",
       "      <td>92271</td>\n",
       "      <td>2</td>\n",
       "      <td>Night</td>\n",
       "    </tr>\n",
       "    <tr>\n",
       "      <th>41</th>\n",
       "      <td>0.0</td>\n",
       "      <td>2016-01-01 03:00:00</td>\n",
       "      <td>2.575</td>\n",
       "      <td>21.1</td>\n",
       "      <td>2.0</td>\n",
       "      <td>20.6</td>\n",
       "      <td>0.0</td>\n",
       "      <td>1020.1</td>\n",
       "      <td>0.0</td>\n",
       "      <td>0.0</td>\n",
       "      <td>Office</td>\n",
       "      <td>92271</td>\n",
       "      <td>3</td>\n",
       "      <td>Night</td>\n",
       "    </tr>\n",
       "    <tr>\n",
       "      <th>57</th>\n",
       "      <td>0.0</td>\n",
       "      <td>2016-01-01 04:00:00</td>\n",
       "      <td>3.075</td>\n",
       "      <td>20.0</td>\n",
       "      <td>2.0</td>\n",
       "      <td>20.0</td>\n",
       "      <td>-1.0</td>\n",
       "      <td>1020.0</td>\n",
       "      <td>250.0</td>\n",
       "      <td>2.6</td>\n",
       "      <td>Office</td>\n",
       "      <td>92271</td>\n",
       "      <td>4</td>\n",
       "      <td>Night</td>\n",
       "    </tr>\n",
       "  </tbody>\n",
       "</table>\n",
       "</div>"
      ],
      "text/plain": [
       "    meter           timestamp  meter_reading  air_temperature  cloud_coverage  \\\n",
       "0     0.0 2016-01-01 00:00:00          2.325             25.0             6.0   \n",
       "9     0.0 2016-01-01 01:00:00          2.225             24.4             4.0   \n",
       "25    0.0 2016-01-01 02:00:00          2.275             22.8             2.0   \n",
       "41    0.0 2016-01-01 03:00:00          2.575             21.1             2.0   \n",
       "57    0.0 2016-01-01 04:00:00          3.075             20.0             2.0   \n",
       "\n",
       "    dew_temperature  precip_depth_1_hr  sea_level_pressure  wind_direction  \\\n",
       "0              20.0                0.0              1019.7             0.0   \n",
       "9              21.1               -1.0              1020.2            70.0   \n",
       "25             21.1                0.0              1020.2             0.0   \n",
       "41             20.6                0.0              1020.1             0.0   \n",
       "57             20.0               -1.0              1020.0           250.0   \n",
       "\n",
       "    wind_speed primary_use  square_feet  hour time_of_day  \n",
       "0          0.0      Office        92271     0       Night  \n",
       "9          1.5      Office        92271     1       Night  \n",
       "25         0.0      Office        92271     2       Night  \n",
       "41         0.0      Office        92271     3       Night  \n",
       "57         2.6      Office        92271     4       Night  "
      ]
     },
     "execution_count": 126,
     "metadata": {},
     "output_type": "execute_result"
    }
   ],
   "source": [
    "data.head()"
   ]
  },
  {
   "cell_type": "code",
   "execution_count": 127,
   "metadata": {},
   "outputs": [],
   "source": [
    "data['month']=data.timestamp.dt.month"
   ]
  },
  {
   "cell_type": "code",
   "execution_count": 128,
   "metadata": {},
   "outputs": [
    {
     "data": {
      "text/html": [
       "<div>\n",
       "<style scoped>\n",
       "    .dataframe tbody tr th:only-of-type {\n",
       "        vertical-align: middle;\n",
       "    }\n",
       "\n",
       "    .dataframe tbody tr th {\n",
       "        vertical-align: top;\n",
       "    }\n",
       "\n",
       "    .dataframe thead th {\n",
       "        text-align: right;\n",
       "    }\n",
       "</style>\n",
       "<table border=\"1\" class=\"dataframe\">\n",
       "  <thead>\n",
       "    <tr style=\"text-align: right;\">\n",
       "      <th></th>\n",
       "      <th>meter</th>\n",
       "      <th>timestamp</th>\n",
       "      <th>meter_reading</th>\n",
       "      <th>air_temperature</th>\n",
       "      <th>cloud_coverage</th>\n",
       "      <th>dew_temperature</th>\n",
       "      <th>precip_depth_1_hr</th>\n",
       "      <th>sea_level_pressure</th>\n",
       "      <th>wind_direction</th>\n",
       "      <th>wind_speed</th>\n",
       "      <th>primary_use</th>\n",
       "      <th>square_feet</th>\n",
       "      <th>hour</th>\n",
       "      <th>time_of_day</th>\n",
       "      <th>month</th>\n",
       "    </tr>\n",
       "  </thead>\n",
       "  <tbody>\n",
       "    <tr>\n",
       "      <th>0</th>\n",
       "      <td>0.0</td>\n",
       "      <td>2016-01-01 00:00:00</td>\n",
       "      <td>2.325</td>\n",
       "      <td>25.0</td>\n",
       "      <td>6.0</td>\n",
       "      <td>20.0</td>\n",
       "      <td>0.0</td>\n",
       "      <td>1019.7</td>\n",
       "      <td>0.0</td>\n",
       "      <td>0.0</td>\n",
       "      <td>Office</td>\n",
       "      <td>92271</td>\n",
       "      <td>0</td>\n",
       "      <td>Night</td>\n",
       "      <td>1</td>\n",
       "    </tr>\n",
       "    <tr>\n",
       "      <th>9</th>\n",
       "      <td>0.0</td>\n",
       "      <td>2016-01-01 01:00:00</td>\n",
       "      <td>2.225</td>\n",
       "      <td>24.4</td>\n",
       "      <td>4.0</td>\n",
       "      <td>21.1</td>\n",
       "      <td>-1.0</td>\n",
       "      <td>1020.2</td>\n",
       "      <td>70.0</td>\n",
       "      <td>1.5</td>\n",
       "      <td>Office</td>\n",
       "      <td>92271</td>\n",
       "      <td>1</td>\n",
       "      <td>Night</td>\n",
       "      <td>1</td>\n",
       "    </tr>\n",
       "    <tr>\n",
       "      <th>25</th>\n",
       "      <td>0.0</td>\n",
       "      <td>2016-01-01 02:00:00</td>\n",
       "      <td>2.275</td>\n",
       "      <td>22.8</td>\n",
       "      <td>2.0</td>\n",
       "      <td>21.1</td>\n",
       "      <td>0.0</td>\n",
       "      <td>1020.2</td>\n",
       "      <td>0.0</td>\n",
       "      <td>0.0</td>\n",
       "      <td>Office</td>\n",
       "      <td>92271</td>\n",
       "      <td>2</td>\n",
       "      <td>Night</td>\n",
       "      <td>1</td>\n",
       "    </tr>\n",
       "    <tr>\n",
       "      <th>41</th>\n",
       "      <td>0.0</td>\n",
       "      <td>2016-01-01 03:00:00</td>\n",
       "      <td>2.575</td>\n",
       "      <td>21.1</td>\n",
       "      <td>2.0</td>\n",
       "      <td>20.6</td>\n",
       "      <td>0.0</td>\n",
       "      <td>1020.1</td>\n",
       "      <td>0.0</td>\n",
       "      <td>0.0</td>\n",
       "      <td>Office</td>\n",
       "      <td>92271</td>\n",
       "      <td>3</td>\n",
       "      <td>Night</td>\n",
       "      <td>1</td>\n",
       "    </tr>\n",
       "    <tr>\n",
       "      <th>57</th>\n",
       "      <td>0.0</td>\n",
       "      <td>2016-01-01 04:00:00</td>\n",
       "      <td>3.075</td>\n",
       "      <td>20.0</td>\n",
       "      <td>2.0</td>\n",
       "      <td>20.0</td>\n",
       "      <td>-1.0</td>\n",
       "      <td>1020.0</td>\n",
       "      <td>250.0</td>\n",
       "      <td>2.6</td>\n",
       "      <td>Office</td>\n",
       "      <td>92271</td>\n",
       "      <td>4</td>\n",
       "      <td>Night</td>\n",
       "      <td>1</td>\n",
       "    </tr>\n",
       "  </tbody>\n",
       "</table>\n",
       "</div>"
      ],
      "text/plain": [
       "    meter           timestamp  meter_reading  air_temperature  cloud_coverage  \\\n",
       "0     0.0 2016-01-01 00:00:00          2.325             25.0             6.0   \n",
       "9     0.0 2016-01-01 01:00:00          2.225             24.4             4.0   \n",
       "25    0.0 2016-01-01 02:00:00          2.275             22.8             2.0   \n",
       "41    0.0 2016-01-01 03:00:00          2.575             21.1             2.0   \n",
       "57    0.0 2016-01-01 04:00:00          3.075             20.0             2.0   \n",
       "\n",
       "    dew_temperature  precip_depth_1_hr  sea_level_pressure  wind_direction  \\\n",
       "0              20.0                0.0              1019.7             0.0   \n",
       "9              21.1               -1.0              1020.2            70.0   \n",
       "25             21.1                0.0              1020.2             0.0   \n",
       "41             20.6                0.0              1020.1             0.0   \n",
       "57             20.0               -1.0              1020.0           250.0   \n",
       "\n",
       "    wind_speed primary_use  square_feet  hour time_of_day  month  \n",
       "0          0.0      Office        92271     0       Night      1  \n",
       "9          1.5      Office        92271     1       Night      1  \n",
       "25         0.0      Office        92271     2       Night      1  \n",
       "41         0.0      Office        92271     3       Night      1  \n",
       "57         2.6      Office        92271     4       Night      1  "
      ]
     },
     "execution_count": 128,
     "metadata": {},
     "output_type": "execute_result"
    }
   ],
   "source": [
    "data.head()"
   ]
  },
  {
   "cell_type": "code",
   "execution_count": 129,
   "metadata": {},
   "outputs": [
    {
     "data": {
      "text/plain": [
       "7     744\n",
       "5     744\n",
       "12    744\n",
       "3     744\n",
       "10    744\n",
       "1     744\n",
       "8     744\n",
       "6     720\n",
       "4     720\n",
       "11    720\n",
       "9     720\n",
       "2     696\n",
       "Name: month, dtype: int64"
      ]
     },
     "execution_count": 129,
     "metadata": {},
     "output_type": "execute_result"
    }
   ],
   "source": [
    "data['month'].value_counts()"
   ]
  },
  {
   "cell_type": "code",
   "execution_count": 130,
   "metadata": {},
   "outputs": [],
   "source": [
    "data['time_of_day']=pd.cut(data['month'], [0,6,12,18,23], labels=['Night','Morning','Afternoon','Evening'])"
   ]
  },
  {
   "cell_type": "code",
   "execution_count": 131,
   "metadata": {},
   "outputs": [
    {
     "data": {
      "text/plain": [
       "7     744\n",
       "5     744\n",
       "12    744\n",
       "3     744\n",
       "10    744\n",
       "1     744\n",
       "8     744\n",
       "6     720\n",
       "4     720\n",
       "11    720\n",
       "9     720\n",
       "2     696\n",
       "Name: month, dtype: int64"
      ]
     },
     "execution_count": 131,
     "metadata": {},
     "output_type": "execute_result"
    }
   ],
   "source": [
    "data['month'].value_counts()"
   ]
  },
  {
   "cell_type": "code",
   "execution_count": 132,
   "metadata": {},
   "outputs": [],
   "source": [
    "data['month']=data['month'].replace({1:13,2:14})"
   ]
  },
  {
   "cell_type": "code",
   "execution_count": 146,
   "metadata": {},
   "outputs": [],
   "source": [
    "data['seasons']=pd.cut(data['month'], [3,5,8,11,14], labels=['spring','summer','autumn','Winter'], right=False,include_lowest=True)"
   ]
  },
  {
   "cell_type": "code",
   "execution_count": 149,
   "metadata": {},
   "outputs": [
    {
     "data": {
      "text/plain": [
       "autumn    0.251366\n",
       "summer    0.251366\n",
       "Winter    0.166667\n",
       "spring    0.166667\n",
       "Name: seasons, dtype: float64"
      ]
     },
     "execution_count": 149,
     "metadata": {},
     "output_type": "execute_result"
    }
   ],
   "source": [
    "data['seasons'].value_counts()/len(data['seasons'])"
   ]
  },
  {
   "cell_type": "code",
   "execution_count": 1,
   "metadata": {},
   "outputs": [
    {
     "ename": "NameError",
     "evalue": "name 'data' is not defined",
     "output_type": "error",
     "traceback": [
      "\u001b[1;31m---------------------------------------------------------------------------\u001b[0m",
      "\u001b[1;31mNameError\u001b[0m                                 Traceback (most recent call last)",
      "\u001b[1;32m<ipython-input-1-996c7ea4d6da>\u001b[0m in \u001b[0;36m<module>\u001b[1;34m\u001b[0m\n\u001b[1;32m----> 1\u001b[1;33m \u001b[0max\u001b[0m\u001b[1;33m=\u001b[0m\u001b[0mdata\u001b[0m\u001b[1;33m.\u001b[0m\u001b[0mgroupby\u001b[0m\u001b[1;33m(\u001b[0m\u001b[1;34m'seasons'\u001b[0m\u001b[1;33m)\u001b[0m\u001b[1;33m[\u001b[0m\u001b[1;34m'meter_reading'\u001b[0m\u001b[1;33m]\u001b[0m\u001b[1;33m.\u001b[0m\u001b[0mmean\u001b[0m\u001b[1;33m(\u001b[0m\u001b[1;33m)\u001b[0m\u001b[1;33m.\u001b[0m\u001b[0msort_values\u001b[0m\u001b[1;33m(\u001b[0m\u001b[0mascending\u001b[0m\u001b[1;33m=\u001b[0m\u001b[1;32mFalse\u001b[0m\u001b[1;33m)\u001b[0m\u001b[1;33m.\u001b[0m\u001b[0mplot\u001b[0m\u001b[1;33m(\u001b[0m\u001b[0mkind\u001b[0m\u001b[1;33m=\u001b[0m\u001b[1;34m'barh'\u001b[0m\u001b[1;33m,\u001b[0m  \u001b[0mcolor\u001b[0m\u001b[1;33m=\u001b[0m\u001b[1;34m'gold'\u001b[0m\u001b[1;33m,\u001b[0m\u001b[0mfigsize\u001b[0m\u001b[1;33m=\u001b[0m\u001b[1;33m(\u001b[0m\u001b[1;36m8\u001b[0m\u001b[1;33m,\u001b[0m\u001b[1;36m8\u001b[0m\u001b[1;33m)\u001b[0m\u001b[1;33m)\u001b[0m\u001b[1;33m\u001b[0m\u001b[1;33m\u001b[0m\u001b[0m\n\u001b[0m\u001b[0;32m      2\u001b[0m \u001b[0max\u001b[0m\u001b[1;33m.\u001b[0m\u001b[0mset_title\u001b[0m\u001b[1;33m(\u001b[0m\u001b[1;34m'Average meter reading per season'\u001b[0m\u001b[1;33m)\u001b[0m\u001b[1;33m;\u001b[0m\u001b[1;33m\u001b[0m\u001b[1;33m\u001b[0m\u001b[0m\n",
      "\u001b[1;31mNameError\u001b[0m: name 'data' is not defined"
     ]
    }
   ],
   "source": [
    "ax=data.groupby('seasons')['meter_reading'].mean().sort_values(ascending=False).plot(kind='barh',  color='red',figsize=(8,8))\n",
    "ax.set_title('Average meter reading per season');"
   ]
  },
  {
   "cell_type": "code",
   "execution_count": 136,
   "metadata": {},
   "outputs": [],
   "source": [
    "data['month']=data['month'].replace({13:1,14:2})"
   ]
  },
  {
   "cell_type": "code",
   "execution_count": 137,
   "metadata": {},
   "outputs": [
    {
     "data": {
      "text/plain": [
       "7     744\n",
       "5     744\n",
       "12    744\n",
       "3     744\n",
       "10    744\n",
       "1     744\n",
       "8     744\n",
       "6     720\n",
       "4     720\n",
       "11    720\n",
       "9     720\n",
       "2     696\n",
       "Name: month, dtype: int64"
      ]
     },
     "execution_count": 137,
     "metadata": {},
     "output_type": "execute_result"
    }
   ],
   "source": [
    "data['month'].value_counts()"
   ]
  },
  {
   "cell_type": "code",
   "execution_count": null,
   "metadata": {},
   "outputs": [],
   "source": []
  },
  {
   "cell_type": "code",
   "execution_count": 138,
   "metadata": {},
   "outputs": [
    {
     "data": {
      "text/plain": [
       "7     744\n",
       "5     744\n",
       "12    744\n",
       "3     744\n",
       "10    744\n",
       "1     744\n",
       "8     744\n",
       "6     720\n",
       "4     720\n",
       "11    720\n",
       "9     720\n",
       "2     696\n",
       "Name: month, dtype: int64"
      ]
     },
     "execution_count": 138,
     "metadata": {},
     "output_type": "execute_result"
    }
   ],
   "source": [
    "data['month'].value_counts()"
   ]
  },
  {
   "cell_type": "code",
   "execution_count": 139,
   "metadata": {},
   "outputs": [
    {
     "data": {
      "text/plain": [
       "Text(0.5, 1.0, 'Average meter readings per month')"
      ]
     },
     "execution_count": 139,
     "metadata": {},
     "output_type": "execute_result"
    },
    {
     "data": {
      "image/png": "[encoded data removed]",
      "text/plain": [
       "<Figure size 504x504 with 1 Axes>"
      ]
     },
     "metadata": {
      "needs_background": "light"
     },
     "output_type": "display_data"
    }
   ],
   "source": [
    "ax=(data.groupby('month')['meter_reading'].mean().sort_values(ascending=False).plot(kind='barh', figsize=(7,7)))\n",
    "ax.set_title('Average meter readings per month')"
   ]
  },
  {
   "cell_type": "markdown",
   "metadata": {},
   "source": [
    "#### March recorded the highest average meter reading by far of over 10KWh whiles june and may recorded the least. \n",
    "#### It can be seen that the summer months recorded the least meter readings. This cold be due to less use of heating devices and equipment due to the hot weather\n",
    "#### Therefore, the summer months seem to be the most ideal time to measure energy efficient performances"
   ]
  },
  {
   "cell_type": "code",
   "execution_count": 140,
   "metadata": {},
   "outputs": [
    {
     "data": {
      "text/html": [
       "<div>\n",
       "<style scoped>\n",
       "    .dataframe tbody tr th:only-of-type {\n",
       "        vertical-align: middle;\n",
       "    }\n",
       "\n",
       "    .dataframe tbody tr th {\n",
       "        vertical-align: top;\n",
       "    }\n",
       "\n",
       "    .dataframe thead th {\n",
       "        text-align: right;\n",
       "    }\n",
       "</style>\n",
       "<table border=\"1\" class=\"dataframe\">\n",
       "  <thead>\n",
       "    <tr style=\"text-align: right;\">\n",
       "      <th></th>\n",
       "      <th>meter</th>\n",
       "      <th>timestamp</th>\n",
       "      <th>meter_reading</th>\n",
       "      <th>air_temperature</th>\n",
       "      <th>cloud_coverage</th>\n",
       "      <th>dew_temperature</th>\n",
       "      <th>precip_depth_1_hr</th>\n",
       "      <th>sea_level_pressure</th>\n",
       "      <th>wind_direction</th>\n",
       "      <th>wind_speed</th>\n",
       "      <th>primary_use</th>\n",
       "      <th>square_feet</th>\n",
       "      <th>hour</th>\n",
       "      <th>time_of_day</th>\n",
       "      <th>month</th>\n",
       "      <th>seasons</th>\n",
       "    </tr>\n",
       "  </thead>\n",
       "  <tbody>\n",
       "    <tr>\n",
       "      <th>0</th>\n",
       "      <td>0.0</td>\n",
       "      <td>2016-01-01</td>\n",
       "      <td>2.325</td>\n",
       "      <td>25.0</td>\n",
       "      <td>6.0</td>\n",
       "      <td>20.0</td>\n",
       "      <td>0.0</td>\n",
       "      <td>1019.7</td>\n",
       "      <td>0.0</td>\n",
       "      <td>0.0</td>\n",
       "      <td>Office</td>\n",
       "      <td>92271</td>\n",
       "      <td>0</td>\n",
       "      <td>Night</td>\n",
       "      <td>1</td>\n",
       "      <td>Winter</td>\n",
       "    </tr>\n",
       "  </tbody>\n",
       "</table>\n",
       "</div>"
      ],
      "text/plain": [
       "   meter  timestamp  meter_reading  air_temperature  cloud_coverage  \\\n",
       "0    0.0 2016-01-01          2.325             25.0             6.0   \n",
       "\n",
       "   dew_temperature  precip_depth_1_hr  sea_level_pressure  wind_direction  \\\n",
       "0             20.0                0.0              1019.7             0.0   \n",
       "\n",
       "   wind_speed primary_use  square_feet  hour time_of_day  month seasons  \n",
       "0         0.0      Office        92271     0       Night      1  Winter  "
      ]
     },
     "execution_count": 140,
     "metadata": {},
     "output_type": "execute_result"
    }
   ],
   "source": [
    "data.head(1)"
   ]
  },
  {
   "cell_type": "code",
   "execution_count": 141,
   "metadata": {},
   "outputs": [
    {
     "data": {
      "text/plain": [
       "Text(0.5, 1.0, 'Average meter readings per building primary use')"
      ]
     },
     "execution_count": 141,
     "metadata": {},
     "output_type": "execute_result"
    },
    {
     "data": {
      "image/png": "[encoded data removed]",
      "text/plain": [
       "<Figure size 576x576 with 1 Axes>"
      ]
     },
     "metadata": {},
     "output_type": "display_data"
    }
   ],
   "source": [
    "ax=data.groupby('primary_use')['meter_reading'].mean().plot(kind='pie', figsize=(8,8))\n",
    "ax.set_title('Average meter readings per building primary use')"
   ]
  },
  {
   "cell_type": "markdown",
   "metadata": {},
   "source": [
    "#### It can be seen that the buildings for entertainment or public assembly record far higher meter readings averagely due to lots of equipment and devices needed for such places. The office recorded the least"
   ]
  },
  {
   "cell_type": "code",
   "execution_count": 142,
   "metadata": {},
   "outputs": [],
   "source": [
    "#remove unneccesary columns\n",
    "data=data.drop(columns=['timestamp','square_feet'])"
   ]
  },
  {
   "cell_type": "code",
   "execution_count": 143,
   "metadata": {},
   "outputs": [
    {
     "data": {
      "text/html": [
       "<div>\n",
       "<style scoped>\n",
       "    .dataframe tbody tr th:only-of-type {\n",
       "        vertical-align: middle;\n",
       "    }\n",
       "\n",
       "    .dataframe tbody tr th {\n",
       "        vertical-align: top;\n",
       "    }\n",
       "\n",
       "    .dataframe thead th {\n",
       "        text-align: right;\n",
       "    }\n",
       "</style>\n",
       "<table border=\"1\" class=\"dataframe\">\n",
       "  <thead>\n",
       "    <tr style=\"text-align: right;\">\n",
       "      <th></th>\n",
       "      <th>meter</th>\n",
       "      <th>meter_reading</th>\n",
       "      <th>air_temperature</th>\n",
       "      <th>cloud_coverage</th>\n",
       "      <th>dew_temperature</th>\n",
       "      <th>precip_depth_1_hr</th>\n",
       "      <th>sea_level_pressure</th>\n",
       "      <th>wind_direction</th>\n",
       "      <th>wind_speed</th>\n",
       "      <th>primary_use</th>\n",
       "      <th>hour</th>\n",
       "      <th>time_of_day</th>\n",
       "      <th>month</th>\n",
       "      <th>seasons</th>\n",
       "    </tr>\n",
       "  </thead>\n",
       "  <tbody>\n",
       "    <tr>\n",
       "      <th>0</th>\n",
       "      <td>0.0</td>\n",
       "      <td>2.325</td>\n",
       "      <td>25.0</td>\n",
       "      <td>6.0</td>\n",
       "      <td>20.0</td>\n",
       "      <td>0.0</td>\n",
       "      <td>1019.7</td>\n",
       "      <td>0.0</td>\n",
       "      <td>0.0</td>\n",
       "      <td>Office</td>\n",
       "      <td>0</td>\n",
       "      <td>Night</td>\n",
       "      <td>1</td>\n",
       "      <td>Winter</td>\n",
       "    </tr>\n",
       "    <tr>\n",
       "      <th>9</th>\n",
       "      <td>0.0</td>\n",
       "      <td>2.225</td>\n",
       "      <td>24.4</td>\n",
       "      <td>4.0</td>\n",
       "      <td>21.1</td>\n",
       "      <td>-1.0</td>\n",
       "      <td>1020.2</td>\n",
       "      <td>70.0</td>\n",
       "      <td>1.5</td>\n",
       "      <td>Office</td>\n",
       "      <td>1</td>\n",
       "      <td>Night</td>\n",
       "      <td>1</td>\n",
       "      <td>Winter</td>\n",
       "    </tr>\n",
       "    <tr>\n",
       "      <th>25</th>\n",
       "      <td>0.0</td>\n",
       "      <td>2.275</td>\n",
       "      <td>22.8</td>\n",
       "      <td>2.0</td>\n",
       "      <td>21.1</td>\n",
       "      <td>0.0</td>\n",
       "      <td>1020.2</td>\n",
       "      <td>0.0</td>\n",
       "      <td>0.0</td>\n",
       "      <td>Office</td>\n",
       "      <td>2</td>\n",
       "      <td>Night</td>\n",
       "      <td>1</td>\n",
       "      <td>Winter</td>\n",
       "    </tr>\n",
       "    <tr>\n",
       "      <th>41</th>\n",
       "      <td>0.0</td>\n",
       "      <td>2.575</td>\n",
       "      <td>21.1</td>\n",
       "      <td>2.0</td>\n",
       "      <td>20.6</td>\n",
       "      <td>0.0</td>\n",
       "      <td>1020.1</td>\n",
       "      <td>0.0</td>\n",
       "      <td>0.0</td>\n",
       "      <td>Office</td>\n",
       "      <td>3</td>\n",
       "      <td>Night</td>\n",
       "      <td>1</td>\n",
       "      <td>Winter</td>\n",
       "    </tr>\n",
       "    <tr>\n",
       "      <th>57</th>\n",
       "      <td>0.0</td>\n",
       "      <td>3.075</td>\n",
       "      <td>20.0</td>\n",
       "      <td>2.0</td>\n",
       "      <td>20.0</td>\n",
       "      <td>-1.0</td>\n",
       "      <td>1020.0</td>\n",
       "      <td>250.0</td>\n",
       "      <td>2.6</td>\n",
       "      <td>Office</td>\n",
       "      <td>4</td>\n",
       "      <td>Night</td>\n",
       "      <td>1</td>\n",
       "      <td>Winter</td>\n",
       "    </tr>\n",
       "  </tbody>\n",
       "</table>\n",
       "</div>"
      ],
      "text/plain": [
       "    meter  meter_reading  air_temperature  cloud_coverage  dew_temperature  \\\n",
       "0     0.0          2.325             25.0             6.0             20.0   \n",
       "9     0.0          2.225             24.4             4.0             21.1   \n",
       "25    0.0          2.275             22.8             2.0             21.1   \n",
       "41    0.0          2.575             21.1             2.0             20.6   \n",
       "57    0.0          3.075             20.0             2.0             20.0   \n",
       "\n",
       "    precip_depth_1_hr  sea_level_pressure  wind_direction  wind_speed  \\\n",
       "0                 0.0              1019.7             0.0         0.0   \n",
       "9                -1.0              1020.2            70.0         1.5   \n",
       "25                0.0              1020.2             0.0         0.0   \n",
       "41                0.0              1020.1             0.0         0.0   \n",
       "57               -1.0              1020.0           250.0         2.6   \n",
       "\n",
       "   primary_use  hour time_of_day  month seasons  \n",
       "0       Office     0       Night      1  Winter  \n",
       "9       Office     1       Night      1  Winter  \n",
       "25      Office     2       Night      1  Winter  \n",
       "41      Office     3       Night      1  Winter  \n",
       "57      Office     4       Night      1  Winter  "
      ]
     },
     "execution_count": 143,
     "metadata": {},
     "output_type": "execute_result"
    }
   ],
   "source": [
    "data.head()"
   ]
  },
  {
   "cell_type": "code",
   "execution_count": 144,
   "metadata": {},
   "outputs": [
    {
     "data": {
      "text/html": [
       "<div>\n",
       "<style scoped>\n",
       "    .dataframe tbody tr th:only-of-type {\n",
       "        vertical-align: middle;\n",
       "    }\n",
       "\n",
       "    .dataframe tbody tr th {\n",
       "        vertical-align: top;\n",
       "    }\n",
       "\n",
       "    .dataframe thead th {\n",
       "        text-align: right;\n",
       "    }\n",
       "</style>\n",
       "<table border=\"1\" class=\"dataframe\">\n",
       "  <thead>\n",
       "    <tr style=\"text-align: right;\">\n",
       "      <th></th>\n",
       "      <th>meter</th>\n",
       "      <th>meter_reading</th>\n",
       "      <th>air_temperature</th>\n",
       "      <th>cloud_coverage</th>\n",
       "      <th>dew_temperature</th>\n",
       "      <th>precip_depth_1_hr</th>\n",
       "      <th>sea_level_pressure</th>\n",
       "      <th>wind_direction</th>\n",
       "      <th>wind_speed</th>\n",
       "      <th>hour</th>\n",
       "      <th>month</th>\n",
       "    </tr>\n",
       "  </thead>\n",
       "  <tbody>\n",
       "    <tr>\n",
       "      <th>meter</th>\n",
       "      <td>1.000000</td>\n",
       "      <td>0.206653</td>\n",
       "      <td>-0.177178</td>\n",
       "      <td>0.026615</td>\n",
       "      <td>-0.197068</td>\n",
       "      <td>0.032094</td>\n",
       "      <td>0.110414</td>\n",
       "      <td>0.067691</td>\n",
       "      <td>0.036972</td>\n",
       "      <td>-8.216752e-04</td>\n",
       "      <td>-3.244803e-01</td>\n",
       "    </tr>\n",
       "    <tr>\n",
       "      <th>meter_reading</th>\n",
       "      <td>0.206653</td>\n",
       "      <td>1.000000</td>\n",
       "      <td>0.015170</td>\n",
       "      <td>0.034610</td>\n",
       "      <td>0.038791</td>\n",
       "      <td>-0.002063</td>\n",
       "      <td>-0.031567</td>\n",
       "      <td>-0.024077</td>\n",
       "      <td>0.020463</td>\n",
       "      <td>-1.657806e-03</td>\n",
       "      <td>-1.920826e-02</td>\n",
       "    </tr>\n",
       "    <tr>\n",
       "      <th>air_temperature</th>\n",
       "      <td>-0.177178</td>\n",
       "      <td>0.015170</td>\n",
       "      <td>1.000000</td>\n",
       "      <td>0.169206</td>\n",
       "      <td>0.728525</td>\n",
       "      <td>0.000941</td>\n",
       "      <td>-0.318407</td>\n",
       "      <td>-0.213780</td>\n",
       "      <td>0.083762</td>\n",
       "      <td>3.389645e-01</td>\n",
       "      <td>2.866563e-01</td>\n",
       "    </tr>\n",
       "    <tr>\n",
       "      <th>cloud_coverage</th>\n",
       "      <td>0.026615</td>\n",
       "      <td>0.034610</td>\n",
       "      <td>0.169206</td>\n",
       "      <td>1.000000</td>\n",
       "      <td>0.250355</td>\n",
       "      <td>0.121193</td>\n",
       "      <td>-0.243803</td>\n",
       "      <td>-0.024017</td>\n",
       "      <td>0.145641</td>\n",
       "      <td>1.107964e-01</td>\n",
       "      <td>-9.904292e-02</td>\n",
       "    </tr>\n",
       "    <tr>\n",
       "      <th>dew_temperature</th>\n",
       "      <td>-0.197068</td>\n",
       "      <td>0.038791</td>\n",
       "      <td>0.728525</td>\n",
       "      <td>0.250355</td>\n",
       "      <td>1.000000</td>\n",
       "      <td>0.067501</td>\n",
       "      <td>-0.376032</td>\n",
       "      <td>-0.271175</td>\n",
       "      <td>-0.169151</td>\n",
       "      <td>-5.030215e-02</td>\n",
       "      <td>3.482850e-01</td>\n",
       "    </tr>\n",
       "    <tr>\n",
       "      <th>precip_depth_1_hr</th>\n",
       "      <td>0.032094</td>\n",
       "      <td>-0.002063</td>\n",
       "      <td>0.000941</td>\n",
       "      <td>0.121193</td>\n",
       "      <td>0.067501</td>\n",
       "      <td>1.000000</td>\n",
       "      <td>-0.082836</td>\n",
       "      <td>0.010576</td>\n",
       "      <td>0.044009</td>\n",
       "      <td>3.112470e-02</td>\n",
       "      <td>-1.068454e-02</td>\n",
       "    </tr>\n",
       "    <tr>\n",
       "      <th>sea_level_pressure</th>\n",
       "      <td>0.110414</td>\n",
       "      <td>-0.031567</td>\n",
       "      <td>-0.318407</td>\n",
       "      <td>-0.243803</td>\n",
       "      <td>-0.376032</td>\n",
       "      <td>-0.082836</td>\n",
       "      <td>1.000000</td>\n",
       "      <td>-0.103177</td>\n",
       "      <td>-0.146469</td>\n",
       "      <td>-6.080094e-02</td>\n",
       "      <td>3.696917e-02</td>\n",
       "    </tr>\n",
       "    <tr>\n",
       "      <th>wind_direction</th>\n",
       "      <td>0.067691</td>\n",
       "      <td>-0.024077</td>\n",
       "      <td>-0.213780</td>\n",
       "      <td>-0.024017</td>\n",
       "      <td>-0.271175</td>\n",
       "      <td>0.010576</td>\n",
       "      <td>-0.103177</td>\n",
       "      <td>1.000000</td>\n",
       "      <td>0.226082</td>\n",
       "      <td>4.370205e-02</td>\n",
       "      <td>-8.837154e-02</td>\n",
       "    </tr>\n",
       "    <tr>\n",
       "      <th>wind_speed</th>\n",
       "      <td>0.036972</td>\n",
       "      <td>0.020463</td>\n",
       "      <td>0.083762</td>\n",
       "      <td>0.145641</td>\n",
       "      <td>-0.169151</td>\n",
       "      <td>0.044009</td>\n",
       "      <td>-0.146469</td>\n",
       "      <td>0.226082</td>\n",
       "      <td>1.000000</td>\n",
       "      <td>2.820501e-01</td>\n",
       "      <td>-6.032382e-02</td>\n",
       "    </tr>\n",
       "    <tr>\n",
       "      <th>hour</th>\n",
       "      <td>-0.000822</td>\n",
       "      <td>-0.001658</td>\n",
       "      <td>0.338965</td>\n",
       "      <td>0.110796</td>\n",
       "      <td>-0.050302</td>\n",
       "      <td>0.031125</td>\n",
       "      <td>-0.060801</td>\n",
       "      <td>0.043702</td>\n",
       "      <td>0.282050</td>\n",
       "      <td>1.000000e+00</td>\n",
       "      <td>-1.523676e-19</td>\n",
       "    </tr>\n",
       "    <tr>\n",
       "      <th>month</th>\n",
       "      <td>-0.324480</td>\n",
       "      <td>-0.019208</td>\n",
       "      <td>0.286656</td>\n",
       "      <td>-0.099043</td>\n",
       "      <td>0.348285</td>\n",
       "      <td>-0.010685</td>\n",
       "      <td>0.036969</td>\n",
       "      <td>-0.088372</td>\n",
       "      <td>-0.060324</td>\n",
       "      <td>-1.523676e-19</td>\n",
       "      <td>1.000000e+00</td>\n",
       "    </tr>\n",
       "  </tbody>\n",
       "</table>\n",
       "</div>"
      ],
      "text/plain": [
       "                       meter  meter_reading  air_temperature  cloud_coverage  \\\n",
       "meter               1.000000       0.206653        -0.177178        0.026615   \n",
       "meter_reading       0.206653       1.000000         0.015170        0.034610   \n",
       "air_temperature    -0.177178       0.015170         1.000000        0.169206   \n",
       "cloud_coverage      0.026615       0.034610         0.169206        1.000000   \n",
       "dew_temperature    -0.197068       0.038791         0.728525        0.250355   \n",
       "precip_depth_1_hr   0.032094      -0.002063         0.000941        0.121193   \n",
       "sea_level_pressure  0.110414      -0.031567        -0.318407       -0.243803   \n",
       "wind_direction      0.067691      -0.024077        -0.213780       -0.024017   \n",
       "wind_speed          0.036972       0.020463         0.083762        0.145641   \n",
       "hour               -0.000822      -0.001658         0.338965        0.110796   \n",
       "month              -0.324480      -0.019208         0.286656       -0.099043   \n",
       "\n",
       "                    dew_temperature  precip_depth_1_hr  sea_level_pressure  \\\n",
       "meter                     -0.197068           0.032094            0.110414   \n",
       "meter_reading              0.038791          -0.002063           -0.031567   \n",
       "air_temperature            0.728525           0.000941           -0.318407   \n",
       "cloud_coverage             0.250355           0.121193           -0.243803   \n",
       "dew_temperature            1.000000           0.067501           -0.376032   \n",
       "precip_depth_1_hr          0.067501           1.000000           -0.082836   \n",
       "sea_level_pressure        -0.376032          -0.082836            1.000000   \n",
       "wind_direction            -0.271175           0.010576           -0.103177   \n",
       "wind_speed                -0.169151           0.044009           -0.146469   \n",
       "hour                      -0.050302           0.031125           -0.060801   \n",
       "month                      0.348285          -0.010685            0.036969   \n",
       "\n",
       "                    wind_direction  wind_speed          hour         month  \n",
       "meter                     0.067691    0.036972 -8.216752e-04 -3.244803e-01  \n",
       "meter_reading            -0.024077    0.020463 -1.657806e-03 -1.920826e-02  \n",
       "air_temperature          -0.213780    0.083762  3.389645e-01  2.866563e-01  \n",
       "cloud_coverage           -0.024017    0.145641  1.107964e-01 -9.904292e-02  \n",
       "dew_temperature          -0.271175   -0.169151 -5.030215e-02  3.482850e-01  \n",
       "precip_depth_1_hr         0.010576    0.044009  3.112470e-02 -1.068454e-02  \n",
       "sea_level_pressure       -0.103177   -0.146469 -6.080094e-02  3.696917e-02  \n",
       "wind_direction            1.000000    0.226082  4.370205e-02 -8.837154e-02  \n",
       "wind_speed                0.226082    1.000000  2.820501e-01 -6.032382e-02  \n",
       "hour                      0.043702    0.282050  1.000000e+00 -1.523676e-19  \n",
       "month                    -0.088372   -0.060324 -1.523676e-19  1.000000e+00  "
      ]
     },
     "execution_count": 144,
     "metadata": {},
     "output_type": "execute_result"
    }
   ],
   "source": [
    "data.corr()"
   ]
  },
  {
   "cell_type": "markdown",
   "metadata": {},
   "source": [
    "#### The meter types has the highest correlation with the meter reading column, the rest have very little correlation\n",
    "\n",
    "\n"
   ]
  },
  {
   "cell_type": "code",
   "execution_count": 145,
   "metadata": {},
   "outputs": [],
   "source": [
    "#data.to_csv('data_model.csv')"
   ]
  }
 ],
 "metadata": {
  "kernelspec": {
   "display_name": "Python 3",
   "language": "python",
   "name": "python3"
  },
  "language_info": {
   "codemirror_mode": {
    "name": "ipython",
    "version": 3
   },
   "file_extension": ".py",
   "mimetype": "text/x-python",
   "name": "python",
   "nbconvert_exporter": "python",
   "pygments_lexer": "ipython3",
   "version": "3.7.6"
  }
 },
 "nbformat": 4,
 "nbformat_minor": 4
}
